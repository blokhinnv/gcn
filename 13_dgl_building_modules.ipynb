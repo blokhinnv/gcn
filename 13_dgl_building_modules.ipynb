{
 "cells": [
  {
   "cell_type": "code",
   "execution_count": 12,
   "source": [
    "import torch\r\n",
    "import torch.nn as nn\r\n",
    "import torch.nn.functional as F\r\n",
    "\r\n",
    "import dgl\r\n",
    "from dgl.utils import expand_as_pair\r\n",
    "import dgl.function as fn\r\n",
    "from dgl.utils import check_eq_shape"
   ],
   "outputs": [],
   "metadata": {}
  },
  {
   "cell_type": "markdown",
   "source": [
    "Любая НС модель состоит из модулей. Модули в `DGL` могут быть реализованы с использование фреймворков `Pytorch`, `MXNet` или `TensorFlow`. Описание модуля и работа с ним остаются такими, как предполагает соотвествующий фреймворк. Ключевое различие состоитв использование операций рассылки сообщений, которые реализованы в `DGL`."
   ],
   "metadata": {}
  },
  {
   "cell_type": "markdown",
   "source": [
    "Построение любого модуля в `Pytorch` состоит из 2 частей: описание метода `__init__` и описание метода `forward`.\r\n",
    "\r\n",
    "В методе `__init__` необходимо:\r\n",
    "1. Определить гиперпараметры модуля. Сюда относятся, среди прочего, размерности данных: размерность входа, скрытых слоев и выхода. Кроме этого существуют специфичные для GNN вещи, например, способ агрегации сообщений от соседей (`mean`, `sum` и т.д.) \r\n",
    "2. Зарегистрировать подмодули и настраиваемые параметры. Набор модулей в сети может меняться в зависимости от гиперпараметров.\r\n",
    "3. Сбросить состояние (при необходимости): например, инициализировать веса обучаемых модулей."
   ],
   "metadata": {}
  },
  {
   "cell_type": "markdown",
   "source": [
    "Метод `forward` выполняет рассылку сообщений и расчеты. В отличие от стандартных моделей из `Pytorch`, в `DGL` `forward` принимает на вход еще и граф.\r\n",
    "\r\n",
    "В методе `forward` необходимо:\r\n",
    "1. Провести провести (граф, типы и т.д.). Типичный пример: проверка, что в графе нет узлов с 0 in-degree. В противном случае сообщения к ним не поступают и функция свертки будет возвращать нули.\r\n",
    "2. Выполнить рассылку сообщений. В идеале модуль должен уметь работать с разными типами входных графов: homo- и heterogenious, subgraph blocks и т.д.\r\n",
    "3. Обновить фичи (узлов или ребер)"
   ],
   "metadata": {}
  },
  {
   "cell_type": "markdown",
   "source": [
    "В качестве примера рассматриваем SAGE:\r\n",
    "\r\n",
    "![](./assets/img/13_dgl_building_modules_sage.png)"
   ],
   "metadata": {}
  },
  {
   "cell_type": "code",
   "execution_count": 41,
   "source": [
    "class SAGEConv(nn.Module):\r\n",
    "    def __init__(self, n_inputs: int, n_outputs: int, aggregator_type: str, \r\n",
    "                 bias: bool = True, norm: callable = None, activation: callable = None):\r\n",
    "        super().__init__()\r\n",
    "        \r\n",
    "        self.n_inputs = n_inputs\r\n",
    "        self._in_src_feats, self._in_dst_feats = expand_as_pair(n_inputs)\r\n",
    "        self.n_outputs = n_outputs\r\n",
    "        self._aggre_type = aggregator_type\r\n",
    "        self.norm = norm\r\n",
    "        self.bias = bias\r\n",
    "        self.activation = activation\r\n",
    "        self._set_modules()\r\n",
    "        self._reset_parameters()\r\n",
    "    \r\n",
    "    def _set_modules(self):\r\n",
    "        if self._aggre_type != 'mean':\r\n",
    "            raise KeyError('Aggregator type {} not supported.'.format(aggregator_type))\r\n",
    "\r\n",
    "        self.fc_self = nn.Linear(self._in_dst_feats, self.n_outputs, bias=self.bias)\r\n",
    "        self.fc_neigh = nn.Linear(self._in_src_feats, self.n_outputs, bias=self.bias)\r\n",
    "\r\n",
    "    def _reset_parameters(self):\r\n",
    "        gain = nn.init.calculate_gain('relu')\r\n",
    "        nn.init.xavier_uniform_(self.fc_self.weight, gain=gain)\r\n",
    "        nn.init.xavier_uniform_(self.fc_neigh.weight, gain=gain)\r\n",
    "\r\n",
    "    def forward(self, G, features):\r\n",
    "        # если граф однородный, то src_nodes = dst_nodes = all_nodes\r\n",
    "        # если граф неоднородный, то его можно разбить на несколько двудольных графов\r\n",
    "        # если обучение проводится на минибатчах, то работа будет вестись с подграфом типа block\r\n",
    "        # expand_as_pair разибвает фичи на 2 тензора в зависимости от типа графа\r\n",
    "        # после этого с ними можно работать, не обращая внимания на исходный тип графа\r\n",
    "        feat_src, feat_dst = expand_as_pair(features, G)\r\n",
    "        with G.local_scope():\r\n",
    "            # aggregation\r\n",
    "            # для однородных графов G.srcdata = G.dstdata = G.ndata\r\n",
    "            G.srcdata['h'] = feat_src\r\n",
    "            G.update_all(fn.copy_u('h', 'm'), fn.mean('m', 'h_n'))\r\n",
    "            h_n = G.dstdata['h_n']\r\n",
    "\r\n",
    "            # разбивка оригинальной формулы на 2 слагаемых\r\n",
    "            out = self.fc_self(feat_dst) + self.fc_neigh(h_n)\r\n",
    "\r\n",
    "            # активация + нормализация\r\n",
    "            if self.activation is not None:\r\n",
    "                out = self.activation(out)\r\n",
    "\r\n",
    "            if self.norm is not None:\r\n",
    "                out = self.norm(out)\r\n",
    "\r\n",
    "            return out"
   ],
   "outputs": [],
   "metadata": {}
  },
  {
   "cell_type": "code",
   "execution_count": 42,
   "source": [
    "from utils import create_edge_pred_graph\r\n",
    "\r\n",
    "G = create_edge_pred_graph(n_nodes=100, n_edges=1000,\r\n",
    "                           n_node_features=5, n_edge_features=2)"
   ],
   "outputs": [],
   "metadata": {}
  },
  {
   "cell_type": "code",
   "execution_count": 44,
   "source": [
    "conv = SAGEConv(n_inputs=5, n_outputs=7, aggregator_type='mean', \r\n",
    "                activation=F.relu)\r\n",
    "\r\n",
    "out = conv(G, G.ndata['feature'])\r\n",
    "out.shape"
   ],
   "outputs": [
    {
     "output_type": "execute_result",
     "data": {
      "text/plain": [
       "torch.Size([100, 7])"
      ]
     },
     "metadata": {},
     "execution_count": 44
    }
   ],
   "metadata": {}
  },
  {
   "cell_type": "code",
   "execution_count": 56,
   "source": [
    "# созданный модуль корректно обрабатывает работу с блоками\r\n",
    "sampler = dgl.dataloading.MultiLayerFullNeighborSampler(n_layers=1)\r\n",
    "train_ids = torch.arange(G.num_nodes())\r\n",
    "dataloader = dgl.dataloading.NodeDataLoader(G, train_ids, sampler,\r\n",
    "                                            batch_size=32, shuffle=True,\r\n",
    "                                            drop_last=False)\r\n",
    "\r\n",
    "input_nodes, output_nodes, blocks = next(iter(dataloader))  \r\n",
    "block = blocks[0] \r\n",
    "block_f = block.srcdata['feature']\r\n",
    "out = conv(block, block_f)\r\n",
    "out.shape"
   ],
   "outputs": [
    {
     "output_type": "execute_result",
     "data": {
      "text/plain": [
       "torch.Size([32, 7])"
      ]
     },
     "metadata": {},
     "execution_count": 56
    }
   ],
   "metadata": {}
  },
  {
   "cell_type": "code",
   "execution_count": 55,
   "source": [],
   "outputs": [
    {
     "output_type": "execute_result",
     "data": {
      "text/plain": [
       "torch.Size([32, 7])"
      ]
     },
     "metadata": {},
     "execution_count": 55
    }
   ],
   "metadata": {}
  },
  {
   "cell_type": "code",
   "execution_count": null,
   "source": [],
   "outputs": [],
   "metadata": {}
  }
 ],
 "metadata": {
  "orig_nbformat": 4,
  "language_info": {
   "name": "python",
   "version": "3.8.8",
   "mimetype": "text/x-python",
   "codemirror_mode": {
    "name": "ipython",
    "version": 3
   },
   "pygments_lexer": "ipython3",
   "nbconvert_exporter": "python",
   "file_extension": ".py"
  },
  "kernelspec": {
   "name": "python3",
   "display_name": "Python 3.8.8 64-bit ('gcn': conda)"
  },
  "interpreter": {
   "hash": "b06e6ab994fc15ce23aa05c7ffef0f9130e5f92563bdff97ffc0fa050e903d35"
  }
 },
 "nbformat": 4,
 "nbformat_minor": 2
}