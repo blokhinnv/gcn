{
 "cells": [
  {
   "cell_type": "code",
   "execution_count": 1,
   "metadata": {},
   "outputs": [
    {
     "name": "stderr",
     "output_type": "stream",
     "text": [
      "Using backend: pytorch\n"
     ]
    }
   ],
   "source": [
    "import numpy as np\r\n",
    "import torch\r\n",
    "\r\n",
    "import dgl\r\n",
    "\r\n",
    "import urllib.request\r\n",
    "import pandas as pd"
   ]
  },
  {
   "cell_type": "markdown",
   "metadata": {},
   "source": [
    "# Графы в `DGL`\r\n",
    "\r\n",
    "В `DGL` граф - объект класс `DGLGraph`. Для его создания нужно указать:\r\n",
    "* кол-во вершин (узлы нумеруются, начиная с 0; кол-во вершин можно не задавать, если они все перечислены в списках для создания ребер)\r\n",
    "* список начальных узлов для ребер\r\n",
    "* список конечных узлов для ребер\r\n",
    "    * узлы нумеруются, начиная с 0\r\n",
    "\r\n",
    "`DGLGraph` всегда ориентированный. Сделать граф неориентированным можно, воспользовавшись специальным преобразованием.\r\n",
    "\r\n",
    "На узлах (`.ndata`) и ребрах (`.edata`) могут храниться фичи:\r\n",
    "* только числовые тензоры\r\n",
    "* атрибуты всех узлов (ребер) должны иметь одинаковый размер\r\n",
    "* каждая фича имеет уникальное имя (фичи узлов и ребер могут иметь одинаковые имена)\r\n",
    "* первая размерность тензора фичей должна быть равна кол-ву узлов (ребер)\r\n",
    "* срез по строкам возвращает фичи одного узла (ребра)\r\n",
    "\r\n",
    "[DGLGraph API](https://docs.dgl.ai/api/python/dgl.DGLGraph.html#dgl.DGLGraph)"
   ]
  },
  {
   "cell_type": "code",
   "execution_count": 4,
   "metadata": {},
   "outputs": [
    {
     "name": "stdout",
     "output_type": "stream",
     "text": [
      "Узлы:  tensor([0, 1, 2, 3, 4, 5])\n",
      "Ребра: (tensor([0, 0, 0, 0, 0]), tensor([1, 2, 3, 4, 5]))\n",
      "Ребра (вместе с ID): (tensor([0, 0, 0, 0, 0]), tensor([1, 2, 3, 4, 5]), tensor([0, 1, 2, 3, 4]))\n",
      "Фичи узлов:  {'x': tensor([[ 0.7319,  1.8008, -1.1803],\n",
      "        [-0.0423,  0.5240,  1.6326],\n",
      "        [ 0.8628, -0.6774,  0.1378],\n",
      "        [-0.4784,  2.1496,  0.3553],\n",
      "        [ 1.2690, -0.1963,  0.1923],\n",
      "        [ 0.0386,  0.1960, -0.5454]]), 'y': tensor([1, 0, 1, 1, 0, 1])}\n",
      "Кол-во узлов: 6\n",
      "Кол-во ребер: 5\n",
      "In-degree: tensor([0, 1, 1, 1, 1, 1])\n"
     ]
    }
   ],
   "source": [
    "G = dgl.graph(([0, 0, 0, 0, 0], [1, 2, 3, 4, 5]), num_nodes=6)\r\n",
    "G.ndata['x'] = torch.randn(6, 3)\r\n",
    "G.ndata['y'] = torch.randint(0, 2, (6, ))\r\n",
    "\r\n",
    "print('Узлы: ', G.nodes())\r\n",
    "print('Ребра:', G.edges())\r\n",
    "print('Ребра (вместе с ID):', G.edges(form='all'))\r\n",
    "print('Фичи узлов: ', G.ndata)\r\n",
    "\r\n",
    "print(\"Кол-во узлов:\", G.num_nodes())\r\n",
    "print(\"Кол-во ребер:\", G.num_edges())\r\n",
    "print(\"In-degree:\", G.in_degrees())\r\n"
   ]
  },
  {
   "cell_type": "markdown",
   "metadata": {},
   "source": [
    "`DGL` может использовать 32 или 64 (по умолчанию) целые для хранения индексов. Если ребер (узлов) достаточно мало, имеет смысл работать с 32-разрядными целыми."
   ]
  },
  {
   "cell_type": "code",
   "execution_count": 8,
   "metadata": {},
   "outputs": [
    {
     "name": "stdout",
     "output_type": "stream",
     "text": [
      "torch.int64\n",
      "torch.int32\n",
      "torch.int32\n"
     ]
    }
   ],
   "source": [
    "G = dgl.graph(([0, 0, 0], [1, 2, 3]))\r\n",
    "print(G.idtype)\r\n",
    "G = dgl.graph(([0, 0, 0], [1, 2, 3]), idtype=torch.int32)\r\n",
    "print(G.idtype)\r\n",
    "G = dgl.graph(([0, 0, 0], [1, 2, 3])).int()\r\n",
    "print(G.idtype)"
   ]
  },
  {
   "cell_type": "markdown",
   "metadata": {},
   "source": [
    "`DGLGraph` может быть создан на основе внешних источников:\r\n",
    "* `networkx` (с случае неорграфов автоматически добавит обратные ребра)\r\n",
    "* `scipy`\r\n",
    "* файлы с диска\r\n",
    "\r\n",
    "Для сохранения и загрузки существуют `dgl.save_graphs` и `dgl.load_graphs`"
   ]
  },
  {
   "cell_type": "code",
   "execution_count": 17,
   "metadata": {},
   "outputs": [
    {
     "data": {
      "text/plain": [
       "Graph(num_nodes=5, num_edges=8,\n",
       "      ndata_schemes={}\n",
       "      edata_schemes={})"
      ]
     },
     "execution_count": 17,
     "metadata": {},
     "output_type": "execute_result"
    }
   ],
   "source": [
    "import networkx as nx\r\n",
    "\r\n",
    "H = nx.path_graph(5)\r\n",
    "dgl.from_networkx(H)"
   ]
  },
  {
   "cell_type": "markdown",
   "metadata": {},
   "source": [
    "`DGL` предоставляет различные преобразования:\r\n",
    "* извлечение подграфа (по узлам или по связям)\r\n",
    "    * узлы в подграфах перенумерованы; для поиска соответствующего узла (связи) в исходном графе используем ключ `dgl.NID` (`dgl.EID`)\r\n",
    "    * подграф сохраняет фичи исходных узлов (ребер)\r\n",
    "* добавление обратных связей\r\n",
    "* ..."
   ]
  },
  {
   "cell_type": "code",
   "execution_count": 25,
   "metadata": {},
   "outputs": [
    {
     "name": "stdout",
     "output_type": "stream",
     "text": [
      "Соответствие узлов: \n",
      "0 -> 0\n",
      "1 -> 1\n",
      "2 -> 3\n",
      "Фичи узлов:  {'x': tensor([[-0.4655,  0.4201, -1.2988],\n",
      "        [ 0.2064,  0.9539, -0.6248],\n",
      "        [ 0.2421,  0.7596,  0.1702]]), 'y': tensor([1, 1, 0]), '_ID': tensor([0, 1, 3])}\n"
     ]
    }
   ],
   "source": [
    "SG1 = G.subgraph([0, 1, 3]) # подграф на основе узлов 0, 1 и 3\r\n",
    "SG2 = G.edge_subgraph([0, 1, 3])  # подграф на основе ребер 0, 1 и 3\r\n",
    "\r\n",
    "print(\"Соответствие узлов: \")\r\n",
    "print(*[f'{x} -> {y}' for x, y in zip(SG1.nodes(), SG1.ndata[dgl.NID])], sep='\\n')\r\n",
    "\r\n",
    "print('Фичи узлов: ', SG1.ndata)\r\n"
   ]
  },
  {
   "cell_type": "code",
   "execution_count": 16,
   "metadata": {},
   "outputs": [
    {
     "name": "stdout",
     "output_type": "stream",
     "text": [
      "H.edges()=(tensor([0, 0, 0, 0, 0, 1, 2, 3, 4, 5]), tensor([1, 2, 3, 4, 5, 0, 0, 0, 0, 0]))\n",
      "J.edges()=(tensor([0, 0, 0, 0, 0, 1, 2, 3, 4, 5]), tensor([1, 2, 3, 4, 5, 0, 0, 0, 0, 0]))\n"
     ]
    }
   ],
   "source": [
    "# делаем граф неориентированным\r\n",
    "G = dgl.graph(([0, 0, 0, 0, 0], [1, 2, 3, 4, 5]), num_nodes=6)\r\n",
    "H = dgl.add_reverse_edges(G)\r\n",
    "print(f'{H.edges()=}')\r\n",
    "# to_bidirected работает только с простыми графами\r\n",
    "J = dgl.to_bidirected(G)\r\n",
    "print(f'{J.edges()=}')"
   ]
  },
  {
   "cell_type": "markdown",
   "metadata": {},
   "source": []
  },
  {
   "cell_type": "markdown",
   "metadata": {},
   "source": [
    "## Типы графов в `DGL`:\r\n",
    "* мультиграф: более 1 ребра между одной парой узлов\r\n",
    "* heterogenious graph (heterograph): может иметь узлы и ребра разных типов"
   ]
  },
  {
   "cell_type": "code",
   "execution_count": 29,
   "metadata": {},
   "outputs": [
    {
     "data": {
      "text/plain": [
       "True"
      ]
     },
     "execution_count": 29,
     "metadata": {},
     "output_type": "execute_result"
    }
   ],
   "source": [
    "G = dgl.graph((torch.tensor([0, 1, 1]), torch.tensor([1, 3, 3])))\r\n",
    "G.is_multigraph"
   ]
  },
  {
   "cell_type": "code",
   "execution_count": 18,
   "metadata": {},
   "outputs": [
    {
     "name": "stdout",
     "output_type": "stream",
     "text": [
      "Graph(num_nodes={'game': 5, 'topic': 3, 'user': 4},\n",
      "      num_edges={('user', 'follows', 'topic'): 2, ('user', 'follows', 'user'): 2, ('user', 'plays', 'game'): 2},\n",
      "      metagraph=[('user', 'topic', 'follows'), ('user', 'user', 'follows'), ('user', 'game', 'plays')])\n",
      "['game', 'topic', 'user']\n",
      "['follows', 'follows', 'plays']\n",
      "[('user', 'follows', 'topic'), ('user', 'follows', 'user'), ('user', 'plays', 'game')]\n"
     ]
    }
   ],
   "source": [
    "data_dict = {\r\n",
    "    ('user', 'follows', 'user'): (torch.tensor([0, 1]), torch.tensor([1, 2])),\r\n",
    "    ('user', 'follows', 'topic'): (torch.tensor([1, 1]), torch.tensor([1, 2])),\r\n",
    "    ('user', 'plays', 'game'): (torch.tensor([0, 3]), torch.tensor([3, 4]))\r\n",
    "}\r\n",
    "# если не передать аргумент `num_nodes_dict`, то найдет макс. индекс узла I типа T и будет считать, что\r\n",
    "# есть I+1 узел этого типа (даже если нет ребер)\r\n",
    "G = dgl.heterograph(data_dict)\r\n",
    "print(G)\r\n",
    "print(G.ntypes)\r\n",
    "print(G.etypes)\r\n",
    "print(G.canonical_etypes)\r\n"
   ]
  },
  {
   "cell_type": "code",
   "execution_count": 21,
   "metadata": {},
   "outputs": [
    {
     "name": "stdout",
     "output_type": "stream",
     "text": [
      "12\n",
      "5\n",
      "NodeSpace(data={'length': tensor([[14],\n",
      "        [19],\n",
      "        [16],\n",
      "        [10],\n",
      "        [14]])})\n"
     ]
    }
   ],
   "source": [
    "# При работе с гетерографом интерфейс доступа к фичам немного меняется\r\n",
    "# Если граф содержит только 1 тип узлов (ребер), то можно пользоваться .ndata (.edata)\r\n",
    "print(G.num_nodes())\r\n",
    "print(G.num_nodes('game'))\r\n",
    "G.nodes['game'].data['length'] = torch.randint(10, 20, size=(G.num_nodes('game'), 1))\r\n",
    "print(G.nodes['game'])"
   ]
  },
  {
   "cell_type": "markdown",
   "metadata": {},
   "source": [
    "Из гетерографов также можно создавать подграфы (с указанием типа интересующего отношения). Свойства оригинальных узлов (ребер) будут сохранены"
   ]
  },
  {
   "cell_type": "code",
   "execution_count": 25,
   "metadata": {},
   "outputs": [
    {
     "name": "stdout",
     "output_type": "stream",
     "text": [
      "Graph(num_nodes={'game': 5, 'user': 4},\n",
      "      num_edges={('user', 'plays', 'game'): 2},\n",
      "      metagraph=[('user', 'game', 'plays')])\n",
      "defaultdict(<class 'dict'>, {'length': {'game': tensor([[14],\n",
      "        [19],\n",
      "        [16],\n",
      "        [10],\n",
      "        [14]])}})\n"
     ]
    }
   ],
   "source": [
    "G1 = dgl.edge_type_subgraph(G, [('user', 'plays', 'game')])\r\n",
    "# если название отношения уникально идентифицирует тройку, достаточно использовать\r\n",
    "# только его\r\n",
    "# G1 = dgl.edge_type_subgraph(G, ['plays'])\r\n",
    "print(G1)\r\n",
    "print(G1.ndata)"
   ]
  },
  {
   "cell_type": "markdown",
   "metadata": {},
   "source": [
    "При помощи `dgl.to_homogeniouts` можно получить однородный граф, в котором:\r\n",
    "1. Узлы (ребра) будут перенумерованы с 0\r\n",
    "2. Фичи с разных типов узлов (ребер) будут объединены (по умолчанию не делает этого, нужно явно попросить)"
   ]
  },
  {
   "cell_type": "code",
   "execution_count": 30,
   "metadata": {},
   "outputs": [
    {
     "name": "stdout",
     "output_type": "stream",
     "text": [
      "{'hv': tensor([[1.],\n",
      "        [1.],\n",
      "        [1.],\n",
      "        [0.],\n",
      "        [0.],\n",
      "        [0.]]), '_ID': tensor([0, 1, 2, 0, 1, 2]), '_TYPE': tensor([0, 0, 0, 1, 1, 1])}\n"
     ]
    }
   ],
   "source": [
    "G = dgl.heterograph({\r\n",
    "   ('drug', 'interacts', 'drug'): (torch.tensor([0, 1]), torch.tensor([1, 2])),\r\n",
    "   ('drug', 'treats', 'disease'): (torch.tensor([1]), torch.tensor([2]))})\r\n",
    "\r\n",
    "G.nodes['drug'].data['hv'] = torch.zeros(3, 1)\r\n",
    "G.nodes['disease'].data['hv'] = torch.ones(3, 1)\r\n",
    "\r\n",
    "HG = dgl.to_homogeneous(G, ndata=['hv'])\r\n",
    "print(HG.ndata)"
   ]
  },
  {
   "cell_type": "markdown",
   "metadata": {},
   "source": [
    "`DGLGraph` может быть перенесен на GPU в стиле `torch` при помощи метода `to`.\r\n",
    "Графовая структура вместе с фичами окажется на GPU. Любая операция с таким графом будет проведена на GPU. Все тензоры, используемые в качестве аргументов, тоже должны быть на GPU; все возвращаемые тензоры (графы) будут на GPU."
   ]
  },
  {
   "cell_type": "code",
   "execution_count": 34,
   "metadata": {},
   "outputs": [
    {
     "data": {
      "text/plain": [
       "device(type='cuda', index=0)"
      ]
     },
     "execution_count": 34,
     "metadata": {},
     "output_type": "execute_result"
    }
   ],
   "source": [
    "G_gpu = G.to('cuda')\r\n",
    "G_gpu.device"
   ]
  },
  {
   "cell_type": "markdown",
   "metadata": {},
   "source": [
    "# Датасеты\r\n",
    "\r\n",
    "Чтобы создать кастомный датасет наследуемся от `dgl.data.DGLDataset` и реализуем (обязательно) три метода:\r\n",
    "* `__getitem__`\r\n",
    "* `__len__`\r\n",
    "* `process` (загрузка и обработка данных с диска)\r\n",
    "\r\n",
    "Кроме этого авторы рекомендуют реализовать методы для сохранения и загрузки данных, т.к. обычно препроцессинг занимает много времени.\r\n",
    "\r\n",
    "Цель датасета - предоставить стандартный и удобный способ хранить графовые данные (структуру графа, фичи, маски и любую другую информацию типа кол-ва классов). Все операции типа сэмплинга, разделения графа, нормализации фичей и т.д. выходят за рамки датасета.\r\n",
    "\r\n",
    "Существует набор `Open Graph Benchmark (OGB)`, содержащий набор датасетов для различных задач. Официальный пакет `ogb` предоставляет возможность загрузить датасеты, используя `ogb.graphproppred.DglGraphPropPredDataset`"
   ]
  },
  {
   "cell_type": "code",
   "execution_count": 5,
   "metadata": {},
   "outputs": [
    {
     "name": "stdout",
     "output_type": "stream",
     "text": [
      "   Id    Club  Age\n",
      "0   0  Mr. Hi   44\n",
      "1   1  Mr. Hi   37\n",
      "2   2  Mr. Hi   37\n",
      "3   3  Mr. Hi   40\n",
      "4   4  Mr. Hi   30\n",
      "   Src  Dst    Weight\n",
      "0    0    1  0.043591\n",
      "1    0    2  0.282119\n",
      "2    0    3  0.370293\n",
      "3    0    4  0.730570\n",
      "4    0    5  0.821187\n"
     ]
    }
   ],
   "source": [
    "urllib.request.urlretrieve(\r\n",
    "    'https://data.dgl.ai/tutorial/dataset/members.csv', './assets/data/members.csv')\r\n",
    "urllib.request.urlretrieve(\r\n",
    "    'https://data.dgl.ai/tutorial/dataset/interactions.csv', './assets/data/interactions.csv')\r\n",
    "\r\n",
    "members = pd.read_csv('./assets/data/members.csv')\r\n",
    "print(members.head())\r\n",
    "\r\n",
    "interactions = pd.read_csv('./assets/data/interactions.csv')\r\n",
    "print(interactions.head())\r\n"
   ]
  },
  {
   "cell_type": "code",
   "execution_count": 11,
   "metadata": {},
   "outputs": [],
   "source": [
    "class KarateDataset(dgl.data.DGLDataset):\r\n",
    "    def __init__(self):\r\n",
    "        super().__init__(name='karate_club')\r\n",
    "\r\n",
    "    def process(self):\r\n",
    "        # считываем файлы\r\n",
    "        nodes_data = pd.read_csv('./assets/data/members.csv')\r\n",
    "        edges_data = pd.read_csv('./assets/data/interactions.csv')\r\n",
    " \r\n",
    "        # строим граф\r\n",
    "        edges_src = torch.from_numpy(edges_data['Src'].to_numpy())\r\n",
    "        edges_dst = torch.from_numpy(edges_data['Dst'].to_numpy())\r\n",
    "\r\n",
    "        self.graph = dgl.graph((edges_src, edges_dst), num_nodes=nodes_data.shape[0])\r\n",
    "        # добавляем фичи\r\n",
    "        self.graph.ndata['feat'] = torch.from_numpy(nodes_data['Age'].to_numpy())\r\n",
    "        self.graph.ndata['label'] = torch.from_numpy(nodes_data['Club'].astype('category').cat.codes.to_numpy())\r\n",
    "        self.graph.edata['weight'] = torch.from_numpy(edges_data['Weight'].to_numpy())\r\n",
    "\r\n",
    "        # добавим маски для обучающего, валидационного и тестового множества\r\n",
    "        n_nodes = nodes_data.shape[0]\r\n",
    "        n_train = int(n_nodes * 0.6)\r\n",
    "        n_val = int(n_nodes * 0.2)\r\n",
    "        train_mask = torch.zeros(n_nodes, dtype=torch.bool)\r\n",
    "        val_mask = torch.zeros(n_nodes, dtype=torch.bool)\r\n",
    "        test_mask = torch.zeros(n_nodes, dtype=torch.bool)\r\n",
    "        train_mask[:n_train] = True\r\n",
    "        val_mask[n_train:n_train + n_val] = True\r\n",
    "        test_mask[n_train + n_val:] = True\r\n",
    "        self.graph.ndata['train_mask'] = train_mask\r\n",
    "        self.graph.ndata['val_mask'] = val_mask\r\n",
    "        self.graph.ndata['test_mask'] = test_mask\r\n",
    "        # Авторы рекомендуют перенумеровать узлы и ребра так\r\n",
    "        # чтобы близкие узлы оказывались близкими по индексу\r\n",
    "        # такая процедура может помочь ускорить вычисления\r\n",
    "        # self._g = dgl.reorder_graph(self.graph)\r\n",
    "\r\n",
    "    def __getitem__(self, i):\r\n",
    "        assert idx == 0, \"This dataset has only one graph\"\r\n",
    "        return self.graph\r\n",
    "\r\n",
    "    def __len__(self):\r\n",
    "        return 1\r\n"
   ]
  },
  {
   "cell_type": "code",
   "execution_count": 12,
   "metadata": {},
   "outputs": [
    {
     "name": "stdout",
     "output_type": "stream",
     "text": [
      "Graph(num_nodes=34, num_edges=156,\n",
      "      ndata_schemes={'feat': Scheme(shape=(), dtype=torch.int64), 'label': Scheme(shape=(), dtype=torch.int8), 'train_mask': Scheme(shape=(), dtype=torch.bool), 'val_mask': Scheme(shape=(), dtype=torch.bool), 'test_mask': Scheme(shape=(), dtype=torch.bool)}\n",
      "      edata_schemes={'weight': Scheme(shape=(), dtype=torch.float64)})\n"
     ]
    },
    {
     "name": "stderr",
     "output_type": "stream",
     "text": [
      "<ipython-input-11-ead4b1114757>:17: UserWarning: The given NumPy array is not writeable, and PyTorch does not support non-writeable tensors. This means you can write to the underlying (supposedly non-writeable) NumPy array using the tensor. You may want to copy the array to protect its data or make it writeable before converting it to a tensor. This type of warning will be suppressed for the rest of this program. (Triggered internally at  ..\\torch\\csrc\\utils\\tensor_numpy.cpp:180.)\n",
      "  self.graph.ndata['label'] = torch.from_numpy(nodes_data['Club'].astype('category').cat.codes.to_numpy())\n"
     ]
    }
   ],
   "source": [
    "dataset = KarateDataset()\r\n",
    "graph = dataset[0]\r\n",
    "\r\n",
    "print(graph)\r\n"
   ]
  },
  {
   "cell_type": "markdown",
   "metadata": {},
   "source": [
    "Аналогичным образом создается датасет, состоящих из нескольких графов"
   ]
  },
  {
   "cell_type": "markdown",
   "metadata": {},
   "source": []
  }
 ],
 "metadata": {
  "interpreter": {
   "hash": "b06e6ab994fc15ce23aa05c7ffef0f9130e5f92563bdff97ffc0fa050e903d35"
  },
  "kernelspec": {
   "display_name": "Python 3.8.8 64-bit ('gcn': conda)",
   "name": "python3"
  },
  "language_info": {
   "codemirror_mode": {
    "name": "ipython",
    "version": 3
   },
   "file_extension": ".py",
   "mimetype": "text/x-python",
   "name": "python",
   "nbconvert_exporter": "python",
   "pygments_lexer": "ipython3",
   "version": "3.8.8"
  },
  "orig_nbformat": 4
 },
 "nbformat": 4,
 "nbformat_minor": 2
}