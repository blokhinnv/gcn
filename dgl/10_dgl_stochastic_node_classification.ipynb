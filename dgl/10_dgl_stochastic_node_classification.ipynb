{
 "cells": [
  {
   "cell_type": "code",
   "execution_count": 2,
   "source": [
    "import dgl\r\n",
    "import dgl.nn as gnn\r\n",
    "\r\n",
    "import torch\r\n",
    "import torch.nn as nn\r\n",
    "import torch.nn.functional as F\r\n",
    "import torch.optim as optim\r\n",
    "\r\n",
    "import networkx as nx"
   ],
   "outputs": [
    {
     "output_type": "stream",
     "name": "stderr",
     "text": [
      "Using backend: pytorch\n"
     ]
    }
   ],
   "metadata": {}
  },
  {
   "cell_type": "markdown",
   "source": [
    "# Stochastic Training\r\n",
    "\r\n",
    "В ситуации, когда имеется большой граф, очень легко выйти за пределы имеющейся памяти. Потенциальное решение: обучение на основе минибатчей."
   ],
   "metadata": {}
  },
  {
   "cell_type": "markdown",
   "source": [
    "## Frontier, MFG, block\r\n",
    "\r\n",
    "Для каждого шага градиентного спуска выбирается минибатч из узлов, финальные скрытые представления которых после `L` слоя сети должны быть рассчитаны. После этого на `L-1` слое рассматриваются все (или некоторые) их соседи. Эта процедура повторяется, пока мы не достигнем первого слоя сети.\r\n",
    "\r\n",
    "Такая процедура позволяет построить граф зависимостей, необходимый для расчетов (иногда это называют графом вычислений; в `DGL` используется термин message flow graphs (MFGs))\r\n",
    "\r\n",
    "![](./assets/img/10_dgl_stochastic_deps.png)\r\n"
   ],
   "metadata": {}
  },
  {
   "cell_type": "code",
   "execution_count": 3,
   "source": [
    "src = torch.tensor([0,1,1,2,3 ])\r\n",
    "dst = torch.tensor([3,0,2,3,4 ])\r\n",
    "G = dgl.graph((src, dst))\r\n",
    "G.ndata['feat'] = torch.randn((G.num_nodes(), 5))\r\n",
    "nx.draw(dgl.to_networkx(G), with_labels=True)"
   ],
   "outputs": [
    {
     "data": {
      "text/plain": [
       "<Figure size 432x288 with 1 Axes>"
      ],
      "image/svg+xml": "<?xml version=\"1.0\" encoding=\"utf-8\" standalone=\"no\"?>\r\n<!DOCTYPE svg PUBLIC \"-//W3C//DTD SVG 1.1//EN\"\r\n  \"http://www.w3.org/Graphics/SVG/1.1/DTD/svg11.dtd\">\r\n<svg height=\"302.4pt\" version=\"1.1\" viewBox=\"0 0 446.4 302.4\" width=\"446.4pt\" xmlns=\"http://www.w3.org/2000/svg\" xmlns:xlink=\"http://www.w3.org/1999/xlink\">\r\n <metadata>\r\n  <rdf:RDF xmlns:cc=\"http://creativecommons.org/ns#\" xmlns:dc=\"http://purl.org/dc/elements/1.1/\" xmlns:rdf=\"http://www.w3.org/1999/02/22-rdf-syntax-ns#\">\r\n   <cc:Work>\r\n    <dc:type rdf:resource=\"http://purl.org/dc/dcmitype/StillImage\"/>\r\n    <dc:date>2021-08-07T13:53:20.497109</dc:date>\r\n    <dc:format>image/svg+xml</dc:format>\r\n    <dc:creator>\r\n     <cc:Agent>\r\n      <dc:title>Matplotlib v3.4.1, https://matplotlib.org/</dc:title>\r\n     </cc:Agent>\r\n    </dc:creator>\r\n   </cc:Work>\r\n  </rdf:RDF>\r\n </metadata>\r\n <defs>\r\n  <style type=\"text/css\">*{stroke-linecap:butt;stroke-linejoin:round;}</style>\r\n </defs>\r\n <g id=\"figure_1\">\r\n  <g id=\"patch_1\">\r\n   <path d=\"M 0 302.4 \r\nL 446.4 302.4 \r\nL 446.4 0 \r\nL 0 0 \r\nz\r\n\" style=\"fill:#ffffff;\"/>\r\n  </g>\r\n  <g id=\"axes_1\">\r\n   <g id=\"patch_2\">\r\n    <path clip-path=\"url(#pcad776ad3d)\" d=\"M 393.888425 266.499202 \r\nQ 302.149946 223.009303 211.421727 179.998333 \r\n\" style=\"fill:none;stroke:#000000;stroke-linecap:round;\"/>\r\n    <path clip-path=\"url(#pcad776ad3d)\" d=\"M 214.179414 183.519009 \r\nL 211.421727 179.998333 \r\nL 215.89288 179.904589 \r\nL 214.179414 183.519009 \r\nz\r\n\" style=\"stroke:#000000;stroke-linecap:round;\"/>\r\n   </g>\r\n   <g id=\"patch_3\">\r\n    <path clip-path=\"url(#pcad776ad3d)\" d=\"M 387.406041 136.749448 \r\nQ 394.097519 199.171828 400.669831 260.482543 \r\n\" style=\"fill:none;stroke:#000000;stroke-linecap:round;\"/>\r\n    <path clip-path=\"url(#pcad776ad3d)\" d=\"M 402.232093 256.292157 \r\nL 400.669831 260.482543 \r\nL 398.254879 256.718501 \r\nL 402.232093 256.292157 \r\nz\r\n\" style=\"stroke:#000000;stroke-linecap:round;\"/>\r\n   </g>\r\n   <g id=\"patch_4\">\r\n    <path clip-path=\"url(#pcad776ad3d)\" d=\"M 378.880719 123.984659 \r\nQ 317.01948 90.216064 256.139585 56.98316 \r\n\" style=\"fill:none;stroke:#000000;stroke-linecap:round;\"/>\r\n    <path clip-path=\"url(#pcad776ad3d)\" d=\"M 258.692269 60.65519 \r\nL 256.139585 56.98316 \r\nL 260.608819 57.14423 \r\nL 258.692269 60.65519 \r\nz\r\n\" style=\"stroke:#000000;stroke-linecap:round;\"/>\r\n   </g>\r\n   <g id=\"patch_5\">\r\n    <path clip-path=\"url(#pcad776ad3d)\" d=\"M 244.592622 60.435251 \r\nQ 225.070356 114.053876 205.930596 166.621935 \r\n\" style=\"fill:none;stroke:#000000;stroke-linecap:round;\"/>\r\n    <path clip-path=\"url(#pcad776ad3d)\" d=\"M 209.1784 163.547562 \r\nL 205.930596 166.621935 \r\nL 205.41978 162.179068 \r\nL 209.1784 163.547562 \r\nz\r\n\" style=\"stroke:#000000;stroke-linecap:round;\"/>\r\n   </g>\r\n   <g id=\"patch_6\">\r\n    <path clip-path=\"url(#pcad776ad3d)\" d=\"M 196.17908 169.982376 \r\nQ 123.636031 104.000095 51.920067 38.770097 \r\n\" style=\"fill:none;stroke:#000000;stroke-linecap:round;\"/>\r\n    <path clip-path=\"url(#pcad776ad3d)\" d=\"M 53.53341 42.941083 \r\nL 51.920067 38.770097 \r\nL 56.224861 39.982015 \r\nL 53.53341 42.941083 \r\nz\r\n\" style=\"stroke:#000000;stroke-linecap:round;\"/>\r\n   </g>\r\n   <g id=\"PathCollection_1\">\r\n    <defs>\r\n     <path d=\"M 0 8.660254 \r\nC 2.296726 8.660254 4.499694 7.747755 6.123724 6.123724 \r\nC 7.747755 4.499694 8.660254 2.296726 8.660254 0 \r\nC 8.660254 -2.296726 7.747755 -4.499694 6.123724 -6.123724 \r\nC 4.499694 -7.747755 2.296726 -8.660254 0 -8.660254 \r\nC -2.296726 -8.660254 -4.499694 -7.747755 -6.123724 -6.123724 \r\nC -7.747755 -4.499694 -8.660254 -2.296726 -8.660254 0 \r\nC -8.660254 2.296726 -7.747755 4.499694 -6.123724 6.123724 \r\nC -4.499694 7.747755 -2.296726 8.660254 0 8.660254 \r\nz\r\n\" id=\"m30b9603576\" style=\"stroke:#1f78b4;\"/>\r\n    </defs>\r\n    <g clip-path=\"url(#pcad776ad3d)\">\r\n     <use style=\"fill:#1f78b4;stroke:#1f78b4;\" x=\"401.712397\" xlink:href=\"#m30b9603576\" y=\"270.208264\"/>\r\n     <use style=\"fill:#1f78b4;stroke:#1f78b4;\" x=\"386.482525\" xlink:href=\"#m30b9603576\" y=\"128.134307\"/>\r\n     <use style=\"fill:#1f78b4;stroke:#1f78b4;\" x=\"247.555587\" xlink:href=\"#m30b9603576\" y=\"52.297358\"/>\r\n     <use style=\"fill:#1f78b4;stroke:#1f78b4;\" x=\"202.58549\" xlink:href=\"#m30b9603576\" y=\"175.809392\"/>\r\n     <use style=\"fill:#1f78b4;stroke:#1f78b4;\" x=\"44.687603\" xlink:href=\"#m30b9603576\" y=\"32.191736\"/>\r\n    </g>\r\n   </g>\r\n   <g id=\"text_1\">\r\n    <g clip-path=\"url(#pcad776ad3d)\">\r\n     <!-- 0 -->\r\n     <g transform=\"translate(397.894897 273.519514)scale(0.12 -0.12)\">\r\n      <defs>\r\n       <path d=\"M 2034 4250 \r\nQ 1547 4250 1301 3770 \r\nQ 1056 3291 1056 2328 \r\nQ 1056 1369 1301 889 \r\nQ 1547 409 2034 409 \r\nQ 2525 409 2770 889 \r\nQ 3016 1369 3016 2328 \r\nQ 3016 3291 2770 3770 \r\nQ 2525 4250 2034 4250 \r\nz\r\nM 2034 4750 \r\nQ 2819 4750 3233 4129 \r\nQ 3647 3509 3647 2328 \r\nQ 3647 1150 3233 529 \r\nQ 2819 -91 2034 -91 \r\nQ 1250 -91 836 529 \r\nQ 422 1150 422 2328 \r\nQ 422 3509 836 4129 \r\nQ 1250 4750 2034 4750 \r\nz\r\n\" id=\"DejaVuSans-30\" transform=\"scale(0.015625)\"/>\r\n      </defs>\r\n      <use xlink:href=\"#DejaVuSans-30\"/>\r\n     </g>\r\n    </g>\r\n   </g>\r\n   <g id=\"text_2\">\r\n    <g clip-path=\"url(#pcad776ad3d)\">\r\n     <!-- 1 -->\r\n     <g transform=\"translate(382.665025 131.445557)scale(0.12 -0.12)\">\r\n      <defs>\r\n       <path d=\"M 794 531 \r\nL 1825 531 \r\nL 1825 4091 \r\nL 703 3866 \r\nL 703 4441 \r\nL 1819 4666 \r\nL 2450 4666 \r\nL 2450 531 \r\nL 3481 531 \r\nL 3481 0 \r\nL 794 0 \r\nL 794 531 \r\nz\r\n\" id=\"DejaVuSans-31\" transform=\"scale(0.015625)\"/>\r\n      </defs>\r\n      <use xlink:href=\"#DejaVuSans-31\"/>\r\n     </g>\r\n    </g>\r\n   </g>\r\n   <g id=\"text_3\">\r\n    <g clip-path=\"url(#pcad776ad3d)\">\r\n     <!-- 2 -->\r\n     <g transform=\"translate(243.738087 55.608608)scale(0.12 -0.12)\">\r\n      <defs>\r\n       <path d=\"M 1228 531 \r\nL 3431 531 \r\nL 3431 0 \r\nL 469 0 \r\nL 469 531 \r\nQ 828 903 1448 1529 \r\nQ 2069 2156 2228 2338 \r\nQ 2531 2678 2651 2914 \r\nQ 2772 3150 2772 3378 \r\nQ 2772 3750 2511 3984 \r\nQ 2250 4219 1831 4219 \r\nQ 1534 4219 1204 4116 \r\nQ 875 4013 500 3803 \r\nL 500 4441 \r\nQ 881 4594 1212 4672 \r\nQ 1544 4750 1819 4750 \r\nQ 2544 4750 2975 4387 \r\nQ 3406 4025 3406 3419 \r\nQ 3406 3131 3298 2873 \r\nQ 3191 2616 2906 2266 \r\nQ 2828 2175 2409 1742 \r\nQ 1991 1309 1228 531 \r\nz\r\n\" id=\"DejaVuSans-32\" transform=\"scale(0.015625)\"/>\r\n      </defs>\r\n      <use xlink:href=\"#DejaVuSans-32\"/>\r\n     </g>\r\n    </g>\r\n   </g>\r\n   <g id=\"text_4\">\r\n    <g clip-path=\"url(#pcad776ad3d)\">\r\n     <!-- 3 -->\r\n     <g transform=\"translate(198.76799 179.120642)scale(0.12 -0.12)\">\r\n      <defs>\r\n       <path d=\"M 2597 2516 \r\nQ 3050 2419 3304 2112 \r\nQ 3559 1806 3559 1356 \r\nQ 3559 666 3084 287 \r\nQ 2609 -91 1734 -91 \r\nQ 1441 -91 1130 -33 \r\nQ 819 25 488 141 \r\nL 488 750 \r\nQ 750 597 1062 519 \r\nQ 1375 441 1716 441 \r\nQ 2309 441 2620 675 \r\nQ 2931 909 2931 1356 \r\nQ 2931 1769 2642 2001 \r\nQ 2353 2234 1838 2234 \r\nL 1294 2234 \r\nL 1294 2753 \r\nL 1863 2753 \r\nQ 2328 2753 2575 2939 \r\nQ 2822 3125 2822 3475 \r\nQ 2822 3834 2567 4026 \r\nQ 2313 4219 1838 4219 \r\nQ 1578 4219 1281 4162 \r\nQ 984 4106 628 3988 \r\nL 628 4550 \r\nQ 988 4650 1302 4700 \r\nQ 1616 4750 1894 4750 \r\nQ 2613 4750 3031 4423 \r\nQ 3450 4097 3450 3541 \r\nQ 3450 3153 3228 2886 \r\nQ 3006 2619 2597 2516 \r\nz\r\n\" id=\"DejaVuSans-33\" transform=\"scale(0.015625)\"/>\r\n      </defs>\r\n      <use xlink:href=\"#DejaVuSans-33\"/>\r\n     </g>\r\n    </g>\r\n   </g>\r\n   <g id=\"text_5\">\r\n    <g clip-path=\"url(#pcad776ad3d)\">\r\n     <!-- 4 -->\r\n     <g transform=\"translate(40.870103 35.502986)scale(0.12 -0.12)\">\r\n      <defs>\r\n       <path d=\"M 2419 4116 \r\nL 825 1625 \r\nL 2419 1625 \r\nL 2419 4116 \r\nz\r\nM 2253 4666 \r\nL 3047 4666 \r\nL 3047 1625 \r\nL 3713 1625 \r\nL 3713 1100 \r\nL 3047 1100 \r\nL 3047 0 \r\nL 2419 0 \r\nL 2419 1100 \r\nL 313 1100 \r\nL 313 1709 \r\nL 2253 4666 \r\nz\r\n\" id=\"DejaVuSans-34\" transform=\"scale(0.015625)\"/>\r\n      </defs>\r\n      <use xlink:href=\"#DejaVuSans-34\"/>\r\n     </g>\r\n    </g>\r\n   </g>\r\n  </g>\r\n </g>\r\n <defs>\r\n  <clipPath id=\"pcad776ad3d\">\r\n   <rect height=\"288\" width=\"432\" x=\"7.2\" y=\"7.2\"/>\r\n  </clipPath>\r\n </defs>\r\n</svg>\r\n",
      "image/png": "[encoded data removed]"
     },
     "metadata": {},
     "output_type": "display_data"
    }
   ],
   "metadata": {}
  },
  {
   "cell_type": "markdown",
   "source": [
    "Допустим, мы планируем создать сеть с `L=2` слоями и нас интересует представление только узла `4`.\r\n",
    "\r\n",
    "Для расчета представления узла `4` на `l=2` слое, нужно получить представления узла `3`: $m_4^{2} = M(\\{h_3^{1}\\})$\r\n",
    "\r\n",
    "Frontier (фронт (как в BFS?)) второго слоя сети - это граф, который содержит все узлы оригинального графа, но только те ребра, которые необходимы для передаче сообщений выходным узлам (в этом примере - узлу 4). \r\n",
    "\r\n",
    "Для получения фронта можно воспользоваться функцией `dgl.in_subgraph`, которая порождает подграф, содержащий все узлы исходного графа, и только те ребра, которые входят в узлы из заданного множества. "
   ],
   "metadata": {}
  },
  {
   "cell_type": "code",
   "execution_count": 25,
   "source": [
    "frontier = dgl.in_subgraph(G, [4])\r\n",
    "print(frontier.all_edges())\r\n",
    "print(frontier.num_nodes())"
   ],
   "outputs": [
    {
     "output_type": "stream",
     "name": "stdout",
     "text": [
      "(tensor([3]), tensor([4]))\n",
      "5\n"
     ]
    }
   ],
   "metadata": {}
  },
  {
   "cell_type": "markdown",
   "source": [
    "Проблема в том, что выполнять рассылку сообщений на этом графе нельзя, т.к. он содержит все узлы из исходного графа, а нам нужны только узлы 3 и 4 (как вход слоя) и узел 4 (как выход слоя).\r\n",
    "\r\n",
    "Авторы `DGL` конструируют на основе этих узлов двудольный граф, где узлы делятся на 2 типа: входные и выходные (их кол-во отличается). Такой двудольный граф авторы называются message flow graph.\r\n",
    "\r\n",
    "Множество выходных узлов всегда является подмножеством входных узлов, т.к. для расчета представления выходных узлов следующего слоя требуются их представления с предыдущего слоя.\r\n",
    "\r\n",
    "Технически любой подграф, содержащий все узлы, может называться фронтом, но при создании MFG `DGL` проверяет, что множество целевых узлов покрывает множество конечных узлов имеющихся в подграфе ребер."
   ],
   "metadata": {}
  },
  {
   "cell_type": "markdown",
   "source": [
    "Для превращения фронта в MFG `DGL` предоставляет функцию `dgl.to_block`.\r\n",
    "\r\n",
    "У MFG (block) есть несколько специфичных атрибутов:\r\n",
    "* `.srcnodes` для обращения к входным узлам (аналогично `.nodes` у обычных графов)\r\n",
    "* `.srcdata` для обращения к фичам входных узлов (аналогично `.ndata` у обычных графов)\r\n",
    "* `.dstnodes` для обращения к выходным узлам\r\n",
    "* `.dstdata` для обращения к фичам выходных узлов"
   ],
   "metadata": {}
  },
  {
   "cell_type": "code",
   "execution_count": 24,
   "source": [
    "dst_nodes = torch.LongTensor([4])\r\n",
    "block = dgl.to_block(frontier, dst_nodes)\r\n",
    "print(f'{block.number_of_src_nodes()=}')\r\n",
    "print(f'{block.number_of_dst_nodes()=}')\r\n",
    "print(f'{block.srcdata[dgl.NID]=}') # выходные узлы всегда будут находиться в начале\r\n",
    "print(f'{block.dstdata[dgl.NID]=}')"
   ],
   "outputs": [
    {
     "output_type": "stream",
     "name": "stdout",
     "text": [
      "block.number_of_src_nodes()=2\n",
      "block.number_of_dst_nodes()=1\n",
      "block.srcdata[dgl.NID]=tensor([4, 3])\n",
      "block.dstdata[dgl.NID]=tensor([4])\n"
     ]
    }
   ],
   "metadata": {}
  },
  {
   "cell_type": "markdown",
   "source": [
    "## Neighborhood sampling"
   ],
   "metadata": {}
  },
  {
   "cell_type": "markdown",
   "source": [
    "Построение MFG - настраиваемый процесс, в который можно вносить модификации. Например, в целях ускорения обучения иногда удобно рассматривать не всех соседей, а некоторое их подножество. `DGL` предоставляет инструменты для манипулирования процессом сэмплинга соседей.\r\n",
    "\r\n",
    "В `DGL` есть несколько классов (сэмплеров), которые генерируют граф зависимостей для каждого из слоев в зависимости от узлов, для которых мы хотим провести расчеты.\r\n",
    "\r\n",
    "Простейший вариант - `MultiLayerFullNeighborSampler`, который подразумевает, что узел получает сообщения от всех своих соседей."
   ],
   "metadata": {}
  },
  {
   "cell_type": "code",
   "execution_count": 5,
   "source": [
    "src = torch.randint(0, 100, (500, ))\r\n",
    "dst = torch.randint(0, 100, (500, ))\r\n",
    "\r\n",
    "train_ids = torch.randint(0, 100, (30,))\r\n",
    "\r\n",
    "G = dgl.graph((src, dst))\r\n",
    "G"
   ],
   "outputs": [
    {
     "output_type": "execute_result",
     "data": {
      "text/plain": [
       "Graph(num_nodes=100, num_edges=500,\n",
       "      ndata_schemes={}\n",
       "      edata_schemes={})"
      ]
     },
     "metadata": {},
     "execution_count": 5
    }
   ],
   "metadata": {}
  },
  {
   "cell_type": "markdown",
   "source": [
    "Допустим, у нас есть набор узлов `train_ids` для обучения. Нам нужно разбить его на батчи и создать для каждого батча MFG.\r\n",
    "\r\n",
    "Для этого мы сначала создаем нужный сэмплер. Затем на его основе создаем dataloader. Итерируясь по этому dataloader'у, мы получаем набор специальным образом сгенерированных графов, отражающих зависимости на каждом из слоев."
   ],
   "metadata": {}
  },
  {
   "cell_type": "code",
   "execution_count": 6,
   "source": [
    "sampler = dgl.dataloading.MultiLayerFullNeighborSampler(n_layers=2)\r\n",
    "dataloader = dgl.dataloading.NodeDataLoader(G, train_ids, sampler,\r\n",
    "                                            batch_size=5, shuffle=True,\r\n",
    "                                            drop_last=False, num_workers=4)\r\n",
    "\r\n",
    "input_nodes, output_nodes, blocks = next(iter(dataloader))                                          "
   ],
   "outputs": [
    {
     "output_type": "stream",
     "name": "stdout",
     "text": [
      "[Block(num_src_nodes=81, num_dst_nodes=32, num_edges=155), Block(num_src_nodes=32, num_dst_nodes=5, num_edges=34)]\n"
     ]
    }
   ],
   "metadata": {}
  },
  {
   "cell_type": "code",
   "execution_count": 10,
   "source": [
    "# input_nodes - набор узлов, необходимый для вычисления представлений узлов \r\n",
    "# из output_nodes\r\n",
    "print(input_nodes)\r\n",
    "print('требуются для вычислений по узлам:')\r\n",
    "print(output_nodes)"
   ],
   "outputs": [
    {
     "output_type": "stream",
     "name": "stdout",
     "text": [
      "tensor([84, 80, 29, 54, 37, 68, 43, 66, 99, 72,  4, 20, 25, 70, 90, 61, 27, 28,\n",
      "        49, 26, 15, 65, 46, 95, 35, 71, 75, 64, 48, 78, 69, 13, 83, 32, 59, 89,\n",
      "         1, 11,  3, 44, 39, 45, 21, 19, 77, 51, 33,  5, 67, 10, 52, 56, 58, 23,\n",
      "        22,  7, 16, 55, 40, 12, 91, 81, 36, 86, 31, 85, 82, 93, 63, 87, 79, 14,\n",
      "         0, 47, 97, 60, 73,  2, 57,  9, 18])\n",
      "требуются для вычислений по узлам:\n",
      "tensor([84, 80, 29, 54, 37])\n"
     ]
    }
   ],
   "metadata": {}
  },
  {
   "cell_type": "code",
   "execution_count": 12,
   "source": [
    "# blocks содержат для каждого слоя описания того, представления каких узлов\r\n",
    "# будут рассчитаны на выходе, представления каких узлов нужны на входе\r\n",
    "# и как представления от входов распространяются к выходу\r\n",
    "blocks"
   ],
   "outputs": [
    {
     "output_type": "execute_result",
     "data": {
      "text/plain": [
       "[Block(num_src_nodes=81, num_dst_nodes=32, num_edges=155),\n",
       " Block(num_src_nodes=32, num_dst_nodes=5, num_edges=34)]"
      ]
     },
     "metadata": {},
     "execution_count": 12
    }
   ],
   "metadata": {}
  },
  {
   "cell_type": "code",
   "execution_count": 27,
   "source": [
    "# простой пример графа\r\n",
    "src = torch.tensor([0,1,1,2,3 ])\r\n",
    "dst = torch.tensor([3,0,2,3,4 ])\r\n",
    "G = dgl.graph((src, dst))\r\n",
    "G.ndata['feat'] = torch.randn((G.num_nodes(), 5))\r\n",
    "nx.draw(dgl.to_networkx(G), with_labels=True)"
   ],
   "outputs": [
    {
     "output_type": "display_data",
     "data": {
      "text/plain": [
       "<Figure size 432x288 with 1 Axes>"
      ],
      "image/svg+xml": "<?xml version=\"1.0\" encoding=\"utf-8\" standalone=\"no\"?>\r\n<!DOCTYPE svg PUBLIC \"-//W3C//DTD SVG 1.1//EN\"\r\n  \"http://www.w3.org/Graphics/SVG/1.1/DTD/svg11.dtd\">\r\n<svg height=\"302.4pt\" version=\"1.1\" viewBox=\"0 0 446.4 302.4\" width=\"446.4pt\" xmlns=\"http://www.w3.org/2000/svg\" xmlns:xlink=\"http://www.w3.org/1999/xlink\">\r\n <metadata>\r\n  <rdf:RDF xmlns:cc=\"http://creativecommons.org/ns#\" xmlns:dc=\"http://purl.org/dc/elements/1.1/\" xmlns:rdf=\"http://www.w3.org/1999/02/22-rdf-syntax-ns#\">\r\n   <cc:Work>\r\n    <dc:type rdf:resource=\"http://purl.org/dc/dcmitype/StillImage\"/>\r\n    <dc:date>2021-08-07T14:27:34.969666</dc:date>\r\n    <dc:format>image/svg+xml</dc:format>\r\n    <dc:creator>\r\n     <cc:Agent>\r\n      <dc:title>Matplotlib v3.4.1, https://matplotlib.org/</dc:title>\r\n     </cc:Agent>\r\n    </dc:creator>\r\n   </cc:Work>\r\n  </rdf:RDF>\r\n </metadata>\r\n <defs>\r\n  <style type=\"text/css\">*{stroke-linecap:butt;stroke-linejoin:round;}</style>\r\n </defs>\r\n <g id=\"figure_1\">\r\n  <g id=\"patch_1\">\r\n   <path d=\"M 0 302.4 \r\nL 446.4 302.4 \r\nL 446.4 0 \r\nL 0 0 \r\nz\r\n\" style=\"fill:#ffffff;\"/>\r\n  </g>\r\n  <g id=\"axes_1\">\r\n   <g id=\"patch_2\">\r\n    <path clip-path=\"url(#pb49fd601a8)\" d=\"M 393.074262 158.180833 \r\nQ 268.886117 148.841605 145.812857 139.586219 \r\n\" style=\"fill:none;stroke:#000000;stroke-linecap:round;\"/>\r\n    <path clip-path=\"url(#pb49fd601a8)\" d=\"M 149.651613 141.880549 \r\nL 145.812857 139.586219 \r\nL 149.951575 137.891812 \r\nL 149.651613 141.880549 \r\nz\r\n\" style=\"stroke:#000000;stroke-linecap:round;\"/>\r\n   </g>\r\n   <g id=\"patch_3\">\r\n    <path clip-path=\"url(#pb49fd601a8)\" d=\"M 323.490977 237.369855 \r\nQ 359.544969 201.169292 394.809997 165.7609 \r\n\" style=\"fill:none;stroke:#000000;stroke-linecap:round;\"/>\r\n    <path clip-path=\"url(#pb49fd601a8)\" d=\"M 390.570234 167.183717 \r\nL 394.809997 165.7609 \r\nL 393.404393 170.006401 \r\nL 390.570234 167.183717 \r\nz\r\n\" style=\"stroke:#000000;stroke-linecap:round;\"/>\r\n   </g>\r\n   <g id=\"patch_4\">\r\n    <path clip-path=\"url(#pb49fd601a8)\" d=\"M 308.761228 244.35094 \r\nQ 181.033906 256.85763 54.419296 269.255365 \r\n\" style=\"fill:none;stroke:#000000;stroke-linecap:round;\"/>\r\n    <path clip-path=\"url(#pb49fd601a8)\" d=\"M 58.595159 270.856042 \r\nL 54.419296 269.255365 \r\nL 58.205355 266.87508 \r\nL 58.595159 270.856042 \r\nz\r\n\" style=\"stroke:#000000;stroke-linecap:round;\"/>\r\n   </g>\r\n   <g id=\"patch_5\">\r\n    <path clip-path=\"url(#pb49fd601a8)\" d=\"M 49.631461 263.100919 \r\nQ 90.372213 204.53156 130.474529 146.880024 \r\n\" style=\"fill:none;stroke:#000000;stroke-linecap:round;\"/>\r\n    <path clip-path=\"url(#pb49fd601a8)\" d=\"M 126.548539 149.021658 \r\nL 130.474529 146.880024 \r\nL 129.832242 151.305797 \r\nL 126.548539 149.021658 \r\nz\r\n\" style=\"stroke:#000000;stroke-linecap:round;\"/>\r\n   </g>\r\n   <g id=\"patch_6\">\r\n    <path clip-path=\"url(#pb49fd601a8)\" d=\"M 143.866021 135.104488 \r\nQ 247.148764 85.522293 349.4236 36.423958 \r\n\" style=\"fill:none;stroke:#000000;stroke-linecap:round;\"/>\r\n    <path clip-path=\"url(#pb49fd601a8)\" d=\"M 344.952042 36.352064 \r\nL 349.4236 36.423958 \r\nL 346.68315 39.958068 \r\nL 344.952042 36.352064 \r\nz\r\n\" style=\"stroke:#000000;stroke-linecap:round;\"/>\r\n   </g>\r\n   <g id=\"PathCollection_1\">\r\n    <defs>\r\n     <path d=\"M 0 8.660254 \r\nC 2.296726 8.660254 4.499694 7.747755 6.123724 6.123724 \r\nC 7.747755 4.499694 8.660254 2.296726 8.660254 0 \r\nC 8.660254 -2.296726 7.747755 -4.499694 6.123724 -6.123724 \r\nC 4.499694 -7.747755 2.296726 -8.660254 0 -8.660254 \r\nC -2.296726 -8.660254 -4.499694 -7.747755 -6.123724 -6.123724 \r\nC -7.747755 -4.499694 -8.660254 -2.296726 -8.660254 0 \r\nC -8.660254 2.296726 -7.747755 4.499694 -6.123724 6.123724 \r\nC -4.499694 7.747755 -2.296726 8.660254 0 8.660254 \r\nz\r\n\" id=\"mf48714cc8d\" style=\"stroke:#1f78b4;\"/>\r\n    </defs>\r\n    <g clip-path=\"url(#pb49fd601a8)\">\r\n     <use style=\"fill:#1f78b4;stroke:#1f78b4;\" x=\"401.712397\" xlink:href=\"#mf48714cc8d\" y=\"158.83044\"/>\r\n     <use style=\"fill:#1f78b4;stroke:#1f78b4;\" x=\"317.378521\" xlink:href=\"#mf48714cc8d\" y=\"243.50716\"/>\r\n     <use style=\"fill:#1f78b4;stroke:#1f78b4;\" x=\"44.687603\" xlink:href=\"#mf48714cc8d\" y=\"270.208264\"/>\r\n     <use style=\"fill:#1f78b4;stroke:#1f78b4;\" x=\"136.058352\" xlink:href=\"#mf48714cc8d\" y=\"138.852658\"/>\r\n     <use style=\"fill:#1f78b4;stroke:#1f78b4;\" x=\"358.239578\" xlink:href=\"#mf48714cc8d\" y=\"32.191736\"/>\r\n    </g>\r\n   </g>\r\n   <g id=\"text_1\">\r\n    <g clip-path=\"url(#pb49fd601a8)\">\r\n     <!-- 0 -->\r\n     <g transform=\"translate(397.894897 162.14169)scale(0.12 -0.12)\">\r\n      <defs>\r\n       <path d=\"M 2034 4250 \r\nQ 1547 4250 1301 3770 \r\nQ 1056 3291 1056 2328 \r\nQ 1056 1369 1301 889 \r\nQ 1547 409 2034 409 \r\nQ 2525 409 2770 889 \r\nQ 3016 1369 3016 2328 \r\nQ 3016 3291 2770 3770 \r\nQ 2525 4250 2034 4250 \r\nz\r\nM 2034 4750 \r\nQ 2819 4750 3233 4129 \r\nQ 3647 3509 3647 2328 \r\nQ 3647 1150 3233 529 \r\nQ 2819 -91 2034 -91 \r\nQ 1250 -91 836 529 \r\nQ 422 1150 422 2328 \r\nQ 422 3509 836 4129 \r\nQ 1250 4750 2034 4750 \r\nz\r\n\" id=\"DejaVuSans-30\" transform=\"scale(0.015625)\"/>\r\n      </defs>\r\n      <use xlink:href=\"#DejaVuSans-30\"/>\r\n     </g>\r\n    </g>\r\n   </g>\r\n   <g id=\"text_2\">\r\n    <g clip-path=\"url(#pb49fd601a8)\">\r\n     <!-- 1 -->\r\n     <g transform=\"translate(313.561021 246.81841)scale(0.12 -0.12)\">\r\n      <defs>\r\n       <path d=\"M 794 531 \r\nL 1825 531 \r\nL 1825 4091 \r\nL 703 3866 \r\nL 703 4441 \r\nL 1819 4666 \r\nL 2450 4666 \r\nL 2450 531 \r\nL 3481 531 \r\nL 3481 0 \r\nL 794 0 \r\nL 794 531 \r\nz\r\n\" id=\"DejaVuSans-31\" transform=\"scale(0.015625)\"/>\r\n      </defs>\r\n      <use xlink:href=\"#DejaVuSans-31\"/>\r\n     </g>\r\n    </g>\r\n   </g>\r\n   <g id=\"text_3\">\r\n    <g clip-path=\"url(#pb49fd601a8)\">\r\n     <!-- 2 -->\r\n     <g transform=\"translate(40.870103 273.519514)scale(0.12 -0.12)\">\r\n      <defs>\r\n       <path d=\"M 1228 531 \r\nL 3431 531 \r\nL 3431 0 \r\nL 469 0 \r\nL 469 531 \r\nQ 828 903 1448 1529 \r\nQ 2069 2156 2228 2338 \r\nQ 2531 2678 2651 2914 \r\nQ 2772 3150 2772 3378 \r\nQ 2772 3750 2511 3984 \r\nQ 2250 4219 1831 4219 \r\nQ 1534 4219 1204 4116 \r\nQ 875 4013 500 3803 \r\nL 500 4441 \r\nQ 881 4594 1212 4672 \r\nQ 1544 4750 1819 4750 \r\nQ 2544 4750 2975 4387 \r\nQ 3406 4025 3406 3419 \r\nQ 3406 3131 3298 2873 \r\nQ 3191 2616 2906 2266 \r\nQ 2828 2175 2409 1742 \r\nQ 1991 1309 1228 531 \r\nz\r\n\" id=\"DejaVuSans-32\" transform=\"scale(0.015625)\"/>\r\n      </defs>\r\n      <use xlink:href=\"#DejaVuSans-32\"/>\r\n     </g>\r\n    </g>\r\n   </g>\r\n   <g id=\"text_4\">\r\n    <g clip-path=\"url(#pb49fd601a8)\">\r\n     <!-- 3 -->\r\n     <g transform=\"translate(132.240852 142.163908)scale(0.12 -0.12)\">\r\n      <defs>\r\n       <path d=\"M 2597 2516 \r\nQ 3050 2419 3304 2112 \r\nQ 3559 1806 3559 1356 \r\nQ 3559 666 3084 287 \r\nQ 2609 -91 1734 -91 \r\nQ 1441 -91 1130 -33 \r\nQ 819 25 488 141 \r\nL 488 750 \r\nQ 750 597 1062 519 \r\nQ 1375 441 1716 441 \r\nQ 2309 441 2620 675 \r\nQ 2931 909 2931 1356 \r\nQ 2931 1769 2642 2001 \r\nQ 2353 2234 1838 2234 \r\nL 1294 2234 \r\nL 1294 2753 \r\nL 1863 2753 \r\nQ 2328 2753 2575 2939 \r\nQ 2822 3125 2822 3475 \r\nQ 2822 3834 2567 4026 \r\nQ 2313 4219 1838 4219 \r\nQ 1578 4219 1281 4162 \r\nQ 984 4106 628 3988 \r\nL 628 4550 \r\nQ 988 4650 1302 4700 \r\nQ 1616 4750 1894 4750 \r\nQ 2613 4750 3031 4423 \r\nQ 3450 4097 3450 3541 \r\nQ 3450 3153 3228 2886 \r\nQ 3006 2619 2597 2516 \r\nz\r\n\" id=\"DejaVuSans-33\" transform=\"scale(0.015625)\"/>\r\n      </defs>\r\n      <use xlink:href=\"#DejaVuSans-33\"/>\r\n     </g>\r\n    </g>\r\n   </g>\r\n   <g id=\"text_5\">\r\n    <g clip-path=\"url(#pb49fd601a8)\">\r\n     <!-- 4 -->\r\n     <g transform=\"translate(354.422078 35.502986)scale(0.12 -0.12)\">\r\n      <defs>\r\n       <path d=\"M 2419 4116 \r\nL 825 1625 \r\nL 2419 1625 \r\nL 2419 4116 \r\nz\r\nM 2253 4666 \r\nL 3047 4666 \r\nL 3047 1625 \r\nL 3713 1625 \r\nL 3713 1100 \r\nL 3047 1100 \r\nL 3047 0 \r\nL 2419 0 \r\nL 2419 1100 \r\nL 313 1100 \r\nL 313 1709 \r\nL 2253 4666 \r\nz\r\n\" id=\"DejaVuSans-34\" transform=\"scale(0.015625)\"/>\r\n      </defs>\r\n      <use xlink:href=\"#DejaVuSans-34\"/>\r\n     </g>\r\n    </g>\r\n   </g>\r\n  </g>\r\n </g>\r\n <defs>\r\n  <clipPath id=\"pb49fd601a8\">\r\n   <rect height=\"288\" width=\"432\" x=\"7.2\" y=\"7.2\"/>\r\n  </clipPath>\r\n </defs>\r\n</svg>\r\n",
      "image/png": "[encoded data removed]"
     },
     "metadata": {}
    }
   ],
   "metadata": {}
  },
  {
   "cell_type": "code",
   "execution_count": 28,
   "source": [
    "sampler = dgl.dataloading.MultiLayerFullNeighborSampler(n_layers=2)\r\n",
    "dataloader = dgl.dataloading.NodeDataLoader(G, [4], sampler,\r\n",
    "                                            batch_size=1)\r\n",
    "\r\n",
    "input_nodes, output_nodes, blocks = next(iter(dataloader))      \r\n",
    "print(f'{input_nodes=}')                                    \r\n",
    "print(f'{output_nodes=}')                                    \r\n",
    "print(f'{blocks=}')                                    "
   ],
   "outputs": [
    {
     "output_type": "stream",
     "name": "stdout",
     "text": [
      "input_nodes=tensor([4, 3, 0, 2])\n",
      "output_nodes=tensor([4])\n",
      "blocks=[Block(num_src_nodes=4, num_dst_nodes=2, num_edges=3), Block(num_src_nodes=2, num_dst_nodes=1, num_edges=1)]\n"
     ]
    }
   ],
   "metadata": {}
  },
  {
   "cell_type": "code",
   "execution_count": 29,
   "source": [
    "layer1 = gnn.SAGEConv(5, 3, aggregator_type='mean')\r\n",
    "layer2 = gnn.SAGEConv(3, 2, aggregator_type='mean')\r\n",
    "features = G.ndata['feat'][input_nodes]\r\n",
    "print(features)\r\n",
    "# если взять 4 узла из block[0] и выполнить рассылку сообщений, то получим\r\n",
    "# представления 2 узлов\r\n",
    "out = layer1(blocks[0], features)\r\n",
    "print(out)\r\n",
    "# если взять 2 узла из block[1] и выполнить рассылку сообщений, то получим\r\n",
    "# представления 1 узла\r\n",
    "out = layer2(blocks[1], out)\r\n",
    "print(out)"
   ],
   "outputs": [
    {
     "output_type": "stream",
     "name": "stdout",
     "text": [
      "tensor([[-1.3466,  0.0613,  1.2991,  0.9760, -1.2939],\n",
      "        [-1.3669, -0.5564,  1.5476,  0.3555,  0.6966],\n",
      "        [ 1.6469,  0.5162,  1.1806, -0.8277, -0.1649],\n",
      "        [ 0.3318,  1.2898,  0.5696, -0.2475, -0.5783]])\n",
      "tensor([[ 7.7012,  3.6908, -0.5703],\n",
      "        [ 0.0434,  2.5330,  3.9764]], grad_fn=<AddBackward0>)\n",
      "tensor([[ -2.0477, -22.9975]], grad_fn=<AddBackward0>)\n"
     ]
    }
   ],
   "metadata": {}
  },
  {
   "cell_type": "markdown",
   "source": [
    "`DGL` предоставляет возможности для реализации своей стратегии сэмплирования соседей.\r\n",
    "\r\n",
    "Базовый класс сэмплеров - `BlockSampler` - отвечает за генерацию списка MFGs, начиная с последнего слоя, при помощи метода `sample_blocks()`. Базовая реализация этого метода - идти от последнего слоя к первому, генерировать фронты и преобразовывать их в MFGs.\r\n",
    "\r\n",
    "Если требуется реализовать кастомное поведение, достаточно определить метод `sample_blocks()`. Он должен принимать на вход: \r\n",
    "1. Слой, для которого генерируется фронт\r\n",
    "2. Исходный граф\r\n",
    "3. Узлы, для которых на этом слое рассчитываются представления (`output_nodes` или `seed_nodes`)."
   ],
   "metadata": {}
  },
  {
   "cell_type": "code",
   "execution_count": 30,
   "source": [
    "# пример реализации простейшего сэмплера\r\n",
    "class MultiLayerFullNeighborSampler(dgl.dataloading.BlockSampler):\r\n",
    "    def __init__(self, n_layers):\r\n",
    "        super().__init__(n_layers)\r\n",
    "\r\n",
    "    def sample_frontier(self, block_id, g, seed_nodes):\r\n",
    "        frontier = dgl.in_subgraph(g, seed_nodes)\r\n",
    "        return frontier"
   ],
   "outputs": [],
   "metadata": {}
  },
  {
   "cell_type": "markdown",
   "source": [
    "Пример более сложного сэмплера, который позволяет сэмплировать небольшое количество соседей для получения сообщений"
   ],
   "metadata": {}
  },
  {
   "cell_type": "code",
   "execution_count": 31,
   "source": [
    "class MultiLayerNeighborSampler(dgl.dataloading.BlockSampler):\r\n",
    "    def __init__(self, fanouts):\r\n",
    "        super().__init__(len(fanouts))\r\n",
    "\r\n",
    "        # fanouts: список целых чисел: кол-ва соседей для сэмплинга на iм слое\r\n",
    "        self.fanouts = fanouts\r\n",
    "\r\n",
    "    def sample_frontier(self, block_id, g, seed_nodes):\r\n",
    "        fanout = self.fanouts[block_id]\r\n",
    "        if fanout is None:\r\n",
    "            frontier = dgl.in_subgraph(g, seed_nodes)\r\n",
    "        else:\r\n",
    "            frontier = dgl.sampling.sample_neighbors(g, seed_nodes, fanout)\r\n",
    "        return frontier"
   ],
   "outputs": [],
   "metadata": {}
  },
  {
   "cell_type": "markdown",
   "source": [
    "После реализации собственного сэмплера, можно создать dataloader и итерироваться по нему, как и в случае уже готовых сэмплеров."
   ],
   "metadata": {}
  },
  {
   "cell_type": "markdown",
   "source": [
    "## Stochastic training for node classification"
   ],
   "metadata": {}
  },
  {
   "cell_type": "markdown",
   "source": [
    "При работе с модулями из DGL перейти на работу с батчами достаточно просто - нужно в метод `forward` модели передавать не весь граф, а блоки; каждый блок соответствует очередному слою. Кол-во слоев должно быть известно заранее (на момент создания сэмплера)"
   ],
   "metadata": {}
  },
  {
   "cell_type": "code",
   "execution_count": null,
   "source": [
    "class GCN(nn.Module):\r\n",
    "    def __init__(self, in_features, hidden_features, out_features):\r\n",
    "        super().__init__()\r\n",
    "        self.conv1 = gnn.GraphConv(in_features, hidden_features)\r\n",
    "        self.conv2 = gnn.GraphConv(hidden_features, out_features)\r\n",
    "\r\n",
    "    # def forward(self, g, x):\r\n",
    "    #     x = F.relu(self.conv1(g, x))\r\n",
    "    #     x = self.conv2(g, x)\r\n",
    "    #     return x\r\n",
    "\r\n",
    "    def forward(self, blocks, x):\r\n",
    "        x = F.relu(self.conv1(blocks[0], x))\r\n",
    "        x = self.conv2(blocks[1], x)\r\n",
    "        return x    "
   ],
   "outputs": [],
   "metadata": {}
  },
  {
   "cell_type": "markdown",
   "source": [
    "Теперь цикл обучения выглядит так.\r\n",
    "\r\n",
    "Итерируемся по даталоадеру. На каждой итерации имеем тройку `input_nodes`, `output_nodes` и `blocks`. \r\n",
    "1. Загружаем все фичи для узлов из `input_nodes`; фичи всех остальных узлов можно не загружать. Если фичи уже лежат в `G.ndata`, то нужные их них можно получить, обратившись к `blocks[0].srcdata`\r\n",
    "2. Прогоняем каждый из блоков последовательно по слоям сети\r\n",
    "3. Подгружаем метки узлов для обучения. Если они уже лежали в `G.ndata`, то нужные их них можно получить, обратившись к `blocks[-1].dstdata`\r\n",
    "4. Считаем лосс и выполняем обратное распространение ошибки"
   ],
   "metadata": {}
  },
  {
   "cell_type": "code",
   "execution_count": 36,
   "source": [
    "from utils import load_reddit\r\n",
    "G, n_classes = load_reddit()\r\n",
    "G = G.subgraph(torch.randint(0, G.num_nodes(), (20_000, )))\r\n",
    "\r\n",
    "train_G = G.subgraph(G.ndata['train_mask'])\r\n",
    "val_G = G.subgraph(G.ndata['train_mask'] | G.ndata['val_mask'])\r\n",
    "test_G = G"
   ],
   "outputs": [],
   "metadata": {}
  },
  {
   "cell_type": "code",
   "execution_count": 37,
   "source": [
    "train_nfeat = train_G.ndata.pop('features')\r\n",
    "val_nfeat = val_G.ndata.pop('features')\r\n",
    "test_nfeat = test_G.ndata.pop('features')\r\n",
    "train_labels = train_G.ndata.pop('labels')\r\n",
    "val_labels = val_G.ndata.pop('labels')\r\n",
    "test_labels = test_G.ndata.pop('labels')"
   ],
   "outputs": [],
   "metadata": {}
  },
  {
   "cell_type": "code",
   "execution_count": 41,
   "source": [
    "train_nid = train_G.ndata['train_mask'].nonzero().flatten()\r\n",
    "val_nid = val_G.ndata['val_mask'].nonzero().flatten()\r\n",
    "test_nid = (~(test_G.ndata['train_mask'] | test_G.ndata['val_mask'])).nonzero().flatten()"
   ],
   "outputs": [],
   "metadata": {}
  },
  {
   "cell_type": "code",
   "execution_count": 59,
   "source": [
    "class GCN(nn.Module):\r\n",
    "    def __init__(self, n_inputs, n_hidden, n_outputs):\r\n",
    "        super().__init__()\r\n",
    "        self.conv1 = gnn.SAGEConv(n_inputs, n_hidden, aggregator_type='mean', activation=F.relu)\r\n",
    "        self.conv2 = gnn.SAGEConv(n_hidden, n_outputs, aggregator_type='mean')\r\n",
    "\r\n",
    "    def forward(self, blocks, features):\r\n",
    "        assert len(blocks) == 2\r\n",
    "        out = self.conv1(blocks[0], features)\r\n",
    "        out = self.conv2(blocks[1], out)\r\n",
    "        return out\r\n",
    "\r\n",
    "    def inference(self, G, features):\r\n",
    "        out = self.conv1(G, features)\r\n",
    "        out = self.conv2(G, out)\r\n",
    "        return out"
   ],
   "outputs": [],
   "metadata": {}
  },
  {
   "cell_type": "code",
   "execution_count": 60,
   "source": [
    "fanouts = [10, 25]\r\n",
    "sampler = dgl.dataloading.MultiLayerNeighborSampler(fanouts)\r\n",
    "dataloader = dgl.dataloading.NodeDataLoader(train_G, train_nid, sampler,\r\n",
    "                                            batch_size=256, shuffle=True,\r\n",
    "                                            drop_last=False)\r\n",
    "\r\n",
    "model = GCN(train_nfeat.shape[1], 16, n_classes)\r\n",
    "\r\n",
    "criterion = nn.CrossEntropyLoss()\r\n",
    "optimizer = optim.Adam(model.parameters(), lr=0.001)   \r\n",
    "\r\n",
    "for epoch in range(20):\r\n",
    "    for step, (input_nodes, output_nodes, blocks) in enumerate(dataloader):\r\n",
    "        batch_inputs = train_nfeat[input_nodes]\r\n",
    "        batch_labels = train_labels[output_nodes]\r\n",
    "        \r\n",
    "        preds = model(blocks, batch_inputs)\r\n",
    "        loss = criterion(preds, batch_labels)\r\n",
    "        \r\n",
    "        loss.backward()\r\n",
    "        optimizer.step()\r\n",
    "        optimizer.zero_grad()\r\n",
    "\r\n",
    "        if not step % 20:\r\n",
    "            acc = (preds.argmax(dim=1) == batch_labels).sum() / len(preds)\r\n",
    "            print('Epoch {:05d} | Step {:05d} | Loss {:.4f} | Train Acc {:.4f}'.format(\r\n",
    "                        epoch, step, loss.item(), acc.item()))"
   ],
   "outputs": [
    {
     "output_type": "stream",
     "name": "stdout",
     "text": [
      "Epoch 00000 | Step 00000 | Loss 5.5970 | Train Acc 0.0156\n",
      "Epoch 00000 | Step 00020 | Loss 4.0209 | Train Acc 0.1016\n",
      "Epoch 00000 | Step 00040 | Loss 3.4841 | Train Acc 0.1758\n",
      "Epoch 00001 | Step 00000 | Loss 3.5828 | Train Acc 0.1602\n",
      "Epoch 00001 | Step 00020 | Loss 3.2825 | Train Acc 0.2031\n",
      "Epoch 00001 | Step 00040 | Loss 3.0412 | Train Acc 0.2656\n",
      "Epoch 00002 | Step 00000 | Loss 2.9172 | Train Acc 0.2695\n",
      "Epoch 00002 | Step 00020 | Loss 2.8811 | Train Acc 0.2539\n",
      "Epoch 00002 | Step 00040 | Loss 2.5978 | Train Acc 0.3125\n",
      "Epoch 00003 | Step 00000 | Loss 2.8267 | Train Acc 0.2812\n",
      "Epoch 00003 | Step 00020 | Loss 2.7243 | Train Acc 0.3516\n",
      "Epoch 00003 | Step 00040 | Loss 2.7118 | Train Acc 0.2734\n",
      "Epoch 00004 | Step 00000 | Loss 2.5340 | Train Acc 0.3594\n",
      "Epoch 00004 | Step 00020 | Loss 2.3566 | Train Acc 0.3750\n",
      "Epoch 00004 | Step 00040 | Loss 2.4719 | Train Acc 0.3750\n",
      "Epoch 00005 | Step 00000 | Loss 2.3187 | Train Acc 0.4141\n",
      "Epoch 00005 | Step 00020 | Loss 2.2216 | Train Acc 0.4258\n",
      "Epoch 00005 | Step 00040 | Loss 2.3096 | Train Acc 0.3828\n",
      "Epoch 00006 | Step 00000 | Loss 2.0490 | Train Acc 0.4453\n",
      "Epoch 00006 | Step 00020 | Loss 2.0000 | Train Acc 0.4688\n",
      "Epoch 00006 | Step 00040 | Loss 2.1509 | Train Acc 0.4609\n",
      "Epoch 00007 | Step 00000 | Loss 1.9770 | Train Acc 0.4844\n",
      "Epoch 00007 | Step 00020 | Loss 1.8275 | Train Acc 0.5508\n",
      "Epoch 00007 | Step 00040 | Loss 2.1001 | Train Acc 0.4492\n",
      "Epoch 00008 | Step 00000 | Loss 2.0552 | Train Acc 0.4414\n",
      "Epoch 00008 | Step 00020 | Loss 1.7526 | Train Acc 0.5156\n",
      "Epoch 00008 | Step 00040 | Loss 1.8219 | Train Acc 0.5391\n",
      "Epoch 00009 | Step 00000 | Loss 1.7009 | Train Acc 0.5547\n",
      "Epoch 00009 | Step 00020 | Loss 1.8071 | Train Acc 0.5000\n",
      "Epoch 00009 | Step 00040 | Loss 1.8608 | Train Acc 0.5000\n",
      "Epoch 00010 | Step 00000 | Loss 1.7696 | Train Acc 0.5117\n",
      "Epoch 00010 | Step 00020 | Loss 1.6425 | Train Acc 0.5703\n",
      "Epoch 00010 | Step 00040 | Loss 1.6363 | Train Acc 0.5781\n",
      "Epoch 00011 | Step 00000 | Loss 1.4305 | Train Acc 0.5938\n",
      "Epoch 00011 | Step 00020 | Loss 1.5322 | Train Acc 0.5898\n",
      "Epoch 00011 | Step 00040 | Loss 1.6800 | Train Acc 0.5352\n",
      "Epoch 00012 | Step 00000 | Loss 1.6164 | Train Acc 0.5312\n",
      "Epoch 00012 | Step 00020 | Loss 1.5053 | Train Acc 0.5859\n",
      "Epoch 00012 | Step 00040 | Loss 1.5633 | Train Acc 0.5781\n",
      "Epoch 00013 | Step 00000 | Loss 1.4709 | Train Acc 0.5586\n",
      "Epoch 00013 | Step 00020 | Loss 1.6133 | Train Acc 0.5352\n",
      "Epoch 00013 | Step 00040 | Loss 1.4692 | Train Acc 0.6094\n",
      "Epoch 00014 | Step 00000 | Loss 1.4902 | Train Acc 0.5586\n",
      "Epoch 00014 | Step 00020 | Loss 1.3928 | Train Acc 0.6172\n",
      "Epoch 00014 | Step 00040 | Loss 1.4228 | Train Acc 0.6133\n",
      "Epoch 00015 | Step 00000 | Loss 1.3753 | Train Acc 0.5820\n",
      "Epoch 00015 | Step 00020 | Loss 1.2309 | Train Acc 0.6562\n",
      "Epoch 00015 | Step 00040 | Loss 1.3302 | Train Acc 0.6211\n",
      "Epoch 00016 | Step 00000 | Loss 1.2760 | Train Acc 0.6289\n",
      "Epoch 00016 | Step 00020 | Loss 1.3187 | Train Acc 0.6406\n",
      "Epoch 00016 | Step 00040 | Loss 1.4243 | Train Acc 0.6016\n",
      "Epoch 00017 | Step 00000 | Loss 1.4189 | Train Acc 0.5938\n",
      "Epoch 00017 | Step 00020 | Loss 1.3760 | Train Acc 0.5820\n",
      "Epoch 00017 | Step 00040 | Loss 1.2077 | Train Acc 0.6758\n",
      "Epoch 00018 | Step 00000 | Loss 1.1389 | Train Acc 0.6602\n",
      "Epoch 00018 | Step 00020 | Loss 1.1492 | Train Acc 0.6953\n",
      "Epoch 00018 | Step 00040 | Loss 1.3949 | Train Acc 0.6250\n",
      "Epoch 00019 | Step 00000 | Loss 1.3165 | Train Acc 0.6172\n",
      "Epoch 00019 | Step 00020 | Loss 1.1975 | Train Acc 0.6406\n",
      "Epoch 00019 | Step 00040 | Loss 1.2104 | Train Acc 0.6836\n"
     ]
    }
   ],
   "metadata": {}
  },
  {
   "cell_type": "code",
   "execution_count": 65,
   "source": [
    "val_preds = model.inference(val_G, val_nfeat)\r\n",
    "acc = (val_preds.argmax(dim=1) == val_labels).sum() / len(val_labels)\r\n",
    "print(f'{acc:.4f}')"
   ],
   "outputs": [
    {
     "output_type": "stream",
     "name": "stdout",
     "text": [
      "0.6370\n"
     ]
    }
   ],
   "metadata": {}
  },
  {
   "cell_type": "markdown",
   "source": [
    "## Heterogenious graph stochastic training"
   ],
   "metadata": {}
  },
  {
   "cell_type": "code",
   "execution_count": 91,
   "source": [
    "class RGCN(nn.Module):\r\n",
    "    def __init__(self, n_inputs, n_hidden, n_outputs, rel_names):\r\n",
    "        super().__init__()\r\n",
    "        conv1_modules = {rel: gnn.GraphConv(n_inputs, n_hidden) for rel in rel_names}\r\n",
    "        conv2_modules = {rel: gnn.GraphConv(n_hidden, n_outputs) for rel in rel_names}\r\n",
    "        self.conv1 = gnn.HeteroGraphConv(conv1_modules, aggregate='sum')\r\n",
    "        self.conv2 = gnn.HeteroGraphConv(conv2_modules, aggregate='sum')\r\n",
    "\r\n",
    "    def forward(self, blocks, features):\r\n",
    "        out = self.conv1(blocks[0], features)\r\n",
    "        out = {k: F.relu(v) for k, v in out.items()}\r\n",
    "        out = self.conv2(blocks[1], out)\r\n",
    "        return out"
   ],
   "outputs": [],
   "metadata": {}
  },
  {
   "cell_type": "code",
   "execution_count": 104,
   "source": [
    "from utils import create_heterograph\r\n",
    "\r\n",
    "G = create_heterograph()\r\n",
    "model = RGCN(G.n_hetero_features, \r\n",
    "             20, \r\n",
    "             G.n_user_classes,\r\n",
    "             G.etypes)\r\n",
    "\r\n",
    "user_feats = G.nodes['user'].data['feature']\r\n",
    "item_feats = G.nodes['item'].data['feature']\r\n",
    "node_features = {ntype: G.nodes[ntype].data['feature'] for ntype in G.ntypes}\r\n",
    "labels = G.nodes['user'].data['label']\r\n",
    "train_mask = G.nodes['user'].data['train_mask']\r\n",
    "train_nid_dict = {'user': G.nodes['user'].data['train_mask'].nonzero().flatten()}\r\n",
    "\r\n",
    "sampler = dgl.dataloading.MultiLayerFullNeighborSampler(2)\r\n",
    "dataloader = dgl.dataloading.NodeDataLoader(G, train_nid_dict, sampler,\r\n",
    "                                            batch_size=32, shuffle=True)\r\n",
    "\r\n",
    "optimizer = optim.Adam(model.parameters(), lr=.01)\r\n",
    "criterion = nn.CrossEntropyLoss()\r\n",
    "\r\n",
    "for epoch in range(20):\r\n",
    "    for step, (input_nodes, output_nodes, blocks) in enumerate(dataloader):\r\n",
    "        # forward\r\n",
    "        batch_node_features = {ntype: node_features[ntype][n_ids] \r\n",
    "                                   for ntype, n_ids in input_nodes.items()}\r\n",
    "        batch_labels = labels[output_nodes['user']]\r\n",
    "\r\n",
    "        logits_by_type = model(blocks, batch_node_features)\r\n",
    "        # обучаемся только на пользователях\r\n",
    "        logits = logits_by_type['user']\r\n",
    "        loss = criterion(logits, batch_labels)\r\n",
    "        # backward\r\n",
    "        loss.backward()\r\n",
    "        optimizer.step()\r\n",
    "        optimizer.zero_grad()\r\n",
    "        if not step % 10:\r\n",
    "            acc = (logits.argmax(dim=1) == batch_labels).sum() / len(preds)\r\n",
    "            print('Epoch {:05d} | Step {:05d} | Loss {:.4f} | Train Acc {:.4f}'.format(\r\n",
    "                        epoch, step, loss.item(), acc.item()))\r\n"
   ],
   "outputs": [
    {
     "output_type": "stream",
     "name": "stdout",
     "text": [
      "Epoch 00000 | Step 00000 | Loss 3.4874 | Train Acc 0.0465\n",
      "Epoch 00000 | Step 00010 | Loss 2.4812 | Train Acc 0.0349\n",
      "Epoch 00001 | Step 00000 | Loss 1.7108 | Train Acc 0.0523\n",
      "Epoch 00001 | Step 00010 | Loss 1.7010 | Train Acc 0.0581\n",
      "Epoch 00002 | Step 00000 | Loss 1.6059 | Train Acc 0.0523\n",
      "Epoch 00002 | Step 00010 | Loss 1.4828 | Train Acc 0.0698\n",
      "Epoch 00003 | Step 00000 | Loss 1.2961 | Train Acc 0.0872\n",
      "Epoch 00003 | Step 00010 | Loss 1.5904 | Train Acc 0.0523\n",
      "Epoch 00004 | Step 00000 | Loss 1.3534 | Train Acc 0.0872\n",
      "Epoch 00004 | Step 00010 | Loss 1.4935 | Train Acc 0.0756\n",
      "Epoch 00005 | Step 00000 | Loss 1.0347 | Train Acc 0.1105\n",
      "Epoch 00005 | Step 00010 | Loss 1.5249 | Train Acc 0.0581\n",
      "Epoch 00006 | Step 00000 | Loss 1.2868 | Train Acc 0.1047\n",
      "Epoch 00006 | Step 00010 | Loss 1.2713 | Train Acc 0.0988\n",
      "Epoch 00007 | Step 00000 | Loss 1.3194 | Train Acc 0.1047\n",
      "Epoch 00007 | Step 00010 | Loss 1.1724 | Train Acc 0.1279\n",
      "Epoch 00008 | Step 00000 | Loss 1.3073 | Train Acc 0.0814\n",
      "Epoch 00008 | Step 00010 | Loss 1.1463 | Train Acc 0.1105\n",
      "Epoch 00009 | Step 00000 | Loss 1.3077 | Train Acc 0.0814\n",
      "Epoch 00009 | Step 00010 | Loss 1.0036 | Train Acc 0.1221\n",
      "Epoch 00010 | Step 00000 | Loss 1.1399 | Train Acc 0.1279\n",
      "Epoch 00010 | Step 00010 | Loss 1.0961 | Train Acc 0.1105\n",
      "Epoch 00011 | Step 00000 | Loss 1.1202 | Train Acc 0.1047\n",
      "Epoch 00011 | Step 00010 | Loss 0.8746 | Train Acc 0.1337\n",
      "Epoch 00012 | Step 00000 | Loss 1.1314 | Train Acc 0.1105\n",
      "Epoch 00012 | Step 00010 | Loss 1.1247 | Train Acc 0.1163\n",
      "Epoch 00013 | Step 00000 | Loss 1.0310 | Train Acc 0.1105\n",
      "Epoch 00013 | Step 00010 | Loss 0.9477 | Train Acc 0.1279\n",
      "Epoch 00014 | Step 00000 | Loss 0.9529 | Train Acc 0.1221\n",
      "Epoch 00014 | Step 00010 | Loss 0.9130 | Train Acc 0.1221\n",
      "Epoch 00015 | Step 00000 | Loss 0.9316 | Train Acc 0.1163\n",
      "Epoch 00015 | Step 00010 | Loss 0.8600 | Train Acc 0.1105\n",
      "Epoch 00016 | Step 00000 | Loss 0.7759 | Train Acc 0.1337\n",
      "Epoch 00016 | Step 00010 | Loss 0.8458 | Train Acc 0.1163\n",
      "Epoch 00017 | Step 00000 | Loss 0.7958 | Train Acc 0.1163\n",
      "Epoch 00017 | Step 00010 | Loss 1.1845 | Train Acc 0.0930\n",
      "Epoch 00018 | Step 00000 | Loss 0.7862 | Train Acc 0.1221\n",
      "Epoch 00018 | Step 00010 | Loss 0.9099 | Train Acc 0.1279\n",
      "Epoch 00019 | Step 00000 | Loss 0.7778 | Train Acc 0.1337\n",
      "Epoch 00019 | Step 00010 | Loss 0.9260 | Train Acc 0.1047\n"
     ]
    }
   ],
   "metadata": {}
  },
  {
   "cell_type": "code",
   "execution_count": null,
   "source": [],
   "outputs": [],
   "metadata": {}
  }
 ],
 "metadata": {
  "interpreter": {
   "hash": "b06e6ab994fc15ce23aa05c7ffef0f9130e5f92563bdff97ffc0fa050e903d35"
  },
  "kernelspec": {
   "name": "python3",
   "display_name": "Python 3.8.8 64-bit ('gcn': conda)"
  },
  "language_info": {
   "codemirror_mode": {
    "name": "ipython",
    "version": 3
   },
   "file_extension": ".py",
   "mimetype": "text/x-python",
   "name": "python",
   "nbconvert_exporter": "python",
   "pygments_lexer": "ipython3",
   "version": "3.8.8"
  },
  "orig_nbformat": 4
 },
 "nbformat": 4,
 "nbformat_minor": 2
}