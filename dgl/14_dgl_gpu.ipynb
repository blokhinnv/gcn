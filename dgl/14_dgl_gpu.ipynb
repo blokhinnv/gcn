{
 "cells": [
  {
   "cell_type": "code",
   "execution_count": 1,
   "metadata": {},
   "outputs": [
    {
     "name": "stderr",
     "output_type": "stream",
     "text": [
      "Using backend: pytorch\n"
     ]
    }
   ],
   "source": [
    "import dgl\n",
    "import dgl.data\n",
    "import dgl.nn as gnn\n",
    "\n",
    "import torch\n",
    "import torch.nn as nn\n",
    "import torch.nn.functional as F\n",
    "import torch.optim as optim"
   ]
  },
  {
   "cell_type": "markdown",
   "metadata": {},
   "source": [
    "# Обучение графовых нейросетей на GPU"
   ]
  },
  {
   "cell_type": "code",
   "execution_count": 2,
   "metadata": {},
   "outputs": [],
   "source": [
    "# Машина должна быть настроена должным образом\n",
    "assert torch.cuda.is_available()"
   ]
  },
  {
   "cell_type": "code",
   "execution_count": 3,
   "metadata": {},
   "outputs": [
    {
     "name": "stdout",
     "output_type": "stream",
     "text": [
      "  NumNodes: 2708\n",
      "  NumEdges: 10556\n",
      "  NumFeats: 1433\n",
      "  NumClasses: 7\n",
      "  NumTrainingSamples: 140\n",
      "  NumValidationSamples: 500\n",
      "  NumTestSamples: 1000\n",
      "Done loading data from cached files.\n"
     ]
    }
   ],
   "source": [
    "dataset = dgl.data.CoraGraphDataset()\n",
    "g = dataset[0]"
   ]
  },
  {
   "cell_type": "code",
   "execution_count": 4,
   "metadata": {},
   "outputs": [],
   "source": [
    "class GCN(nn.Module):\n",
    "    def __init__(self, n_input, n_hidden, n_output):\n",
    "        super().__init__()\n",
    "        self.conv1 = gnn.GraphConv(n_input, n_hidden)\n",
    "        self.conv2 = gnn.GraphConv(n_hidden, n_output)\n",
    "    \n",
    "    def forward(self, G, in_features):\n",
    "        out = F.relu(self.conv1(G, in_features))\n",
    "        out = self.conv2(G, out)\n",
    "        return out"
   ]
  },
  {
   "cell_type": "code",
   "execution_count": 5,
   "metadata": {},
   "outputs": [],
   "source": [
    "def train(model, g):\n",
    "    optimizer = optim.Adam(model.parameters(), lr=.01)\n",
    "    criterion = nn.CrossEntropyLoss()\n",
    "\n",
    "    best_val_acc, best_test_acc = 0, 0\n",
    "\n",
    "    features = g.ndata['feat']\n",
    "    labels = g.ndata['label']\n",
    "    train_mask = g.ndata['train_mask']\n",
    "    val_mask = g.ndata['val_mask']\n",
    "    test_mask = g.ndata['test_mask']\n",
    "    n_epochs = 100\n",
    "    for epoch in range(n_epochs):\n",
    "        logits = model(g, features)\n",
    "        loss = criterion(logits[train_mask], labels[train_mask])\n",
    "        loss.backward()\n",
    "        optimizer.step()\n",
    "        optimizer.zero_grad()\n",
    "\n",
    "        with torch.no_grad():\n",
    "            predictions = logits.argmax(dim=1)\n",
    "            train_acc = (predictions[train_mask] == labels[train_mask]).float().mean()\n",
    "            val_acc = (predictions[val_mask] == labels[val_mask]).float().mean()\n",
    "            test_acc = (predictions[test_mask] == labels[test_mask]).float().mean()\n",
    "\n",
    "            if best_val_acc < val_acc:\n",
    "                best_val_acc = val_acc\n",
    "                best_test_acc = test_acc\n",
    "\n",
    "        if not epoch % 5:\n",
    "            print(f'In epoch {epoch}, loss: {loss:.3f}, val acc: {val_acc:.3f} (best {best_val_acc:.3f}), test acc: {test_acc:.3f} (best {best_test_acc:.3f})')"
   ]
  },
  {
   "cell_type": "code",
   "execution_count": 6,
   "metadata": {},
   "outputs": [],
   "source": [
    "n_input = g.ndata['feat'].shape[1]\n",
    "n_hidden = 16\n",
    "n_out = dataset.num_classes"
   ]
  },
  {
   "cell_type": "code",
   "execution_count": 7,
   "metadata": {},
   "outputs": [
    {
     "name": "stdout",
     "output_type": "stream",
     "text": [
      "In epoch 0, loss: 1.946, val acc: 0.238 (best 0.238), test acc: 0.255 (best 0.255)\n",
      "In epoch 5, loss: 1.884, val acc: 0.564 (best 0.564), test acc: 0.607 (best 0.607)\n",
      "In epoch 10, loss: 1.796, val acc: 0.638 (best 0.638), test acc: 0.692 (best 0.692)\n",
      "In epoch 15, loss: 1.685, val acc: 0.694 (best 0.694), test acc: 0.710 (best 0.710)\n",
      "In epoch 20, loss: 1.551, val acc: 0.722 (best 0.722), test acc: 0.723 (best 0.723)\n",
      "In epoch 25, loss: 1.396, val acc: 0.746 (best 0.746), test acc: 0.724 (best 0.724)\n",
      "In epoch 30, loss: 1.227, val acc: 0.752 (best 0.752), test acc: 0.728 (best 0.728)\n",
      "In epoch 35, loss: 1.051, val acc: 0.754 (best 0.754), test acc: 0.729 (best 0.727)\n",
      "In epoch 40, loss: 0.880, val acc: 0.754 (best 0.754), test acc: 0.734 (best 0.727)\n",
      "In epoch 45, loss: 0.722, val acc: 0.758 (best 0.758), test acc: 0.736 (best 0.735)\n",
      "In epoch 50, loss: 0.584, val acc: 0.760 (best 0.764), test acc: 0.743 (best 0.742)\n",
      "In epoch 55, loss: 0.469, val acc: 0.772 (best 0.772), test acc: 0.745 (best 0.745)\n",
      "In epoch 60, loss: 0.375, val acc: 0.770 (best 0.774), test acc: 0.751 (best 0.745)\n",
      "In epoch 65, loss: 0.302, val acc: 0.766 (best 0.774), test acc: 0.755 (best 0.745)\n",
      "In epoch 70, loss: 0.244, val acc: 0.770 (best 0.774), test acc: 0.755 (best 0.745)\n",
      "In epoch 75, loss: 0.199, val acc: 0.772 (best 0.774), test acc: 0.756 (best 0.745)\n",
      "In epoch 80, loss: 0.164, val acc: 0.772 (best 0.774), test acc: 0.759 (best 0.745)\n",
      "In epoch 85, loss: 0.137, val acc: 0.770 (best 0.774), test acc: 0.761 (best 0.745)\n",
      "In epoch 90, loss: 0.115, val acc: 0.774 (best 0.774), test acc: 0.760 (best 0.745)\n",
      "In epoch 95, loss: 0.098, val acc: 0.770 (best 0.774), test acc: 0.760 (best 0.745)\n",
      "Wall time: 3.41 s\n"
     ]
    }
   ],
   "source": [
    "%%time\n",
    "model = GCN(n_input, n_hidden, n_out)\n",
    "train(model, g)"
   ]
  },
  {
   "cell_type": "code",
   "execution_count": 9,
   "metadata": {},
   "outputs": [
    {
     "name": "stdout",
     "output_type": "stream",
     "text": [
      "In epoch 0, loss: 1.945, val acc: 0.196 (best 0.196), test acc: 0.214 (best 0.214)\n",
      "In epoch 5, loss: 1.880, val acc: 0.476 (best 0.476), test acc: 0.498 (best 0.498)\n",
      "In epoch 10, loss: 1.791, val acc: 0.628 (best 0.630), test acc: 0.660 (best 0.640)\n",
      "In epoch 15, loss: 1.681, val acc: 0.652 (best 0.656), test acc: 0.668 (best 0.667)\n",
      "In epoch 20, loss: 1.551, val acc: 0.658 (best 0.658), test acc: 0.655 (best 0.655)\n",
      "In epoch 25, loss: 1.403, val acc: 0.652 (best 0.658), test acc: 0.662 (best 0.655)\n",
      "In epoch 30, loss: 1.241, val acc: 0.672 (best 0.672), test acc: 0.687 (best 0.687)\n",
      "In epoch 35, loss: 1.074, val acc: 0.702 (best 0.702), test acc: 0.713 (best 0.713)\n",
      "In epoch 40, loss: 0.910, val acc: 0.718 (best 0.718), test acc: 0.736 (best 0.732)\n",
      "In epoch 45, loss: 0.756, val acc: 0.726 (best 0.726), test acc: 0.746 (best 0.746)\n",
      "In epoch 50, loss: 0.620, val acc: 0.746 (best 0.746), test acc: 0.756 (best 0.756)\n",
      "In epoch 55, loss: 0.504, val acc: 0.760 (best 0.760), test acc: 0.764 (best 0.763)\n",
      "In epoch 60, loss: 0.408, val acc: 0.764 (best 0.764), test acc: 0.770 (best 0.770)\n",
      "In epoch 65, loss: 0.331, val acc: 0.774 (best 0.774), test acc: 0.771 (best 0.771)\n",
      "In epoch 70, loss: 0.270, val acc: 0.780 (best 0.780), test acc: 0.775 (best 0.775)\n",
      "In epoch 75, loss: 0.222, val acc: 0.776 (best 0.780), test acc: 0.775 (best 0.775)\n",
      "In epoch 80, loss: 0.184, val acc: 0.772 (best 0.780), test acc: 0.776 (best 0.775)\n",
      "In epoch 85, loss: 0.153, val acc: 0.778 (best 0.780), test acc: 0.773 (best 0.775)\n",
      "In epoch 90, loss: 0.130, val acc: 0.776 (best 0.780), test acc: 0.770 (best 0.775)\n",
      "In epoch 95, loss: 0.111, val acc: 0.776 (best 0.780), test acc: 0.767 (best 0.775)\n",
      "Wall time: 1.97 s\n"
     ]
    }
   ],
   "source": [
    "%%time\n",
    "# Для обучении на GPU помещаем модель и граф на GPU.\n",
    "model = GCN(n_input, n_hidden, n_out).to('cuda')\n",
    "train(model, g.to('cuda'))"
   ]
  },
  {
   "cell_type": "code",
   "execution_count": null,
   "metadata": {},
   "outputs": [],
   "source": []
  }
 ],
 "metadata": {
  "interpreter": {
   "hash": "b06e6ab994fc15ce23aa05c7ffef0f9130e5f92563bdff97ffc0fa050e903d35"
  },
  "kernelspec": {
   "display_name": "Python 3.8.8 64-bit ('gcn': conda)",
   "language": "python",
   "name": "python3"
  },
  "language_info": {
   "codemirror_mode": {
    "name": "ipython",
    "version": 3
   },
   "file_extension": ".py",
   "mimetype": "text/x-python",
   "name": "python",
   "nbconvert_exporter": "python",
   "pygments_lexer": "ipython3",
   "version": "3.8.8"
  },
  "orig_nbformat": 4
 },
 "nbformat": 4,
 "nbformat_minor": 2
}
