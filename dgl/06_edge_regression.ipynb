{
 "cells": [
  {
   "cell_type": "code",
   "execution_count": 5,
   "metadata": {},
   "outputs": [],
   "source": [
    "import dgl.nn as gnn\r\n",
    "import dgl.function as fn\r\n",
    "\r\n",
    "import torch\r\n",
    "import torch.nn as nn\r\n",
    "import torch.nn.functional as F\r\n",
    "import torch.optim as optim\r\n",
    "\r\n",
    "from utils import create_edge_pred_graph, create_heterograph"
   ]
  },
  {
   "cell_type": "markdown",
   "metadata": {},
   "source": [
    "# Homogenious graph edge regression"
   ]
  },
  {
   "cell_type": "markdown",
   "metadata": {},
   "source": [
    "Стандартная история - предсказать что-нибудь по поводу узлов на основе их скрытого представления, полученного после нескольких слоев GNN. Предсказания на уровне связи можно строить на основе представлений инцидентных этой связи узлов (и, быть может, фичей самой связи)."
   ]
  },
  {
   "cell_type": "code",
   "execution_count": 19,
   "metadata": {},
   "outputs": [],
   "source": [
    "n_nodes, n_edges, n_node_features,n_edge_features = 50, 100, 10, 10\r\n",
    "G = create_edge_pred_graph(n_nodes, n_edges, n_node_features, n_edge_features)"
   ]
  },
  {
   "cell_type": "markdown",
   "metadata": {},
   "source": [
    "Вариант 1. Нужно получить одно число для каждого ребра"
   ]
  },
  {
   "cell_type": "code",
   "execution_count": 4,
   "metadata": {},
   "outputs": [],
   "source": [
    "class DotProductPredictor(nn.Module):\r\n",
    "    def forward(self, G, features):\r\n",
    "        with G.local_scope():\r\n",
    "            G.ndata['h'] = features\r\n",
    "            G.apply_edges(fn.u_dot_v('h', 'h', 'score'))\r\n",
    "            return G.edata['score']\r\n",
    "            "
   ]
  },
  {
   "cell_type": "code",
   "execution_count": 8,
   "metadata": {},
   "outputs": [
    {
     "data": {
      "text/plain": [
       "torch.Size([100, 1])"
      ]
     },
     "execution_count": 8,
     "metadata": {},
     "output_type": "execute_result"
    }
   ],
   "source": [
    "predictor = DotProductPredictor()\r\n",
    "scores = predictor(G, G.ndata['feature'])\r\n",
    "scores.shape"
   ]
  },
  {
   "cell_type": "markdown",
   "metadata": {},
   "source": [
    "Вариант 2. Нужно получить вектор для каждого ребра"
   ]
  },
  {
   "cell_type": "code",
   "execution_count": 11,
   "metadata": {},
   "outputs": [],
   "source": [
    "class MLPPredictor(nn.Module):\r\n",
    "    def __init__(self, n_node_features, n_edge_features):\r\n",
    "        super().__init__()\r\n",
    "        self.linear = nn.Linear(2 * n_node_features, n_edge_features)\r\n",
    "\r\n",
    "    def gen_edge_feature(self, edges):\r\n",
    "        src = edges.src['h']\r\n",
    "        dst = edges.dst['h']\r\n",
    "        src_dst = torch.cat([src, dst], dim=1)\r\n",
    "        edge_feature = self.linear(src_dst)\r\n",
    "        return {'e_h': edge_feature}\r\n",
    "\r\n",
    "    def forward(self, G, features):\r\n",
    "        with G.local_scope():\r\n",
    "            G.ndata['h'] = features\r\n",
    "            G.apply_edges(self.gen_edge_feature)\r\n",
    "            return G.edata['e_h']\r\n",
    "            "
   ]
  },
  {
   "cell_type": "code",
   "execution_count": 20,
   "metadata": {},
   "outputs": [
    {
     "data": {
      "text/plain": [
       "torch.Size([100, 17])"
      ]
     },
     "execution_count": 20,
     "metadata": {},
     "output_type": "execute_result"
    }
   ],
   "source": [
    "predictor = MLPPredictor(n_node_features, 17)\r\n",
    "features = predictor(G, G.ndata['feature'])\r\n",
    "features.shape"
   ]
  },
  {
   "cell_type": "markdown",
   "metadata": {},
   "source": [
    "Полный цикл обучения для предсказания 1 числа на каждом ребре"
   ]
  },
  {
   "cell_type": "code",
   "execution_count": 23,
   "metadata": {},
   "outputs": [],
   "source": [
    "class GCN(nn.Module):\r\n",
    "    def __init__(self, n_inputs, n_hidden):\r\n",
    "        super().__init__()\r\n",
    "        self.conv1 = gnn.SAGEConv(n_inputs, n_hidden, aggregator_type='mean', activation=F.relu)\r\n",
    "        self.predictor = DotProductPredictor()\r\n",
    "\r\n",
    "    def forward(self, G, features):\r\n",
    "        out = self.conv1(G, features)\r\n",
    "        out = self.predictor(G, out)\r\n",
    "        return out"
   ]
  },
  {
   "cell_type": "code",
   "execution_count": 35,
   "metadata": {},
   "outputs": [
    {
     "name": "stdout",
     "output_type": "stream",
     "text": [
      "Epoch #0 loss=69.82396697998047\n",
      "Epoch #5 loss=17.834178924560547\n",
      "Epoch #10 loss=5.584915637969971\n",
      "Epoch #15 loss=2.6153640747070312\n",
      "Epoch #20 loss=1.710088849067688\n"
     ]
    }
   ],
   "source": [
    "node_features = G.ndata['feature']\r\n",
    "edge_labels = G.edata['label']\r\n",
    "train_mask = G.edata['train_mask']\r\n",
    "\r\n",
    "\r\n",
    "model = GCN(n_inputs=n_node_features, n_hidden=32)\r\n",
    "optimizer = optim.Adam(model.parameters(), lr=.01)\r\n",
    "criterion = nn.MSELoss()\r\n",
    "\r\n",
    "for epoch in range(21):\r\n",
    "    # forward\r\n",
    "    preds = model(G, node_features).flatten()\r\n",
    "    loss = criterion(preds[train_mask], edge_labels[train_mask])\r\n",
    "    # backward\r\n",
    "    loss.backward()\r\n",
    "    optimizer.step()\r\n",
    "    optimizer.zero_grad()\r\n",
    "    if not epoch % 5:\r\n",
    "        print(f'Epoch #{epoch} loss={loss.item()}')"
   ]
  },
  {
   "cell_type": "markdown",
   "metadata": {},
   "source": [
    "# Heterogenious graph"
   ]
  },
  {
   "cell_type": "markdown",
   "metadata": {},
   "source": [
    "Для гетерографов процесс похожий, только нужно сгенерировать представления всех узлов _всех типов_, а затем получить представления для _нужного типа_ ребер при помощи `apply_edges`."
   ]
  },
  {
   "cell_type": "code",
   "execution_count": 3,
   "metadata": {},
   "outputs": [],
   "source": [
    "class HeteroDotProductPredictor(nn.Module):\r\n",
    "    def forward(self, G, features, etype):\r\n",
    "        # features - это представления узлов для всех типов\r\n",
    "        with G.local_scope():\r\n",
    "            # таким образом можно присвоить свойство h всем типам узлов сразу\r\n",
    "            G.ndata['h'] = features\r\n",
    "            G.apply_edges(fn.u_dot_v('h', 'h', 'score'), etype=etype)\r\n",
    "            return G.edges[etype].data['score']"
   ]
  },
  {
   "cell_type": "code",
   "execution_count": 6,
   "metadata": {},
   "outputs": [],
   "source": [
    "G = create_heterograph()"
   ]
  },
  {
   "cell_type": "code",
   "execution_count": 12,
   "metadata": {},
   "outputs": [
    {
     "data": {
      "text/plain": [
       "torch.Size([5000, 1])"
      ]
     },
     "execution_count": 12,
     "metadata": {},
     "output_type": "execute_result"
    }
   ],
   "source": [
    "predictor = HeteroDotProductPredictor()\r\n",
    "features = {ntype: G.nodes[ntype].data['feature'] for ntype in G.ntypes}\r\n",
    "out = predictor(G, features, etype='click')\r\n",
    "out.shape"
   ]
  },
  {
   "cell_type": "code",
   "execution_count": 18,
   "metadata": {},
   "outputs": [],
   "source": [
    "class GCN(nn.Module):\r\n",
    "    def __init__(self, n_inputs, n_hidden, rel_names):\r\n",
    "        super().__init__()\r\n",
    "        conv1_modules = {rel: gnn.GraphConv(n_inputs, n_hidden) for rel in rel_names}\r\n",
    "        self.conv1 = gnn.HeteroGraphConv(conv1_modules, aggregate='sum')\r\n",
    "        self.predictor = HeteroDotProductPredictor()\r\n",
    "\r\n",
    "    def forward(self, G, features, etype):\r\n",
    "        # HeteroGraphConv принимает на вход словарь тип отношения: фичи узлов и \r\n",
    "        # возвращает словарь такой же структуры\r\n",
    "        out = self.conv1(G, features)\r\n",
    "        out = self.predictor(G, out, etype)\r\n",
    "        return out"
   ]
  },
  {
   "cell_type": "code",
   "execution_count": 23,
   "metadata": {},
   "outputs": [
    {
     "name": "stdout",
     "output_type": "stream",
     "text": [
      "Epoch #0 loss=36.21980667114258\n",
      "Epoch #5 loss=26.871191024780273\n",
      "Epoch #10 loss=15.392216682434082\n",
      "Epoch #15 loss=8.76208782196045\n",
      "Epoch #20 loss=8.20315170288086\n"
     ]
    }
   ],
   "source": [
    "n_hetero_features = 10\r\n",
    "rel_names = G.etypes\r\n",
    "features = {ntype: G.nodes[ntype].data['feature'] for ntype in G.ntypes}\r\n",
    "labels = G.edges['click'].data['label']\r\n",
    "train_mask = G.edges['click'].data['train_mask']\r\n",
    "\r\n",
    "model = GCN(n_inputs=n_hetero_features, n_hidden=32, rel_names=rel_names)\r\n",
    "optimizer = optim.Adam(model.parameters(), lr=.01)\r\n",
    "criterion = nn.MSELoss()\r\n",
    "\r\n",
    "for epoch in range(21):\r\n",
    "    # forward\r\n",
    "    preds = model(G, features, 'click').flatten()\r\n",
    "    loss = criterion(preds[train_mask], labels[train_mask])\r\n",
    "    # backward\r\n",
    "    loss.backward()\r\n",
    "    optimizer.step()\r\n",
    "    optimizer.zero_grad()\r\n",
    "    if not epoch % 5:\r\n",
    "        print(f'Epoch #{epoch} loss={loss.item()}')\r\n"
   ]
  },
  {
   "cell_type": "code",
   "execution_count": null,
   "metadata": {},
   "outputs": [],
   "source": []
  }
 ],
 "metadata": {
  "interpreter": {
   "hash": "b06e6ab994fc15ce23aa05c7ffef0f9130e5f92563bdff97ffc0fa050e903d35"
  },
  "kernelspec": {
   "display_name": "Python 3.8.8 64-bit ('gcn': conda)",
   "name": "python3"
  },
  "language_info": {
   "codemirror_mode": {
    "name": "ipython",
    "version": 3
   },
   "file_extension": ".py",
   "mimetype": "text/x-python",
   "name": "python",
   "nbconvert_exporter": "python",
   "pygments_lexer": "ipython3",
   "version": "3.8.8"
  },
  "orig_nbformat": 4
 },
 "nbformat": 4,
 "nbformat_minor": 2
}