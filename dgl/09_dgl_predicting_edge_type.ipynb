{
 "cells": [
  {
   "cell_type": "code",
   "execution_count": 6,
   "metadata": {},
   "outputs": [],
   "source": [
    "import dgl\r\n",
    "import dgl.function as fn\r\n",
    "import dgl.nn as gnn\r\n",
    "\r\n",
    "import torch\r\n",
    "import torch.nn as nn\r\n",
    "import torch.nn.functional as F\r\n",
    "import torch.optim as optim\r\n",
    "\r\n",
    "from utils import create_heterograph"
   ]
  },
  {
   "cell_type": "markdown",
   "metadata": {},
   "source": [
    "Цель: предсказать, является ли связь между пользователем и товаром связью типа `click` или `dislike`.\r\n",
    "\r\n",
    "Решение: \r\n",
    "1. Для получения представлений узлов берем любую модель, работающую с гетерографом (тут `RGCN` из `03_dgl_node_graph_classification`)\r\n",
    "2. Получаем специальное представление графа, в котором сохранены типы узлов и есть только 1 тип ребер между пользователем и товаров (т.е. все типы узлов между этими типами узлов объединены)\r\n",
    "3. Прогоняем его через `HeteroDotProductPredictor` из `08_dgl_edge_regression` (если многоклассовая классификация, то можно реализовать аналог `MLPPredictor`)"
   ]
  },
  {
   "cell_type": "code",
   "execution_count": 12,
   "metadata": {},
   "outputs": [
    {
     "name": "stdout",
     "output_type": "stream",
     "text": [
      "G=Graph(num_nodes={'item': 3, 'user': 2},\n",
      "      num_edges={('item', 'clicked-by', 'user'): 3, ('user', 'click', 'item'): 3, ('user', 'dislike', 'item'): 2},\n",
      "      metagraph=[('item', 'user', 'clicked-by'), ('user', 'item', 'click'), ('user', 'item', 'dislike')])\n",
      "\n",
      "H=Graph(num_nodes={'user': 2, 'item': 3},\n",
      "      num_edges={('user', 'click+dislike', 'item'): 5},\n",
      "      metagraph=[('user', 'item', 'click+dislike')])\n",
      "\n",
      "H.edges()=(tensor([0, 0, 1, 0, 1]), tensor([0, 2, 1, 1, 0]))\n"
     ]
    }
   ],
   "source": [
    "# пример с получением нужного представления графа\r\n",
    "data = {('user', 'click', 'item'): ([0, 0, 1], [0, 2, 1]),\r\n",
    "        ('user', 'dislike', 'item'): ([0, 1], [1, 0]),\r\n",
    "        ('item', 'clicked-by', 'user'): ([0, 2, 1], [0, 0, 1]),\r\n",
    "        }\r\n",
    "G = dgl.heterograph(data)\r\n",
    "H = G['user', :, 'item']\r\n",
    "print(f'{G=}')\r\n",
    "print()\r\n",
    "print(f'{H=}')\r\n",
    "print()\r\n",
    "print(f'{H.edges()=}')"
   ]
  },
  {
   "cell_type": "code",
   "execution_count": 14,
   "metadata": {},
   "outputs": [],
   "source": [
    "class RGCN(nn.Module):\r\n",
    "    def __init__(self, n_inputs, n_hidden, rel_names):\r\n",
    "        super().__init__()\r\n",
    "        # HeteroGraphConv использует различные подмодули для подграфов на \r\n",
    "        # основе соответствующих отношений\r\n",
    "        # отношение определяется тройкой (src_T, rel_T, dst_T)\r\n",
    "        # если для каких-то отношений используются одинаковые dst_T,\r\n",
    "        # то результаты для них будут сагрегированы указанным методом aggregate\r\n",
    "        conv1_modules = {rel: gnn.GraphConv(n_inputs, n_hidden) for rel in rel_names}\r\n",
    "        conv2_modules = {rel: gnn.GraphConv(n_hidden, n_hidden) for rel in rel_names}\r\n",
    "        self.conv1 = gnn.HeteroGraphConv(conv1_modules, aggregate='sum')\r\n",
    "        self.conv2 = gnn.HeteroGraphConv(conv2_modules, aggregate='sum')\r\n",
    "\r\n",
    "    def forward(self, G, features):\r\n",
    "        # HeteroGraphConv принимает на вход словарь тип отношения: фичи узлов и \r\n",
    "        # возвращает словарь такой же структуры\r\n",
    "        out = self.conv1(G, features)\r\n",
    "        out = {k: F.relu(v) for k, v in out.items()}\r\n",
    "        out = self.conv2(G, out)\r\n",
    "        return out\r\n",
    "\r\n",
    "class HeteroMLPPredictor(nn.Module):\r\n",
    "    def __init__(self, n_node_features, n_classes):\r\n",
    "        super().__init__()\r\n",
    "        self.linear = nn.Linear(2 * n_node_features, n_classes)\r\n",
    "\r\n",
    "    def gen_edge_feature(self, edges):\r\n",
    "        src = edges.src['h']\r\n",
    "        dst = edges.dst['h']\r\n",
    "        src_dst = torch.cat([src, dst], dim=1)\r\n",
    "        edge_feature = self.linear(src_dst)\r\n",
    "        return {'e_h': edge_feature}\r\n",
    "\r\n",
    "    def forward(self, G, features, etype):\r\n",
    "        # features - это представления узлов для всех типов\r\n",
    "        with G.local_scope():\r\n",
    "            # таким образом можно присвоить свойство h всем типам узлов сразу\r\n",
    "            G.ndata['h'] = features\r\n",
    "            # в данной задаче получается так, что в графе остается 1 тип ребер\r\n",
    "            # т.е. аргумент etype можно было бы опустить\r\n",
    "            G.apply_edges(self.gen_edge_feature, etype=etype)\r\n",
    "            return G.edges[etype].data['e_h']\r\n",
    "            "
   ]
  },
  {
   "cell_type": "code",
   "execution_count": 55,
   "metadata": {},
   "outputs": [],
   "source": [
    "class GCN(nn.Module):\r\n",
    "    def __init__(self, n_inputs, n_hidden, n_outputs, rel_names):\r\n",
    "        super().__init__()\r\n",
    "        self.conv = RGCN(n_inputs, n_hidden, n_hidden, rel_names)\r\n",
    "        self.predictor = HeteroMLPPredictor(n_hidden, n_outputs)\r\n",
    "\r\n",
    "    def forward(self, G, features, H):\r\n",
    "        # прогоняем \"обычный\" гетерограф через conv, получаем представления узлов\r\n",
    "        # c разбивкой по типам\r\n",
    "        out = self.conv(G, features)\r\n",
    "        # H - это \"упрощенная\" версия G, где ребра разных типов\r\n",
    "        # между пользователем и товаром слиты в один тип\r\n",
    "        assert len(H.etypes) == 1\r\n",
    "        # для каждого ребра (#ребер типа click + #ребер типа dislike)\r\n",
    "        # получаем вектор предсказания\r\n",
    "        out = self.predictor(H, out, H.etypes[0])\r\n",
    "        return out"
   ]
  },
  {
   "cell_type": "code",
   "execution_count": 60,
   "metadata": {},
   "outputs": [
    {
     "name": "stdout",
     "output_type": "stream",
     "text": [
      "Epoch #0 loss=0.9480441212654114\n",
      "Epoch #5 loss=0.38045939803123474\n",
      "Epoch #10 loss=0.2922082841396332\n",
      "Epoch #15 loss=0.26186424493789673\n",
      "Epoch #20 loss=0.24391502141952515\n",
      "Epoch #25 loss=0.22541563212871552\n",
      "Epoch #30 loss=0.209209606051445\n",
      "Epoch #35 loss=0.19780096411705017\n",
      "Epoch #40 loss=0.19008786976337433\n",
      "Epoch #45 loss=0.1848503053188324\n",
      "Epoch #50 loss=0.18062101304531097\n",
      "Epoch #55 loss=0.17699414491653442\n",
      "Epoch #60 loss=0.17399506270885468\n",
      "Epoch #65 loss=0.17157797515392303\n",
      "Epoch #70 loss=0.1696457415819168\n",
      "Epoch #75 loss=0.16809231042861938\n",
      "Epoch #80 loss=0.166630819439888\n",
      "Epoch #85 loss=0.16543890535831451\n",
      "Epoch #90 loss=0.16435131430625916\n",
      "Epoch #95 loss=0.1634066253900528\n",
      "Epoch #100 loss=0.16251473128795624\n"
     ]
    }
   ],
   "source": [
    "G = create_heterograph()\r\n",
    "features = {ntype: G.nodes[ntype].data['feature'] for ntype in G.ntypes}\r\n",
    "edge_labels = H.edata[dgl.ETYPE]\r\n",
    "# в edge_labels лежит подмножество G.etypes\r\n",
    "# перенумеруем их, начиная с 0\r\n",
    "renum_map = {label.item(): idx for idx, label in enumerate(edge_labels.unique())}\r\n",
    "edge_labels = torch.LongTensor([renum_map[label.item()] for label in edge_labels])\r\n",
    "n_classes = len(renum_map)\r\n",
    "\r\n",
    "H = G['user', :, 'item']\r\n",
    "\r\n",
    "model = GCN(10, 20, n_classes, G.etypes)\r\n",
    "optimizer = optim.Adam(model.parameters(), lr=.01)\r\n",
    "criterion = nn.CrossEntropyLoss()\r\n",
    "\r\n",
    "for epoch in range(101):\r\n",
    "    # forward\r\n",
    "    logits = model(G, features, H)\r\n",
    "    loss = criterion(logits, edge_labels)\r\n",
    "    # backward\r\n",
    "    loss.backward()\r\n",
    "    optimizer.step()\r\n",
    "    optimizer.zero_grad()\r\n",
    "    if not epoch % 5:\r\n",
    "        print(f'Epoch #{epoch} loss={loss.item()}')\r\n"
   ]
  },
  {
   "cell_type": "code",
   "execution_count": null,
   "metadata": {},
   "outputs": [],
   "source": []
  }
 ],
 "metadata": {
  "interpreter": {
   "hash": "b06e6ab994fc15ce23aa05c7ffef0f9130e5f92563bdff97ffc0fa050e903d35"
  },
  "kernelspec": {
   "display_name": "Python 3.8.8 64-bit ('gcn': conda)",
   "name": "python3"
  },
  "language_info": {
   "codemirror_mode": {
    "name": "ipython",
    "version": 3
   },
   "file_extension": ".py",
   "mimetype": "text/x-python",
   "name": "python",
   "nbconvert_exporter": "python",
   "pygments_lexer": "ipython3",
   "version": "3.8.8"
  },
  "orig_nbformat": 4
 },
 "nbformat": 4,
 "nbformat_minor": 2
}