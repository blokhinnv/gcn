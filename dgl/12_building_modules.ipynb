{
 "cells": [
  {
   "cell_type": "code",
   "execution_count": 12,
   "metadata": {},
   "outputs": [],
   "source": [
    "import torch\n",
    "import torch.nn as nn\n",
    "import torch.nn.functional as F\n",
    "\n",
    "import dgl\n",
    "from dgl.utils import expand_as_pair\n",
    "import dgl.function as fn\n",
    "from dgl.utils import check_eq_shape"
   ]
  },
  {
   "cell_type": "markdown",
   "metadata": {},
   "source": [
    "Любая НС модель состоит из модулей. Модули в `DGL` могут быть реализованы с использование фреймворков `Pytorch`, `MXNet` или `TensorFlow`. Описание модуля и работа с ним остаются такими, как предполагает соотвествующий фреймворк. Ключевое различие состоитв использование операций рассылки сообщений, которые реализованы в `DGL`."
   ]
  },
  {
   "cell_type": "markdown",
   "metadata": {},
   "source": [
    "Построение любого модуля в `Pytorch` состоит из 2 частей: описание метода `__init__` и описание метода `forward`.\n",
    "\n",
    "В методе `__init__` необходимо:\n",
    "1. Определить гиперпараметры модуля. Сюда относятся, среди прочего, размерности данных: размерность входа, скрытых слоев и выхода. Кроме этого существуют специфичные для GNN вещи, например, способ агрегации сообщений от соседей (`mean`, `sum` и т.д.) \n",
    "2. Зарегистрировать подмодули и настраиваемые параметры. Набор модулей в сети может меняться в зависимости от гиперпараметров.\n",
    "3. Сбросить состояние (при необходимости): например, инициализировать веса обучаемых модулей."
   ]
  },
  {
   "cell_type": "markdown",
   "metadata": {},
   "source": [
    "Метод `forward` выполняет рассылку сообщений и расчеты. В отличие от стандартных моделей из `Pytorch`, в `DGL` `forward` принимает на вход еще и граф.\n",
    "\n",
    "В методе `forward` необходимо:\n",
    "1. Провести провести (граф, типы и т.д.). Типичный пример: проверка, что в графе нет узлов с 0 in-degree. В противном случае сообщения к ним не поступают и функция свертки будет возвращать нули.\n",
    "2. Выполнить рассылку сообщений. В идеале модуль должен уметь работать с разными типами входных графов: homo- и heterogenious, subgraph blocks и т.д.\n",
    "3. Обновить фичи (узлов или ребер)"
   ]
  },
  {
   "cell_type": "markdown",
   "metadata": {},
   "source": [
    "В качестве примера рассматриваем SAGE:\n",
    "\n",
    "![](./assets/img/13_dgl_building_modules_sage.png)"
   ]
  },
  {
   "cell_type": "code",
   "execution_count": 41,
   "metadata": {},
   "outputs": [],
   "source": [
    "class SAGEConv(nn.Module):\n",
    "    def __init__(self, n_inputs: int, n_outputs: int, aggregator_type: str, \n",
    "                 bias: bool = True, norm: callable = None, activation: callable = None):\n",
    "        super().__init__()\n",
    "        \n",
    "        self.n_inputs = n_inputs\n",
    "        self._in_src_feats, self._in_dst_feats = expand_as_pair(n_inputs)\n",
    "        self.n_outputs = n_outputs\n",
    "        self._aggre_type = aggregator_type\n",
    "        self.norm = norm\n",
    "        self.bias = bias\n",
    "        self.activation = activation\n",
    "        self._set_modules()\n",
    "        self._reset_parameters()\n",
    "    \n",
    "    def _set_modules(self):\n",
    "        if self._aggre_type != 'mean':\n",
    "            raise KeyError('Aggregator type {} not supported.'.format(aggregator_type))\n",
    "\n",
    "        self.fc_self = nn.Linear(self._in_dst_feats, self.n_outputs, bias=self.bias)\n",
    "        self.fc_neigh = nn.Linear(self._in_src_feats, self.n_outputs, bias=self.bias)\n",
    "\n",
    "    def _reset_parameters(self):\n",
    "        gain = nn.init.calculate_gain('relu')\n",
    "        nn.init.xavier_uniform_(self.fc_self.weight, gain=gain)\n",
    "        nn.init.xavier_uniform_(self.fc_neigh.weight, gain=gain)\n",
    "\n",
    "    def forward(self, G, features):\n",
    "        # если граф однородный, то src_nodes = dst_nodes = all_nodes\n",
    "        # если граф неоднородный, то его можно разбить на несколько двудольных графов\n",
    "        # если обучение проводится на минибатчах, то работа будет вестись с подграфом типа block\n",
    "        # expand_as_pair разибвает фичи на 2 тензора в зависимости от типа графа\n",
    "        # после этого с ними можно работать, не обращая внимания на исходный тип графа\n",
    "        feat_src, feat_dst = expand_as_pair(features, G)\n",
    "        with G.local_scope():\n",
    "            # aggregation\n",
    "            # для однородных графов G.srcdata = G.dstdata = G.ndata\n",
    "            G.srcdata['h'] = feat_src\n",
    "            G.update_all(fn.copy_u('h', 'm'), fn.mean('m', 'h_n'))\n",
    "            h_n = G.dstdata['h_n']\n",
    "\n",
    "            # разбивка оригинальной формулы на 2 слагаемых\n",
    "            out = self.fc_self(feat_dst) + self.fc_neigh(h_n)\n",
    "\n",
    "            # активация + нормализация\n",
    "            if self.activation is not None:\n",
    "                out = self.activation(out)\n",
    "\n",
    "            if self.norm is not None:\n",
    "                out = self.norm(out)\n",
    "\n",
    "            return out"
   ]
  },
  {
   "cell_type": "code",
   "execution_count": 42,
   "metadata": {},
   "outputs": [],
   "source": [
    "from utils import create_edge_pred_graph\n",
    "\n",
    "G = create_edge_pred_graph(n_nodes=100, n_edges=1000,\n",
    "                           n_node_features=5, n_edge_features=2)"
   ]
  },
  {
   "cell_type": "code",
   "execution_count": 44,
   "metadata": {},
   "outputs": [
    {
     "data": {
      "text/plain": [
       "torch.Size([100, 7])"
      ]
     },
     "execution_count": 44,
     "metadata": {},
     "output_type": "execute_result"
    }
   ],
   "source": [
    "conv = SAGEConv(n_inputs=5, n_outputs=7, aggregator_type='mean', \n",
    "                activation=F.relu)\n",
    "\n",
    "out = conv(G, G.ndata['feature'])\n",
    "out.shape"
   ]
  },
  {
   "cell_type": "code",
   "execution_count": 56,
   "metadata": {},
   "outputs": [
    {
     "data": {
      "text/plain": [
       "torch.Size([32, 7])"
      ]
     },
     "execution_count": 56,
     "metadata": {},
     "output_type": "execute_result"
    }
   ],
   "source": [
    "# созданный модуль корректно обрабатывает работу с блоками\n",
    "sampler = dgl.dataloading.MultiLayerFullNeighborSampler(n_layers=1)\n",
    "train_ids = torch.arange(G.num_nodes())\n",
    "dataloader = dgl.dataloading.NodeDataLoader(G, train_ids, sampler,\n",
    "                                            batch_size=32, shuffle=True,\n",
    "                                            drop_last=False)\n",
    "\n",
    "input_nodes, output_nodes, blocks = next(iter(dataloader))  \n",
    "block = blocks[0] \n",
    "block_f = block.srcdata['feature']\n",
    "out = conv(block, block_f)\n",
    "out.shape"
   ]
  }
 ],
 "metadata": {
  "interpreter": {
   "hash": "b06e6ab994fc15ce23aa05c7ffef0f9130e5f92563bdff97ffc0fa050e903d35"
  },
  "kernelspec": {
   "display_name": "Python 3.8.8 64-bit ('gcn': conda)",
   "name": "python3"
  },
  "language_info": {
   "codemirror_mode": {
    "name": "ipython",
    "version": 3
   },
   "file_extension": ".py",
   "mimetype": "text/x-python",
   "name": "python",
   "nbconvert_exporter": "python",
   "pygments_lexer": "ipython3",
   "version": "3.8.8"
  },
  "orig_nbformat": 4
 },
 "nbformat": 4,
 "nbformat_minor": 2
}
