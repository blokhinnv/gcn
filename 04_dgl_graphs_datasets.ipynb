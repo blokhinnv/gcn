{
 "cells": [
  {
   "cell_type": "code",
   "execution_count": 1,
   "source": [
    "import numpy as np\r\n",
    "import torch\r\n",
    "\r\n",
    "import dgl\r\n",
    "\r\n",
    "import urllib.request\r\n",
    "import pandas as pd\r\n"
   ],
   "outputs": [
    {
     "output_type": "stream",
     "name": "stderr",
     "text": [
      "Using backend: pytorch\n"
     ]
    }
   ],
   "metadata": {}
  },
  {
   "cell_type": "markdown",
   "source": [
    "В `DGL` граф - объект класс `DGLGraph`. Для его создания нужно указать:\r\n",
    "* кол-во вершин (узлы нумеруются, начиная с 0; кол-во вершин можно не задавать, если они все перечислены в списках для создания ребер)\r\n",
    "* список начальных узлов для ребер\r\n",
    "* список конечных узлов для ребер\r\n",
    "    * узлы нумеруются, начиная с 0\r\n",
    "\r\n",
    "`DGLGraph` всегда ориентированный. Сделать граф неориентированным можно, воспользовавшись специальным преобразованием.\r\n",
    "\r\n",
    "На узлах (`.ndata`) и ребрах (`.edata`) могут храниться фичи:\r\n",
    "* только числовые тензоры\r\n",
    "* атрибуты всех узлов (ребер) должны иметь одинаковый размер\r\n",
    "\r\n",
    "[DGLGraph API](https://docs.dgl.ai/api/python/dgl.DGLGraph.html#dgl.DGLGraph)"
   ],
   "metadata": {}
  },
  {
   "cell_type": "code",
   "execution_count": 15,
   "source": [
    "G = dgl.graph(([0, 0, 0, 0, 0], [1, 2, 3, 4, 5]), num_nodes=6)\r\n",
    "G.ndata['x'] = torch.randn(6, 3)\r\n",
    "G.ndata['y'] = torch.randint(0, 2, (6, ))\r\n",
    "\r\n",
    "print('Узлы: ', G.nodes())\r\n",
    "print('Ребра:', G.edges())\r\n",
    "print('Фичи узлов: ', G.ndata)\r\n",
    "\r\n",
    "print(\"Кол-во узлов:\", G.num_nodes())\r\n",
    "print(\"Кол-во ребер:\", G.num_edges())\r\n",
    "print(\"In-degree:\", G.in_degrees())\r\n"
   ],
   "outputs": [
    {
     "output_type": "stream",
     "name": "stdout",
     "text": [
      "Узлы:  tensor([0, 1, 2, 3, 4, 5])\n",
      "Ребра: (tensor([0, 0, 0, 0, 0]), tensor([1, 2, 3, 4, 5]))\n",
      "Фичи узлов:  {'x': tensor([[-0.4655,  0.4201, -1.2988],\n",
      "        [ 0.2064,  0.9539, -0.6248],\n",
      "        [-0.5796,  0.5022, -0.8503],\n",
      "        [ 0.2421,  0.7596,  0.1702],\n",
      "        [-0.2405,  1.5044, -0.8841],\n",
      "        [ 0.9652,  1.2295, -0.0810]]), 'y': tensor([1, 1, 0, 0, 0, 0])}\n",
      "Кол-во узлов: 6\n",
      "Кол-во ребер: 5\n",
      "In-degree: tensor([0, 1, 1, 1, 1, 1])\n"
     ]
    }
   ],
   "metadata": {}
  },
  {
   "cell_type": "markdown",
   "source": [
    "`DGL` предоставляет различные преобразования:\r\n",
    "* извлечение подграфа (по узлам или по связям)\r\n",
    "    * узлы в подграфах перенумерованы; для поиска соответствующего узла (связи) в исходном графе используем ключ `dgl.NID` (`dgl.EID`)\r\n",
    "    * подграф сохраняет фичи исходных узлов (ребер)\r\n",
    "* добавление обратных связей\r\n",
    "* ..."
   ],
   "metadata": {}
  },
  {
   "cell_type": "code",
   "execution_count": 25,
   "source": [
    "SG1 = G.subgraph([0, 1, 3]) # подграф на основе узлов 0, 1 и 3\r\n",
    "SG2 = G.edge_subgraph([0, 1, 3])  # подграф на основе ребер 0, 1 и 3\r\n",
    "\r\n",
    "print(\"Соответствие узлов: \")\r\n",
    "print(*[f'{x} -> {y}' for x, y in zip(SG1.nodes(), SG1.ndata[dgl.NID])], sep='\\n')\r\n",
    "\r\n",
    "print('Фичи узлов: ', SG1.ndata)\r\n"
   ],
   "outputs": [
    {
     "output_type": "stream",
     "name": "stdout",
     "text": [
      "Соответствие узлов: \n",
      "0 -> 0\n",
      "1 -> 1\n",
      "2 -> 3\n",
      "Фичи узлов:  {'x': tensor([[-0.4655,  0.4201, -1.2988],\n",
      "        [ 0.2064,  0.9539, -0.6248],\n",
      "        [ 0.2421,  0.7596,  0.1702]]), 'y': tensor([1, 1, 0]), '_ID': tensor([0, 1, 3])}\n"
     ]
    }
   ],
   "metadata": {}
  },
  {
   "cell_type": "code",
   "execution_count": 27,
   "source": [
    "# делаем граф неориентированным\r\n",
    "H = dgl.add_reverse_edges(G)\r\n",
    "H.edges()"
   ],
   "outputs": [
    {
     "output_type": "execute_result",
     "data": {
      "text/plain": [
       "(tensor([0, 0, 0, 0, 0, 1, 2, 3, 4, 5]),\n",
       " tensor([1, 2, 3, 4, 5, 0, 0, 0, 0, 0]))"
      ]
     },
     "metadata": {},
     "execution_count": 27
    }
   ],
   "metadata": {}
  },
  {
   "cell_type": "markdown",
   "source": [
    "Для сохранения и загрузки существуют `dgl.save_graphs` и `dgl.load_graphs`"
   ],
   "metadata": {}
  },
  {
   "cell_type": "markdown",
   "source": [
    "Варианты графов:\r\n",
    "* мультиграф: более 1 ребра между одной парой узлов\r\n",
    "* граф знаний (heterogenious graph) `dgl.heterograph`"
   ],
   "metadata": {}
  },
  {
   "cell_type": "code",
   "execution_count": 29,
   "source": [
    "G = dgl.graph((torch.tensor([0, 1, 1]), torch.tensor([1, 3, 3])))\r\n",
    "G.is_multigraph"
   ],
   "outputs": [
    {
     "output_type": "execute_result",
     "data": {
      "text/plain": [
       "True"
      ]
     },
     "metadata": {},
     "execution_count": 29
    }
   ],
   "metadata": {}
  },
  {
   "cell_type": "code",
   "execution_count": 30,
   "source": [
    "data_dict = {\r\n",
    "    ('user', 'follows', 'user'): (torch.tensor([0, 1]), torch.tensor([1, 2])),\r\n",
    "    ('user', 'follows', 'topic'): (torch.tensor([1, 1]), torch.tensor([1, 2])),\r\n",
    "    ('user', 'plays', 'game'): (torch.tensor([0, 3]), torch.tensor([3, 4]))\r\n",
    "}\r\n",
    "# если не передать аргумент `num_nodes_dict`, то найдет макс. индекс узла I типа T и будет считать, что\r\n",
    "# есть I+1 узел этого типа (даже если нет ребер)\r\n",
    "G = dgl.heterograph(data_dict)\r\n",
    "G\r\n"
   ],
   "outputs": [
    {
     "output_type": "execute_result",
     "data": {
      "text/plain": [
       "Graph(num_nodes={'game': 5, 'topic': 3, 'user': 4},\n",
       "      num_edges={('user', 'follows', 'topic'): 2, ('user', 'follows', 'user'): 2, ('user', 'plays', 'game'): 2},\n",
       "      metagraph=[('user', 'topic', 'follows'), ('user', 'user', 'follows'), ('user', 'game', 'plays')])"
      ]
     },
     "metadata": {},
     "execution_count": 30
    }
   ],
   "metadata": {}
  },
  {
   "cell_type": "code",
   "execution_count": null,
   "source": [],
   "outputs": [],
   "metadata": {}
  },
  {
   "cell_type": "markdown",
   "source": [
    "Есть возможность создавать кастомные датасеты. Для этого наследуемся от `dgl.data.DGLDataset` и реализуем три метода:\r\n",
    "* `__getitem__`\r\n",
    "* `__len__`\r\n",
    "* `process` (загрузка и обработка данных с диска)"
   ],
   "metadata": {}
  },
  {
   "cell_type": "code",
   "execution_count": 5,
   "source": [
    "urllib.request.urlretrieve(\r\n",
    "    'https://data.dgl.ai/tutorial/dataset/members.csv', './assets/data/members.csv')\r\n",
    "urllib.request.urlretrieve(\r\n",
    "    'https://data.dgl.ai/tutorial/dataset/interactions.csv', './assets/data/interactions.csv')\r\n",
    "\r\n",
    "members = pd.read_csv('./assets/data/members.csv')\r\n",
    "print(members.head())\r\n",
    "\r\n",
    "interactions = pd.read_csv('./assets/data/interactions.csv')\r\n",
    "print(interactions.head())\r\n"
   ],
   "outputs": [
    {
     "output_type": "stream",
     "name": "stdout",
     "text": [
      "   Id    Club  Age\n",
      "0   0  Mr. Hi   44\n",
      "1   1  Mr. Hi   37\n",
      "2   2  Mr. Hi   37\n",
      "3   3  Mr. Hi   40\n",
      "4   4  Mr. Hi   30\n",
      "   Src  Dst    Weight\n",
      "0    0    1  0.043591\n",
      "1    0    2  0.282119\n",
      "2    0    3  0.370293\n",
      "3    0    4  0.730570\n",
      "4    0    5  0.821187\n"
     ]
    }
   ],
   "metadata": {}
  },
  {
   "cell_type": "code",
   "execution_count": 11,
   "source": [
    "class KarateDataset(dgl.data.DGLDataset):\r\n",
    "    def __init__(self):\r\n",
    "        super().__init__(name='karate_club')\r\n",
    "\r\n",
    "    def process(self):\r\n",
    "        # считываем файлы\r\n",
    "        nodes_data = pd.read_csv('./assets/data/members.csv')\r\n",
    "        edges_data = pd.read_csv('./assets/data/interactions.csv')\r\n",
    " \r\n",
    "        # строим граф\r\n",
    "        edges_src = torch.from_numpy(edges_data['Src'].to_numpy())\r\n",
    "        edges_dst = torch.from_numpy(edges_data['Dst'].to_numpy())\r\n",
    "\r\n",
    "        self.graph = dgl.graph((edges_src, edges_dst), num_nodes=nodes_data.shape[0])\r\n",
    "        # добавляем фичи\r\n",
    "        self.graph.ndata['feat'] = torch.from_numpy(nodes_data['Age'].to_numpy())\r\n",
    "        self.graph.ndata['label'] = torch.from_numpy(nodes_data['Club'].astype('category').cat.codes.to_numpy())\r\n",
    "        self.graph.edata['weight'] = torch.from_numpy(edges_data['Weight'].to_numpy())\r\n",
    "\r\n",
    "        # добавим маски для обучающего, валидационного и тестового множества\r\n",
    "        n_nodes = nodes_data.shape[0]\r\n",
    "        n_train = int(n_nodes * 0.6)\r\n",
    "        n_val = int(n_nodes * 0.2)\r\n",
    "        train_mask = torch.zeros(n_nodes, dtype=torch.bool)\r\n",
    "        val_mask = torch.zeros(n_nodes, dtype=torch.bool)\r\n",
    "        test_mask = torch.zeros(n_nodes, dtype=torch.bool)\r\n",
    "        train_mask[:n_train] = True\r\n",
    "        val_mask[n_train:n_train + n_val] = True\r\n",
    "        test_mask[n_train + n_val:] = True\r\n",
    "        self.graph.ndata['train_mask'] = train_mask\r\n",
    "        self.graph.ndata['val_mask'] = val_mask\r\n",
    "        self.graph.ndata['test_mask'] = test_mask\r\n",
    "\r\n",
    "    def __getitem__(self, i):\r\n",
    "        return self.graph\r\n",
    "\r\n",
    "    def __len__(self):\r\n",
    "        return 1\r\n"
   ],
   "outputs": [],
   "metadata": {}
  },
  {
   "cell_type": "code",
   "execution_count": 12,
   "source": [
    "dataset = KarateDataset()\r\n",
    "graph = dataset[0]\r\n",
    "\r\n",
    "print(graph)\r\n"
   ],
   "outputs": [
    {
     "output_type": "stream",
     "name": "stdout",
     "text": [
      "Graph(num_nodes=34, num_edges=156,\n",
      "      ndata_schemes={'feat': Scheme(shape=(), dtype=torch.int64), 'label': Scheme(shape=(), dtype=torch.int8), 'train_mask': Scheme(shape=(), dtype=torch.bool), 'val_mask': Scheme(shape=(), dtype=torch.bool), 'test_mask': Scheme(shape=(), dtype=torch.bool)}\n",
      "      edata_schemes={'weight': Scheme(shape=(), dtype=torch.float64)})\n"
     ]
    },
    {
     "output_type": "stream",
     "name": "stderr",
     "text": [
      "<ipython-input-11-ead4b1114757>:17: UserWarning: The given NumPy array is not writeable, and PyTorch does not support non-writeable tensors. This means you can write to the underlying (supposedly non-writeable) NumPy array using the tensor. You may want to copy the array to protect its data or make it writeable before converting it to a tensor. This type of warning will be suppressed for the rest of this program. (Triggered internally at  ..\\torch\\csrc\\utils\\tensor_numpy.cpp:180.)\n",
      "  self.graph.ndata['label'] = torch.from_numpy(nodes_data['Club'].astype('category').cat.codes.to_numpy())\n"
     ]
    }
   ],
   "metadata": {}
  },
  {
   "cell_type": "code",
   "execution_count": null,
   "source": [],
   "outputs": [],
   "metadata": {}
  },
  {
   "cell_type": "markdown",
   "source": [
    "Аналогичным образом создается датасет, состоящих из нескольких графов"
   ],
   "metadata": {}
  },
  {
   "cell_type": "markdown",
   "source": [],
   "metadata": {}
  }
 ],
 "metadata": {
  "orig_nbformat": 4,
  "language_info": {
   "name": "python",
   "version": "3.8.10",
   "mimetype": "text/x-python",
   "codemirror_mode": {
    "name": "ipython",
    "version": 3
   },
   "pygments_lexer": "ipython3",
   "nbconvert_exporter": "python",
   "file_extension": ".py"
  },
  "kernelspec": {
   "name": "python3",
   "display_name": "Python 3.8.10 64-bit ('gcn': conda)"
  },
  "interpreter": {
   "hash": "a5d512aadeb6aaabeaf2234f39752bedcd0c0a511f474f5ce732b89a77e68aba"
  }
 },
 "nbformat": 4,
 "nbformat_minor": 2
}