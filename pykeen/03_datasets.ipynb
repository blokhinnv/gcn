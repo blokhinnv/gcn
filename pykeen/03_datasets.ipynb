{
 "cells": [
  {
   "cell_type": "markdown",
   "source": [
    "# Работа с данными"
   ],
   "metadata": {}
  },
  {
   "cell_type": "markdown",
   "source": [
    "PyKEEN предоставляет большое количество встроенных датасетов в `pykeen.datasets`"
   ],
   "metadata": {}
  },
  {
   "cell_type": "code",
   "execution_count": 4,
   "source": [
    "from pykeen.datasets import Nations\r\n",
    "dataset = Nations()"
   ],
   "outputs": [],
   "metadata": {}
  },
  {
   "cell_type": "markdown",
   "source": [
    "Основной класс для организации данных - `TripleFactory`. Сущности и отношения обычно хранятся в виде строк. Наша цель - получить векторные представления для этих строк. Процедура подготовки данных состоит из 2 шагов:\r\n",
    "\r\n",
    "1. строки заменяются на числа (id)\r\n",
    "2. из матрицы эмбеддингов получается эмбеддинг для нужной сущности\r\n",
    "\r\n",
    "`TripleFactory` поддерживает набор уникальных меток для сущностей и отношений и строит маппинг строка => уникальный ID. Эти маппинги доступны через атрибуты `entity_id_to_label` и `relation_to_id`"
   ],
   "metadata": {}
  },
  {
   "cell_type": "markdown",
   "source": [
    "## Создание датасета из 2 TSV файлов\r\n",
    "\r\n",
    "Если данные представлены в виде 2 TSV файлов (train и test), состоящих из 3 столбцов, и мы уверены, что в тестовой части нет сущностей и отношений, которых не было в обучающей выборки, то модель можно обучить следующим образом:"
   ],
   "metadata": {}
  },
  {
   "cell_type": "code",
   "execution_count": 21,
   "source": [
    "from pykeen.pipeline import pipeline\r\n",
    "\r\n",
    "result = pipeline(training='./data/train.txt', testing='./data/test.txt',\r\n",
    "                  model='TransE',\r\n",
    "                  dataset_kwargs={'create_inverse_triples': False})"
   ],
   "outputs": [
    {
     "output_type": "stream",
     "name": "stderr",
     "text": [
      "WARNING:pykeen.pipeline.api:No random seed is specified. Setting to 3968447417.\n",
      "Training epochs on cuda: 100%|██████████| 5/5 [00:00<00:00,  7.30epoch/s, loss=0.0061, prev_loss=0.00593]\n",
      "INFO:pykeen.evaluation.evaluator:Starting batch_size search for evaluation now...\n",
      "INFO:pykeen.evaluation.evaluator:Concluded batch_size search with batch_size=201.\n",
      "Evaluating on cuda: 100%|██████████| 201/201 [00:00<00:00, 10.6ktriple/s]\n",
      "INFO:pykeen.evaluation.evaluator:Evaluation took 0.02s seconds\n"
     ]
    }
   ],
   "metadata": {}
  },
  {
   "cell_type": "code",
   "execution_count": 22,
   "source": [
    "result.training.entity_id_to_label"
   ],
   "outputs": [
    {
     "output_type": "execute_result",
     "data": {
      "text/plain": [
       "{0: 'brazil',\n",
       " 1: 'burma',\n",
       " 2: 'china',\n",
       " 3: 'cuba',\n",
       " 4: 'egypt',\n",
       " 5: 'india',\n",
       " 6: 'indonesia',\n",
       " 7: 'israel',\n",
       " 8: 'jordan',\n",
       " 9: 'netherlands',\n",
       " 10: 'poland',\n",
       " 11: 'uk',\n",
       " 12: 'usa',\n",
       " 13: 'ussr'}"
      ]
     },
     "metadata": {},
     "execution_count": 22
    }
   ],
   "metadata": {}
  },
  {
   "cell_type": "markdown",
   "source": [
    "Можно создать объекты класса `TriplesFactory` и работать с ними. В таком случае важно не забыть при создании тестовой фабрики указать параметр `entity_to_id` и `relation_to_id`. В противном случае ID из обучающей и тестовой фабрики не будут соответсвовать, что приведет к некорретным результатам."
   ],
   "metadata": {}
  },
  {
   "cell_type": "code",
   "execution_count": 29,
   "source": [
    "from pykeen.triples import TriplesFactory\r\n",
    "\r\n",
    "training = TriplesFactory.from_path('./data/train.txt', create_inverse_triples=False)\r\n",
    "testing = TriplesFactory.from_path('./data/test.txt', \r\n",
    "                                   entity_to_id=training.entity_to_id,\r\n",
    "                                   relation_to_id=training.relation_to_id,\r\n",
    "                                   create_inverse_triples=False)\r\n",
    "\r\n",
    "result = pipeline(training=training, testing=testing,\r\n",
    "                  model='TransE')                                   "
   ],
   "outputs": [
    {
     "output_type": "stream",
     "name": "stderr",
     "text": [
      "WARNING:pykeen.pipeline.api:No random seed is specified. Setting to 2999798165.\n",
      "Training epochs on cuda: 100%|██████████| 5/5 [00:00<00:00,  7.79epoch/s, loss=0.0061, prev_loss=0.00627]\n",
      "INFO:pykeen.evaluation.evaluator:Starting batch_size search for evaluation now...\n",
      "INFO:pykeen.evaluation.evaluator:Concluded batch_size search with batch_size=201.\n",
      "Evaluating on cuda: 100%|██████████| 201/201 [00:00<00:00, 10.6ktriple/s]\n",
      "INFO:pykeen.evaluation.evaluator:Evaluation took 0.02s seconds\n"
     ]
    }
   ],
   "metadata": {}
  },
  {
   "cell_type": "markdown",
   "source": [
    "Если датасет не разбит на 2 части, его можно разбить при помощи метода `TriplesFactory.split`. "
   ],
   "metadata": {}
  },
  {
   "cell_type": "code",
   "execution_count": 30,
   "source": [
    "tf = TriplesFactory.from_path('./data/train.txt', create_inverse_triples=False)\r\n",
    "training, testing = tf.split([.9, .1])\r\n",
    "\r\n",
    "result = pipeline(training=training, testing=testing,\r\n",
    "                  model='TransE')                                   "
   ],
   "outputs": [
    {
     "output_type": "stream",
     "name": "stderr",
     "text": [
      "WARNING:pykeen.utils:using automatically assigned random_state=913791264\n",
      "INFO:pykeen.triples.splitting:done splitting triples to groups of sizes [1365, 160]\n",
      "WARNING:pykeen.pipeline.api:No random seed is specified. Setting to 2571580276.\n",
      "Training epochs on cuda: 100%|██████████| 5/5 [00:00<00:00,  8.48epoch/s, loss=0.00574, prev_loss=0.00584]\n",
      "INFO:pykeen.evaluation.evaluator:Starting batch_size search for evaluation now...\n",
      "INFO:pykeen.evaluation.evaluator:Concluded batch_size search with batch_size=160.\n",
      "Evaluating on cuda: 100%|██████████| 160/160 [00:00<00:00, 7.27ktriple/s]\n",
      "INFO:pykeen.evaluation.evaluator:Evaluation took 0.03s seconds\n"
     ]
    }
   ],
   "metadata": {}
  },
  {
   "cell_type": "code",
   "execution_count": null,
   "source": [],
   "outputs": [],
   "metadata": {}
  }
 ],
 "metadata": {
  "orig_nbformat": 4,
  "language_info": {
   "name": "python",
   "version": "3.8.8",
   "mimetype": "text/x-python",
   "codemirror_mode": {
    "name": "ipython",
    "version": 3
   },
   "pygments_lexer": "ipython3",
   "nbconvert_exporter": "python",
   "file_extension": ".py"
  },
  "kernelspec": {
   "name": "python3",
   "display_name": "Python 3.8.8 64-bit ('gcn': conda)"
  },
  "interpreter": {
   "hash": "b06e6ab994fc15ce23aa05c7ffef0f9130e5f92563bdff97ffc0fa050e903d35"
  }
 },
 "nbformat": 4,
 "nbformat_minor": 2
}