{
 "cells": [
  {
   "cell_type": "markdown",
   "source": [
    "# Разработка собственных моделей"
   ],
   "metadata": {}
  },
  {
   "cell_type": "markdown",
   "source": [
    "Разработка новых моделей состоит из следующих шагов:\r\n",
    "\r\n",
    "1. Выбор подходящего базового класса\r\n",
    "2. Реализация необходимых методов и добавление необходимых атрибутов"
   ],
   "metadata": {}
  },
  {
   "cell_type": "markdown",
   "source": [
    "В простейшем варианте достаточно реализовать метод `score_hrt`, который принимает на вход батч идентификаторов сущностей и отношений и возвращает оценку для каждой тройки. \r\n",
    "\r\n",
    "Для получения эмбеддингов можно использовать атрибуты `entity_representations` и `relation_representations`, которые для моделей типа DistMult представляют собой список из 1 объекта класса `pykeen.nn.Embedding`. "
   ],
   "metadata": {}
  },
  {
   "cell_type": "code",
   "execution_count": 13,
   "source": [
    "from pykeen.models.base import EntityRelationEmbeddingModel\r\n",
    "from pykeen.nn.init import xavier_uniform_, xavier_normal_norm_\r\n",
    "from torch.nn import functional\r\n",
    "from pykeen.nn.emb import EmbeddingSpecification\r\n",
    "\r\n",
    "class MyModel(EntityRelationEmbeddingModel):\r\n",
    "    def __init__(self, embedding_dim: int = 50, **kwargs):\r\n",
    "        # код из туториала на текущей версии не работает\r\n",
    "        # приходится явно определять EmbeddingSpecification\r\n",
    "        entity_repr = EmbeddingSpecification(embedding_dim=50, \r\n",
    "                                             initializer=xavier_uniform_, \r\n",
    "                                             constrainer=functional.normalize)\r\n",
    "        relation_repr = EmbeddingSpecification(embedding_dim=50, \r\n",
    "                                               initializer=xavier_normal_norm_)\r\n",
    "        super().__init__(entity_representations=entity_repr, \r\n",
    "                         relation_representations=relation_repr,\r\n",
    "                         **kwargs)\r\n",
    "\r\n",
    "    def score_hrt(self, hrt_batch):\r\n",
    "        h = self.entity_representations[0](hrt_batch[:, 0])\r\n",
    "        r = self.relation_representations[0](hrt_batch[:, 1])\r\n",
    "        t = self.entity_representations[0](hrt_batch[:, 2])\r\n",
    "        # по смыслу score - это число; в туториале отсутствует сумма\r\n",
    "        # в реализации DistMult сумма есть\r\n",
    "        return (h * r.sigmoid() * t).sum(dim=-1).view(-1, 1)\r\n"
   ],
   "outputs": [],
   "metadata": {}
  },
  {
   "cell_type": "code",
   "execution_count": 14,
   "source": [
    "from pykeen.pipeline import pipeline\r\n",
    "\r\n",
    "res = pipeline(\r\n",
    "    model=MyModel,\r\n",
    "    dataset='Nations',\r\n",
    "    loss='NSSA',\r\n",
    ")"
   ],
   "outputs": [
    {
     "output_type": "stream",
     "name": "stderr",
     "text": [
      "WARNING:pykeen.pipeline.api:No random seed is specified. Setting to 1292842773.\n",
      "Training epochs on cuda: 100%|██████████| 5/5 [00:00<00:00,  7.60epoch/s, loss=0.000117, prev_loss=0.000118]\n",
      "INFO:pykeen.evaluation.evaluator:Starting batch_size search for evaluation now...\n",
      "WARNING:pykeen.models.base:Calculations will fall back to using the score_hrt method, since this model does not have a specific score_h function. This might cause the calculations to take longer than necessary.\n",
      "WARNING:pykeen.models.base:Calculations will fall back to using the score_hrt method, since this model does not have a specific score_t function. This might cause the calculations to take longer than necessary.\n",
      "INFO:pykeen.evaluation.evaluator:Concluded batch_size search with batch_size=201.\n",
      "Evaluating on cuda:   0%|          | 0.00/201 [00:00<?, ?triple/s]WARNING:pykeen.models.base:Calculations will fall back to using the score_hrt method, since this model does not have a specific score_h function. This might cause the calculations to take longer than necessary.\n",
      "WARNING:pykeen.models.base:Calculations will fall back to using the score_hrt method, since this model does not have a specific score_t function. This might cause the calculations to take longer than necessary.\n",
      "Evaluating on cuda: 100%|██████████| 201/201 [00:00<00:00, 8.38ktriple/s]\n",
      "INFO:pykeen.evaluation.evaluator:Evaluation took 0.03s seconds\n"
     ]
    }
   ],
   "metadata": {}
  },
  {
   "cell_type": "code",
   "execution_count": null,
   "source": [],
   "outputs": [],
   "metadata": {}
  }
 ],
 "metadata": {
  "orig_nbformat": 4,
  "language_info": {
   "name": "python",
   "version": "3.8.8",
   "mimetype": "text/x-python",
   "codemirror_mode": {
    "name": "ipython",
    "version": 3
   },
   "pygments_lexer": "ipython3",
   "nbconvert_exporter": "python",
   "file_extension": ".py"
  },
  "kernelspec": {
   "name": "python3",
   "display_name": "Python 3.8.8 64-bit ('gcn': conda)"
  },
  "interpreter": {
   "hash": "b06e6ab994fc15ce23aa05c7ffef0f9130e5f92563bdff97ffc0fa050e903d35"
  }
 },
 "nbformat": 4,
 "nbformat_minor": 2
}