{
 "cells": [
  {
   "cell_type": "markdown",
   "source": [
    "# Знакомство с библиотекой PyKEEN\r\n",
    "\r\n",
    "PyKEEN - это пакет, разработанный для обучения и использования моделей эмбеддингов графов знаний. \r\n",
    "\r\n",
    "[Статья авторов об их фрейворке](https://arxiv.org/pdf/2006.13365.pdf)\r\n",
    "\r\n",
    "Особенности и возможности PyKEEN:\r\n",
    "\r\n",
    "1. Каждая модель (`pykeen.models`) имеет один и тот же интефрейс\r\n",
    "2. Каждый цикл обучения (`pykeen.training`) имеет один и тот же интерфейс. \r\n",
    "3. Тройки могут быть сгенерированы при помощи `pykeen.triples.TriplesFactory`. \r\n",
    "4. Имеется высокоуровневый интерфейс для обучения моделей - `pykeen.pipeline.pipeline`\r\n",
    "5. На момент 08.10 в PyKEEN имеется:\r\n",
    "    - [29 датасетов](https://github.com/pykeen/pykeen#datasets-29)\r\n",
    "    - [31 модель](https://github.com/pykeen/pykeen#models-31)\r\n",
    "    - [9 функций потерь](https://github.com/pykeen/pykeen#losses-9)\r\n",
    "    - [5 регуляризаторов](https://github.com/pykeen/pykeen#regularizers-5)\r\n",
    "    - [2 цикла обучения](https://github.com/pykeen/pykeen#training-loops-2)\r\n",
    "    - [3 генератора негативных примеров](https://github.com/pykeen/pykeen#negative-samplers-3)\r\n",
    "    - [2 класса для оценки качества](https://github.com/pykeen/pykeen#evaluators-2)\r\n"
   ],
   "metadata": {}
  },
  {
   "cell_type": "markdown",
   "source": [
    "## Обучение модели при помощи pipeline\r\n",
    "\r\n",
    "Самый простой способ обучить модель - воспользоваться функцией `pykeen.pipeline.pipeline`. \r\n",
    "\r\n",
    "Основные аргументы (могут быть переданы в виде строки или соотвествующего объекта):\r\n",
    "\r\n",
    "- dataset\r\n",
    "- model\r\n",
    "- training loop: sLCWA или LCWA  \r\n",
    "    * Local Closed World Assumption: для любой тройки $(h, r, t) \\in K$ создается набор отрицательных примеров $T^-(h, r)$, состоящий из всех троек $(h, r, t_i) \\notin K$. Аналогично можно построить $R^-=(h, r_i, t) \\notin K$ и  $H^-=(h_i, r, t) \\notin K$\r\n",
    "    * Stochastic Local Closed World Assumption: не все примеры $R^-$, $H^-$ и $T^-$ рассматриваются как негативные, вместо этого из них выбирается некоторое множество случайным образом. Негативные примеры создаются путем заменой либо $h$, либо $t$ в тройке $(h, r, t)$. Теоретически при выполнении этой процедуры нужно отфильтровать примеры, которые принадлежат выборке, но на практике этим можно пренебречь. Также стоит помнить, что тройка, не содержащаяся в графе, может все равно быть истинной.\r\n",
    "- negative_sampler: только при использовании sLCWA\r\n",
    "- evaluator\r\n",
    "- stopper\r\n",
    "\r\n",
    "Дополнительные аргументы:\r\n",
    "\r\n",
    "- model_kwargs: словарь с аргументами, которые будут переданы в конструктор выбранной модели\r\n",
    "- dataset_kwargs: словарь с аргументами, которые будут переданы в конструктор выбранного датасета\r\n",
    "- optimizer_kwargs\r\n",
    "- training_kwargs\r\n",
    "- evaluation_kwargs"
   ],
   "metadata": {}
  },
  {
   "cell_type": "code",
   "execution_count": 39,
   "source": [
    "from pykeen.pipeline import pipeline\r\n",
    "\r\n",
    "pipeline_result = pipeline(dataset='Nations', model='TransE')"
   ],
   "outputs": [
    {
     "output_type": "stream",
     "name": "stderr",
     "text": [
      "WARNING:pykeen.pipeline.api:No random seed is specified. Setting to 169300041.\n",
      "Training epochs on cuda: 100%|██████████| 5/5 [00:00<00:00,  7.15epoch/s, loss=0.00582, prev_loss=0.00586]\n",
      "INFO:pykeen.evaluation.evaluator:Starting batch_size search for evaluation now...\n",
      "INFO:pykeen.evaluation.evaluator:Concluded batch_size search with batch_size=201.\n",
      "Evaluating on cuda: 100%|██████████| 201/201 [00:00<00:00, 9.57ktriple/s]\n",
      "INFO:pykeen.evaluation.evaluator:Evaluation took 0.02s seconds\n"
     ]
    }
   ],
   "metadata": {}
  },
  {
   "cell_type": "markdown",
   "source": [
    "## Загрузка и сохранение модели\r\n",
    "\r\n",
    "Для сохранения результатов `pipeline` есть метод save_to_directory\r\n",
    "\r\n",
    "После того, как модель обучена и сохранена на диск, ее можно загрузить при помощи стандартного `torch.load` "
   ],
   "metadata": {}
  },
  {
   "cell_type": "code",
   "execution_count": null,
   "source": [
    "pipeline_result.save_to_directory('nations_transe')"
   ],
   "outputs": [],
   "metadata": {}
  },
  {
   "cell_type": "code",
   "execution_count": 3,
   "source": [
    "import torch\r\n",
    "model = torch.load('nations_transe/trained_model.pkl')"
   ],
   "outputs": [],
   "metadata": {}
  },
  {
   "cell_type": "markdown",
   "source": [
    "## Использование эмбеддингов"
   ],
   "metadata": {}
  },
  {
   "cell_type": "code",
   "execution_count": 27,
   "source": [
    "from pykeen.pipeline import pipeline\r\n",
    "\r\n",
    "result = pipeline(model='TransE', dataset='UMLS')\r\n",
    "model = result.model"
   ],
   "outputs": [
    {
     "output_type": "stream",
     "name": "stderr",
     "text": [
      "WARNING:pykeen.pipeline.api:No random seed is specified. Setting to 69875128.\n",
      "Training epochs on cuda: 100%|██████████| 5/5 [00:01<00:00,  4.59epoch/s, loss=0.00396, prev_loss=0.00411]\n",
      "INFO:pykeen.evaluation.evaluator:Starting batch_size search for evaluation now...\n",
      "INFO:pykeen.evaluation.evaluator:Concluded batch_size search with batch_size=1024.\n",
      "Evaluating on cuda: 100%|██████████| 661/661 [00:00<00:00, 22.0ktriple/s]\n",
      "INFO:pykeen.evaluation.evaluator:Evaluation took 0.03s seconds\n"
     ]
    }
   ],
   "metadata": {}
  },
  {
   "cell_type": "markdown",
   "source": [
    "Эмбеддинги, полученные в результате обучения модели, могут быть в дальнейшем использованы для решения downstream задач. \r\n",
    "\r\n",
    "Потенциально модель может хранить несколько эмбедлингов для одного узла/отношения, поэтому они хранятся в атрибутах `entity_representations` и `relation_representations` в виде последовательностей модулей, похожих на `torch.nn.Embedding`. Первый элемент обычно означает \"основной\" эмбеддинг"
   ],
   "metadata": {}
  },
  {
   "cell_type": "code",
   "execution_count": 15,
   "source": [
    "from typing import List\r\n",
    "\r\n",
    "import pykeen.nn\r\n",
    "from pykeen.pipeline import pipeline\r\n",
    "\r\n",
    "entity_representation_modules: List['pykeen.nn.RepresentationModule']\r\n",
    "relation_representation_modules: List['pykeen.nn.RepresentationModule']\r\n",
    "entity_representation_modules = model.entity_representations\r\n",
    "relation_representation_modules = model.relation_representations\r\n",
    "\r\n",
    "# TransE имеет по 1 эмбеддингу на сущность, поэтому берем 1 элемент\r\n",
    "entity_embeddings: pykeen.nn.Embedding = entity_representation_modules[0]\r\n",
    "relation_embeddings: pykeen.nn.Embedding = relation_representation_modules[0]\r\n",
    "\r\n",
    "# чтобы получить тензор, мы делаем вызов\r\n",
    "entity_embedding_tensor: torch.FloatTensor = entity_embeddings()\r\n",
    "relation_embedding_tensor: torch.FloatTensor = relation_embeddings()\r\n",
    "\r\n",
    "entity_embedding_tensor.shape"
   ],
   "outputs": [
    {
     "output_type": "execute_result",
     "data": {
      "text/plain": [
       "torch.Size([135, 50])"
      ]
     },
     "metadata": {},
     "execution_count": 15
    }
   ],
   "metadata": {}
  },
  {
   "cell_type": "code",
   "execution_count": 14,
   "source": [
    "# при необходимости можно передать индексы интересующих узлов в виде torch.LongTensor\r\n",
    "e_idx = torch.LongTensor([1, 10, 100]).cuda()\r\n",
    "entity_embedding_tensor = entity_embeddings(indices=e_idx)\r\n",
    "entity_embedding_tensor.shape"
   ],
   "outputs": [
    {
     "output_type": "execute_result",
     "data": {
      "text/plain": [
       "torch.Size([3, 50])"
      ]
     },
     "metadata": {},
     "execution_count": 14
    }
   ],
   "metadata": {}
  },
  {
   "cell_type": "markdown",
   "source": [
    "## Визуализация результатов"
   ],
   "metadata": {}
  },
  {
   "cell_type": "code",
   "execution_count": 28,
   "source": [
    "result = pipeline(model='TransE', dataset='UMLS')\r\n",
    "result.plot()"
   ],
   "outputs": [
    {
     "output_type": "stream",
     "name": "stderr",
     "text": [
      "WARNING:pykeen.pipeline.api:No random seed is specified. Setting to 1039605833.\n",
      "Training epochs on cuda: 100%|██████████| 5/5 [00:01<00:00,  4.50epoch/s, loss=0.00374, prev_loss=0.00401]\n",
      "INFO:pykeen.evaluation.evaluator:Starting batch_size search for evaluation now...\n",
      "INFO:pykeen.evaluation.evaluator:Concluded batch_size search with batch_size=1024.\n",
      "Evaluating on cuda: 100%|██████████| 661/661 [00:00<00:00, 22.0ktriple/s]\n",
      "INFO:pykeen.evaluation.evaluator:Evaluation took 0.03s seconds\n"
     ]
    },
    {
     "output_type": "execute_result",
     "data": {
      "text/plain": [
       "(<Figure size 720x288 with 2 Axes>,\n",
       " array([<AxesSubplot:title={'center':'Losses Plot'}, xlabel='Epoch', ylabel='marginranking Loss'>,\n",
       "        <AxesSubplot:title={'center':'Entity/Relation Plot using PCA'}>],\n",
       "       dtype=object))"
      ]
     },
     "metadata": {},
     "execution_count": 28
    },
    {
     "output_type": "display_data",
     "data": {
      "image/png": "[encoded data removed]",
      "text/plain": [
       "<Figure size 720x288 with 2 Axes>"
      ]
     },
     "metadata": {
      "needs_background": "light"
     }
    }
   ],
   "metadata": {}
  },
  {
   "cell_type": "markdown",
   "source": [
    "## Обучение модели без использования pipeline\r\n",
    "\r\n",
    "Обучение без использования состоит из следующих шагов:\r\n",
    "\r\n",
    "1. Выбор датасета\r\n",
    "2. Выбор модели\r\n",
    "3. Выбор оптимизатора из `torch`\r\n",
    "4. Выбор подхода к обучению (LCWA, sLCWA)\r\n",
    "5. Обучение\r\n",
    "6. Оценка"
   ],
   "metadata": {}
  },
  {
   "cell_type": "code",
   "execution_count": 30,
   "source": [
    "from pykeen.datasets import Nations\r\n",
    "from pykeen.models import TransE\r\n",
    "from torch.optim import Adam\r\n",
    "from pykeen.training import SLCWATrainingLoop\r\n",
    "from pykeen.evaluation import RankBasedEvaluator\r\n",
    "\r\n",
    "# 1. Выбор датасета\r\n",
    "dataset = Nations()\r\n",
    "# 2. Выбор модели\r\n",
    "model = TransE(triples_factory=dataset.training)\r\n",
    "# 3. Выбор оптимизатора\r\n",
    "optimizer = Adam(model.get_grad_params())\r\n",
    "# 4. Выбор подхода к обучению\r\n",
    "training_loop = SLCWATrainingLoop(model=model, optimizer=optimizer, \r\n",
    "                                  triples_factory=dataset.training)\r\n",
    "# 5. Обучение\r\n",
    "training_loop.train(triples_factory=dataset.training, num_epochs=5, batch_size=256)\r\n",
    "# 6. Оценка\r\n",
    "evaluator = RankBasedEvaluator()\r\n",
    "result = evaluator.evaluate(model, dataset.testing.mapped_triples, batch_size=1024)"
   ],
   "outputs": [
    {
     "output_type": "stream",
     "name": "stderr",
     "text": [
      "WARNING:pykeen.models.base:No random seed is specified. This may lead to non-reproducible results.\n",
      "Training epochs on cuda: 100%|██████████| 5/5 [00:00<00:00,  7.12epoch/s, loss=0.00574, prev_loss=0.00606]\n",
      "WARNING:pykeen.evaluation.evaluator:The filtered setting was enabled, but there were no `additional_filtered_triples`\n",
      "given. This means you probably forgot to pass (at least) the training triples. Try:\n",
      "\n",
      "    additional_filtered_triples=[dataset.training.mapped_triples]\n",
      "\n",
      "Or if you want to use the Bordes et al. (2013) approach to filtering, do:\n",
      "\n",
      "    additional_filtered_triples=[\n",
      "        dataset.training.mapped_triples,\n",
      "        dataset.validation.mapped_triples,\n",
      "    ]\n",
      "\n",
      "Evaluating on cuda: 100%|██████████| 201/201 [00:00<00:00, 9.14ktriple/s]\n",
      "INFO:pykeen.evaluation.evaluator:Evaluation took 0.03s seconds\n"
     ]
    }
   ],
   "metadata": {}
  },
  {
   "cell_type": "markdown",
   "source": [
    "## Оценка результатов\r\n",
    "\r\n",
    "`evaluator.evaluate` возвращает объект `MetricResult`, содержащий метрики для оценивания модели\r\n",
    "\r\n",
    "Результат содержит:\r\n",
    "1. Набор различных метрик (hits@k, MR, MRR и т.д.)\r\n",
    "2. Для каждой метрики рассматриваются различные оценки: пессимистичная, реалистичная, оптимистичная. Пессимистичная оценка означает, что при прочих равных правильный ответ окажется в самом внизу списка прогнозов; оптимистичная - наоборот.\r\n",
    "3. Для каждой метрики и оценки рассматриваются 3 варианта: оценка только по tail, только по head и по обоим сторонам"
   ],
   "metadata": {}
  },
  {
   "cell_type": "code",
   "execution_count": 38,
   "source": [
    "result.to_df()"
   ],
   "outputs": [
    {
     "output_type": "execute_result",
     "data": {
      "text/html": [
       "<div>\n",
       "<style scoped>\n",
       "    .dataframe tbody tr th:only-of-type {\n",
       "        vertical-align: middle;\n",
       "    }\n",
       "\n",
       "    .dataframe tbody tr th {\n",
       "        vertical-align: top;\n",
       "    }\n",
       "\n",
       "    .dataframe thead th {\n",
       "        text-align: right;\n",
       "    }\n",
       "</style>\n",
       "<table border=\"1\" class=\"dataframe\">\n",
       "  <thead>\n",
       "    <tr style=\"text-align: right;\">\n",
       "      <th></th>\n",
       "      <th>Side</th>\n",
       "      <th>Type</th>\n",
       "      <th>Metric</th>\n",
       "      <th>Value</th>\n",
       "    </tr>\n",
       "  </thead>\n",
       "  <tbody>\n",
       "    <tr>\n",
       "      <th>0</th>\n",
       "      <td>both</td>\n",
       "      <td>optimistic</td>\n",
       "      <td>hits_at_1</td>\n",
       "      <td>0.000000</td>\n",
       "    </tr>\n",
       "    <tr>\n",
       "      <th>1</th>\n",
       "      <td>both</td>\n",
       "      <td>optimistic</td>\n",
       "      <td>hits_at_3</td>\n",
       "      <td>0.221393</td>\n",
       "    </tr>\n",
       "    <tr>\n",
       "      <th>2</th>\n",
       "      <td>both</td>\n",
       "      <td>optimistic</td>\n",
       "      <td>hits_at_5</td>\n",
       "      <td>0.368159</td>\n",
       "    </tr>\n",
       "    <tr>\n",
       "      <th>3</th>\n",
       "      <td>both</td>\n",
       "      <td>optimistic</td>\n",
       "      <td>hits_at_10</td>\n",
       "      <td>0.721393</td>\n",
       "    </tr>\n",
       "    <tr>\n",
       "      <th>4</th>\n",
       "      <td>both</td>\n",
       "      <td>optimistic</td>\n",
       "      <td>arithmetic_mean_rank</td>\n",
       "      <td>7.452736</td>\n",
       "    </tr>\n",
       "    <tr>\n",
       "      <th>...</th>\n",
       "      <td>...</td>\n",
       "      <td>...</td>\n",
       "      <td>...</td>\n",
       "      <td>...</td>\n",
       "    </tr>\n",
       "    <tr>\n",
       "      <th>136</th>\n",
       "      <td>head</td>\n",
       "      <td>realistic</td>\n",
       "      <td>rank_std</td>\n",
       "      <td>3.708774</td>\n",
       "    </tr>\n",
       "    <tr>\n",
       "      <th>137</th>\n",
       "      <td>head</td>\n",
       "      <td>realistic</td>\n",
       "      <td>rank_var</td>\n",
       "      <td>13.755006</td>\n",
       "    </tr>\n",
       "    <tr>\n",
       "      <th>138</th>\n",
       "      <td>head</td>\n",
       "      <td>realistic</td>\n",
       "      <td>rank_mad</td>\n",
       "      <td>3.000000</td>\n",
       "    </tr>\n",
       "    <tr>\n",
       "      <th>139</th>\n",
       "      <td>head</td>\n",
       "      <td>realistic</td>\n",
       "      <td>adjusted_arithmetic_mean_rank</td>\n",
       "      <td>1.033136</td>\n",
       "    </tr>\n",
       "    <tr>\n",
       "      <th>140</th>\n",
       "      <td>head</td>\n",
       "      <td>realistic</td>\n",
       "      <td>adjusted_arithmetic_mean_rank_index</td>\n",
       "      <td>-0.038540</td>\n",
       "    </tr>\n",
       "  </tbody>\n",
       "</table>\n",
       "<p>141 rows × 4 columns</p>\n",
       "</div>"
      ],
      "text/plain": [
       "     Side        Type                               Metric      Value\n",
       "0    both  optimistic                            hits_at_1   0.000000\n",
       "1    both  optimistic                            hits_at_3   0.221393\n",
       "2    both  optimistic                            hits_at_5   0.368159\n",
       "3    both  optimistic                           hits_at_10   0.721393\n",
       "4    both  optimistic                 arithmetic_mean_rank   7.452736\n",
       "..    ...         ...                                  ...        ...\n",
       "136  head   realistic                             rank_std   3.708774\n",
       "137  head   realistic                             rank_var  13.755006\n",
       "138  head   realistic                             rank_mad   3.000000\n",
       "139  head   realistic        adjusted_arithmetic_mean_rank   1.033136\n",
       "140  head   realistic  adjusted_arithmetic_mean_rank_index  -0.038540\n",
       "\n",
       "[141 rows x 4 columns]"
      ]
     },
     "metadata": {},
     "execution_count": 38
    }
   ],
   "metadata": {}
  },
  {
   "cell_type": "markdown",
   "source": [
    "Одна из потенциальных проблем, связанных с методикой оценки, следующая. Если при прогнозе $t$ для тройки $(h, r, t)$, мы предскажем для некоторой тройки $(h, r, t') \\in K, t\\ne t'$ ранг выше, чем у самой $(h, r, t)$, то, с одной стороны, ранг увеличится (что плохо), а с другой, давать $(h, r, t')$ более высокую оценку хорошо, т.к. она правда содержится в графе. \r\n",
    "\r\n",
    "Filtered evaluation означает, что при оценке $(h, r, t)$ игнорируются оценки всех истинных $(h, r, t')$"
   ],
   "metadata": {}
  },
  {
   "cell_type": "markdown",
   "source": [
    "## Предсказание связей\r\n",
    "\r\n",
    "После обучения модели можно использовать для оценки правдоподобия произвольной тройки. Для моделей из PyKEEN чем выше оценка, тем более высока вероятность, что такая тройка существует. \r\n",
    "\r\n",
    "Важно:\r\n",
    "\r\n",
    "- нельзя сравнивать оценки для конкретной тройки, полученные при помощи разных моделей\r\n",
    "- не существует априорного значения порога отсечения, после которого тройку можно признать правдивой\r\n",
    "\r\n",
    "Модели реализуют 4 метода:\r\n",
    "- `get_tail_prediction_df` для заданной пары $(h, r)$\r\n",
    "- `get_relation_prediction_df` для заданной пары $(h, t)$\r\n",
    "- `get_head_prediction_df` для заданной пары $(r, t)$\r\n",
    "- `get_all_prediction_df` для подсчета оценки для всех возможных связей"
   ],
   "metadata": {}
  },
  {
   "cell_type": "code",
   "execution_count": 40,
   "source": [
    "from pykeen.pipeline import pipeline\r\n",
    "\r\n",
    "pipeline_result = pipeline(dataset='Nations', model='TransE')\r\n",
    "model = pipeline_result.model"
   ],
   "outputs": [
    {
     "output_type": "stream",
     "name": "stderr",
     "text": [
      "WARNING:pykeen.pipeline.api:No random seed is specified. Setting to 1428070293.\n",
      "Training epochs on cuda: 100%|██████████| 5/5 [00:00<00:00,  7.03epoch/s, loss=0.0059, prev_loss=0.00603]\n",
      "INFO:pykeen.evaluation.evaluator:Starting batch_size search for evaluation now...\n",
      "INFO:pykeen.evaluation.evaluator:Concluded batch_size search with batch_size=201.\n",
      "Evaluating on cuda: 100%|██████████| 201/201 [00:00<00:00, 8.04ktriple/s]\n",
      "INFO:pykeen.evaluation.evaluator:Evaluation took 0.03s seconds\n"
     ]
    }
   ],
   "metadata": {}
  },
  {
   "cell_type": "code",
   "execution_count": 47,
   "source": [
    "# предсказываем tail\r\n",
    "model.get_tail_prediction_df('brazil', 'intergovorgs', \r\n",
    "                             triples_factory=pipeline_result.training)"
   ],
   "outputs": [
    {
     "output_type": "execute_result",
     "data": {
      "text/html": [
       "<div>\n",
       "<style scoped>\n",
       "    .dataframe tbody tr th:only-of-type {\n",
       "        vertical-align: middle;\n",
       "    }\n",
       "\n",
       "    .dataframe tbody tr th {\n",
       "        vertical-align: top;\n",
       "    }\n",
       "\n",
       "    .dataframe thead th {\n",
       "        text-align: right;\n",
       "    }\n",
       "</style>\n",
       "<table border=\"1\" class=\"dataframe\">\n",
       "  <thead>\n",
       "    <tr style=\"text-align: right;\">\n",
       "      <th></th>\n",
       "      <th>tail_id</th>\n",
       "      <th>tail_label</th>\n",
       "      <th>score</th>\n",
       "      <th>in_training</th>\n",
       "    </tr>\n",
       "  </thead>\n",
       "  <tbody>\n",
       "    <tr>\n",
       "      <th>0</th>\n",
       "      <td>0</td>\n",
       "      <td>brazil</td>\n",
       "      <td>-6.412086</td>\n",
       "      <td>False</td>\n",
       "    </tr>\n",
       "    <tr>\n",
       "      <th>4</th>\n",
       "      <td>4</td>\n",
       "      <td>egypt</td>\n",
       "      <td>-7.917833</td>\n",
       "      <td>True</td>\n",
       "    </tr>\n",
       "    <tr>\n",
       "      <th>12</th>\n",
       "      <td>12</td>\n",
       "      <td>usa</td>\n",
       "      <td>-8.725386</td>\n",
       "      <td>True</td>\n",
       "    </tr>\n",
       "    <tr>\n",
       "      <th>10</th>\n",
       "      <td>10</td>\n",
       "      <td>poland</td>\n",
       "      <td>-8.999136</td>\n",
       "      <td>False</td>\n",
       "    </tr>\n",
       "    <tr>\n",
       "      <th>9</th>\n",
       "      <td>9</td>\n",
       "      <td>netherlands</td>\n",
       "      <td>-9.010881</td>\n",
       "      <td>True</td>\n",
       "    </tr>\n",
       "    <tr>\n",
       "      <th>3</th>\n",
       "      <td>3</td>\n",
       "      <td>cuba</td>\n",
       "      <td>-9.277218</td>\n",
       "      <td>False</td>\n",
       "    </tr>\n",
       "    <tr>\n",
       "      <th>1</th>\n",
       "      <td>1</td>\n",
       "      <td>burma</td>\n",
       "      <td>-9.421756</td>\n",
       "      <td>False</td>\n",
       "    </tr>\n",
       "    <tr>\n",
       "      <th>5</th>\n",
       "      <td>5</td>\n",
       "      <td>india</td>\n",
       "      <td>-9.657982</td>\n",
       "      <td>True</td>\n",
       "    </tr>\n",
       "    <tr>\n",
       "      <th>13</th>\n",
       "      <td>13</td>\n",
       "      <td>ussr</td>\n",
       "      <td>-9.847170</td>\n",
       "      <td>False</td>\n",
       "    </tr>\n",
       "    <tr>\n",
       "      <th>7</th>\n",
       "      <td>7</td>\n",
       "      <td>israel</td>\n",
       "      <td>-9.978243</td>\n",
       "      <td>True</td>\n",
       "    </tr>\n",
       "    <tr>\n",
       "      <th>6</th>\n",
       "      <td>6</td>\n",
       "      <td>indonesia</td>\n",
       "      <td>-10.240524</td>\n",
       "      <td>True</td>\n",
       "    </tr>\n",
       "    <tr>\n",
       "      <th>2</th>\n",
       "      <td>2</td>\n",
       "      <td>china</td>\n",
       "      <td>-10.250203</td>\n",
       "      <td>False</td>\n",
       "    </tr>\n",
       "    <tr>\n",
       "      <th>11</th>\n",
       "      <td>11</td>\n",
       "      <td>uk</td>\n",
       "      <td>-10.402839</td>\n",
       "      <td>True</td>\n",
       "    </tr>\n",
       "    <tr>\n",
       "      <th>8</th>\n",
       "      <td>8</td>\n",
       "      <td>jordan</td>\n",
       "      <td>-10.736595</td>\n",
       "      <td>False</td>\n",
       "    </tr>\n",
       "  </tbody>\n",
       "</table>\n",
       "</div>"
      ],
      "text/plain": [
       "    tail_id   tail_label      score  in_training\n",
       "0         0       brazil  -6.412086        False\n",
       "4         4        egypt  -7.917833         True\n",
       "12       12          usa  -8.725386         True\n",
       "10       10       poland  -8.999136        False\n",
       "9         9  netherlands  -9.010881         True\n",
       "3         3         cuba  -9.277218        False\n",
       "1         1        burma  -9.421756        False\n",
       "5         5        india  -9.657982         True\n",
       "13       13         ussr  -9.847170        False\n",
       "7         7       israel  -9.978243         True\n",
       "6         6    indonesia -10.240524         True\n",
       "2         2        china -10.250203        False\n",
       "11       11           uk -10.402839         True\n",
       "8         8       jordan -10.736595        False"
      ]
     },
     "metadata": {},
     "execution_count": 47
    }
   ],
   "metadata": {}
  },
  {
   "cell_type": "code",
   "execution_count": 49,
   "source": [
    "model.get_all_prediction_df(triples_factory=pipeline_result.training)"
   ],
   "outputs": [
    {
     "output_type": "stream",
     "name": "stderr",
     "text": [
      "WARNING:pykeen.models.predict:_predict is an expensive operation, involving 10780 score evaluations.\n",
      "WARNING:pykeen.models.predict:Not providing k to score_all_triples entails huge memory requirements for reasonably-sized knowledge graphs.\n"
     ]
    },
    {
     "output_type": "execute_result",
     "data": {
      "text/html": [
       "<div>\n",
       "<style scoped>\n",
       "    .dataframe tbody tr th:only-of-type {\n",
       "        vertical-align: middle;\n",
       "    }\n",
       "\n",
       "    .dataframe tbody tr th {\n",
       "        vertical-align: top;\n",
       "    }\n",
       "\n",
       "    .dataframe thead th {\n",
       "        text-align: right;\n",
       "    }\n",
       "</style>\n",
       "<table border=\"1\" class=\"dataframe\">\n",
       "  <thead>\n",
       "    <tr style=\"text-align: right;\">\n",
       "      <th></th>\n",
       "      <th>head_id</th>\n",
       "      <th>head_label</th>\n",
       "      <th>relation_id</th>\n",
       "      <th>relation_label</th>\n",
       "      <th>tail_id</th>\n",
       "      <th>tail_label</th>\n",
       "      <th>score</th>\n",
       "      <th>in_training</th>\n",
       "    </tr>\n",
       "  </thead>\n",
       "  <tbody>\n",
       "    <tr>\n",
       "      <th>0</th>\n",
       "      <td>8</td>\n",
       "      <td>jordan</td>\n",
       "      <td>36</td>\n",
       "      <td>relexportbooks</td>\n",
       "      <td>8</td>\n",
       "      <td>jordan</td>\n",
       "      <td>-5.777510</td>\n",
       "      <td>False</td>\n",
       "    </tr>\n",
       "    <tr>\n",
       "      <th>1</th>\n",
       "      <td>6</td>\n",
       "      <td>indonesia</td>\n",
       "      <td>36</td>\n",
       "      <td>relexportbooks</td>\n",
       "      <td>6</td>\n",
       "      <td>indonesia</td>\n",
       "      <td>-5.777510</td>\n",
       "      <td>False</td>\n",
       "    </tr>\n",
       "    <tr>\n",
       "      <th>2</th>\n",
       "      <td>9</td>\n",
       "      <td>netherlands</td>\n",
       "      <td>36</td>\n",
       "      <td>relexportbooks</td>\n",
       "      <td>9</td>\n",
       "      <td>netherlands</td>\n",
       "      <td>-5.777510</td>\n",
       "      <td>False</td>\n",
       "    </tr>\n",
       "    <tr>\n",
       "      <th>3</th>\n",
       "      <td>4</td>\n",
       "      <td>egypt</td>\n",
       "      <td>36</td>\n",
       "      <td>relexportbooks</td>\n",
       "      <td>4</td>\n",
       "      <td>egypt</td>\n",
       "      <td>-5.777510</td>\n",
       "      <td>False</td>\n",
       "    </tr>\n",
       "    <tr>\n",
       "      <th>4</th>\n",
       "      <td>11</td>\n",
       "      <td>uk</td>\n",
       "      <td>36</td>\n",
       "      <td>relexportbooks</td>\n",
       "      <td>11</td>\n",
       "      <td>uk</td>\n",
       "      <td>-5.777510</td>\n",
       "      <td>False</td>\n",
       "    </tr>\n",
       "    <tr>\n",
       "      <th>...</th>\n",
       "      <td>...</td>\n",
       "      <td>...</td>\n",
       "      <td>...</td>\n",
       "      <td>...</td>\n",
       "      <td>...</td>\n",
       "      <td>...</td>\n",
       "      <td>...</td>\n",
       "      <td>...</td>\n",
       "    </tr>\n",
       "    <tr>\n",
       "      <th>10775</th>\n",
       "      <td>11</td>\n",
       "      <td>uk</td>\n",
       "      <td>23</td>\n",
       "      <td>militaryactions</td>\n",
       "      <td>10</td>\n",
       "      <td>poland</td>\n",
       "      <td>-13.048323</td>\n",
       "      <td>False</td>\n",
       "    </tr>\n",
       "    <tr>\n",
       "      <th>10776</th>\n",
       "      <td>11</td>\n",
       "      <td>uk</td>\n",
       "      <td>7</td>\n",
       "      <td>commonbloc1</td>\n",
       "      <td>10</td>\n",
       "      <td>poland</td>\n",
       "      <td>-13.048824</td>\n",
       "      <td>False</td>\n",
       "    </tr>\n",
       "    <tr>\n",
       "      <th>10777</th>\n",
       "      <td>6</td>\n",
       "      <td>indonesia</td>\n",
       "      <td>15</td>\n",
       "      <td>emigrants3</td>\n",
       "      <td>2</td>\n",
       "      <td>china</td>\n",
       "      <td>-13.078943</td>\n",
       "      <td>False</td>\n",
       "    </tr>\n",
       "    <tr>\n",
       "      <th>10778</th>\n",
       "      <td>0</td>\n",
       "      <td>brazil</td>\n",
       "      <td>35</td>\n",
       "      <td>relemigrants</td>\n",
       "      <td>8</td>\n",
       "      <td>jordan</td>\n",
       "      <td>-13.207655</td>\n",
       "      <td>False</td>\n",
       "    </tr>\n",
       "    <tr>\n",
       "      <th>10779</th>\n",
       "      <td>8</td>\n",
       "      <td>jordan</td>\n",
       "      <td>22</td>\n",
       "      <td>lostterritory</td>\n",
       "      <td>0</td>\n",
       "      <td>brazil</td>\n",
       "      <td>-13.721582</td>\n",
       "      <td>False</td>\n",
       "    </tr>\n",
       "  </tbody>\n",
       "</table>\n",
       "<p>10780 rows × 8 columns</p>\n",
       "</div>"
      ],
      "text/plain": [
       "       head_id   head_label  relation_id   relation_label  tail_id  \\\n",
       "0            8       jordan           36   relexportbooks        8   \n",
       "1            6    indonesia           36   relexportbooks        6   \n",
       "2            9  netherlands           36   relexportbooks        9   \n",
       "3            4        egypt           36   relexportbooks        4   \n",
       "4           11           uk           36   relexportbooks       11   \n",
       "...        ...          ...          ...              ...      ...   \n",
       "10775       11           uk           23  militaryactions       10   \n",
       "10776       11           uk            7      commonbloc1       10   \n",
       "10777        6    indonesia           15       emigrants3        2   \n",
       "10778        0       brazil           35     relemigrants        8   \n",
       "10779        8       jordan           22    lostterritory        0   \n",
       "\n",
       "        tail_label      score  in_training  \n",
       "0           jordan  -5.777510        False  \n",
       "1        indonesia  -5.777510        False  \n",
       "2      netherlands  -5.777510        False  \n",
       "3            egypt  -5.777510        False  \n",
       "4               uk  -5.777510        False  \n",
       "...            ...        ...          ...  \n",
       "10775       poland -13.048323        False  \n",
       "10776       poland -13.048824        False  \n",
       "10777        china -13.078943        False  \n",
       "10778       jordan -13.207655        False  \n",
       "10779       brazil -13.721582        False  \n",
       "\n",
       "[10780 rows x 8 columns]"
      ]
     },
     "metadata": {},
     "execution_count": 49
    }
   ],
   "metadata": {}
  },
  {
   "cell_type": "code",
   "execution_count": null,
   "source": [],
   "outputs": [],
   "metadata": {}
  }
 ],
 "metadata": {
  "orig_nbformat": 4,
  "language_info": {
   "name": "python",
   "version": "3.8.8",
   "mimetype": "text/x-python",
   "codemirror_mode": {
    "name": "ipython",
    "version": 3
   },
   "pygments_lexer": "ipython3",
   "nbconvert_exporter": "python",
   "file_extension": ".py"
  },
  "kernelspec": {
   "name": "python3",
   "display_name": "Python 3.8.8 64-bit ('gcn': conda)"
  },
  "interpreter": {
   "hash": "b06e6ab994fc15ce23aa05c7ffef0f9130e5f92563bdff97ffc0fa050e903d35"
  }
 },
 "nbformat": 4,
 "nbformat_minor": 2
}