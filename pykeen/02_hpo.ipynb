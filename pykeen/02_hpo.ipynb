{
 "cells": [
  {
   "cell_type": "markdown",
   "source": [
    "# Оптимизация гиперпараметров\r\n",
    "\r\n",
    "Для оптимизации гиперпараметров вместо `pykeen.pipeline.pipeline` можно использовать `pykeen.hpo.hpo_pipeline`. Как и в случае `pipeline` нужно указать модель и датасет + добавить параметр `n_trials` (или `timeout`)\r\n",
    "\r\n",
    "`hpo_pipeline` умеет настраивать параметры для `*_kwargs` из `pipeline`."
   ],
   "metadata": {}
  },
  {
   "cell_type": "code",
   "execution_count": 1,
   "source": [
    "from pykeen.hpo import hpo_pipeline"
   ],
   "outputs": [],
   "metadata": {}
  },
  {
   "cell_type": "markdown",
   "source": [
    "По умолчанию все параметры моделей соответствуют тем, которые заявлены в авторских статьях (если явно не указано иное). Если в статьях не были заявлены параметры, авторы PyKEEN подбирали их сами. \r\n",
    "\r\n",
    "Существует следующий приоритет действий по поводу того, что будет предпринято для поиска гиперпараметров: заданное значение > стратегия поиска гиперпараметров > стратегия поиска гиперпараметров по умолчанию > стратегия по умолчанию"
   ],
   "metadata": {}
  },
  {
   "cell_type": "markdown",
   "source": [
    "HPO стратегия представляет собой словарь. В нем обязательно должен быть ключ `type` в одним из значений: `\"categorical\"`, `bool`, `int`, `float`. \r\n",
    "\r\n",
    "Для переопределения стратегии какого-то из параметров, мы в `hpo_pipeline` передаем аргумент `*_kwargs_ranges` со значением в виде словаря, где ключ - это имя параметра, а значение - HPO стратегия"
   ],
   "metadata": {}
  },
  {
   "cell_type": "markdown",
   "source": [
    "## Параметры стратегий:\r\n",
    "\r\n",
    "- categorical\r\n",
    "    - type = 'categorical'\r\n",
    "    - choices\r\n",
    "\r\n",
    "- boolean\r\n",
    "    - type = bool\r\n",
    "\r\n",
    "- int, float\r\n",
    "    - type = int / float\r\n",
    "    - low\r\n",
    "    - high\r\n",
    "    - scale = \"linear\" / \"power\" \r\n",
    "        - base, если используем \"power\"\r\n",
    "    - log = True / False\r\n",
    "    - step\r\n"
   ],
   "metadata": {}
  },
  {
   "cell_type": "code",
   "execution_count": 2,
   "source": [
    "hpo_pipeline_result = hpo_pipeline(\r\n",
    "    dataset='Nations',\r\n",
    "    model='TransE',\r\n",
    "    model_kwargs_ranges=dict(\r\n",
    "        embedding_dim=dict(type=int, low=16, high=256, step=32),\r\n",
    "    ),\r\n",
    "    timeout=15\r\n",
    ")"
   ],
   "outputs": [
    {
     "output_type": "stream",
     "name": "stderr",
     "text": [
      "\u001b[32m[I 2021-10-08 20:36:23,596]\u001b[0m A new study created in memory with name: no-name-d6650370-251d-4d6c-a2e1-85347e28dba2\u001b[0m\n",
      "E:\\anaconda3\\envs\\gcn\\lib\\site-packages\\optuna\\distributions.py:560: UserWarning: The distribution is specified by [16, 256] and step=32, but the range is not divisible by `step`. It will be replaced by [16, 240].\n",
      "  warnings.warn(\n",
      "E:\\anaconda3\\envs\\gcn\\lib\\site-packages\\optuna\\distributions.py:560: UserWarning: The distribution is specified by [32, 4000] and step=100, but the range is not divisible by `step`. It will be replaced by [32, 3932].\n",
      "  warnings.warn(\n",
      "No random seed is specified. Setting to 2809158345.\n",
      "Training epochs on cuda: 100%|██████████| 1000/1000 [04:22<00:00,  3.80epoch/s, loss=0.00143, prev_loss=0.00145]\n",
      "INFO:pykeen.evaluation.evaluator:Starting batch_size search for evaluation now...\n",
      "INFO:pykeen.evaluation.evaluator:Concluded batch_size search with batch_size=199.\n",
      "Evaluating on cuda: 100%|██████████| 199/199 [00:00<00:00, 9.95ktriple/s]\n",
      "INFO:pykeen.evaluation.evaluator:Evaluation took 0.02s seconds\n",
      "\u001b[32m[I 2021-10-08 20:40:49,345]\u001b[0m Trial 0 finished with value: 0.39284563325813726 and parameters: {'model.embedding_dim': 144, 'model.scoring_fct_norm': 1, 'loss.margin': 2, 'loss.margin_activation': 'relu', 'optimizer.lr': 0.03687296136499884, 'negative_sampler.num_negs_per_pos': 69, 'training.num_epochs': 1000, 'training.batch_size': 932}. Best is trial 0 with value: 0.39284563325813726.\u001b[0m\n"
     ]
    }
   ],
   "metadata": {}
  }
 ],
 "metadata": {
  "orig_nbformat": 4,
  "language_info": {
   "name": "python",
   "version": "3.8.8",
   "mimetype": "text/x-python",
   "codemirror_mode": {
    "name": "ipython",
    "version": 3
   },
   "pygments_lexer": "ipython3",
   "nbconvert_exporter": "python",
   "file_extension": ".py"
  },
  "kernelspec": {
   "name": "python3",
   "display_name": "Python 3.8.8 64-bit ('gcn': conda)"
  },
  "interpreter": {
   "hash": "b06e6ab994fc15ce23aa05c7ffef0f9130e5f92563bdff97ffc0fa050e903d35"
  }
 },
 "nbformat": 4,
 "nbformat_minor": 2
}