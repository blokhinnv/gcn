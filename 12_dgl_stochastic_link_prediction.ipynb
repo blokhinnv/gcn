{
 "cells": [
  {
   "cell_type": "code",
   "execution_count": 4,
   "source": [
    "import dgl\r\n",
    "import dgl.nn as gnn\r\n",
    "import dgl.function as fn\r\n",
    "\r\n",
    "import torch\r\n",
    "import torch.nn as nn\r\n",
    "import torch.nn.functional as F\r\n",
    "import torch.optim as optim"
   ],
   "outputs": [],
   "metadata": {}
  },
  {
   "cell_type": "markdown",
   "source": [
    "Для задачи предсказания связи нужен negative sampling. Negative sampling реализован в `EdgeDataLoader` из коробки. Чтобы воспользоваться им, нужно указать функцию негативного сэмплирования, например, `dgl.dataloading.negative_sampler.Uniform(k)`, которая для каждого существующего ребра генерирует `k` отрицательных примеров. Можно реализовать и свои функции сэмплинга.\r\n",
    "\r\n",
    "Для каждого батча `DGL` при создании негативных примеров генерирует 3 сущности:\r\n",
    "1. Граф, содержащий все ребра из минибатча (positive graph)\r\n",
    "2. Граф, содержащий несуществующие ребра, полученные при негативном сэмплировании (negative graph)\r\n",
    "2. Список MFGs\r\n",
    "\r\n"
   ],
   "metadata": {}
  },
  {
   "cell_type": "code",
   "execution_count": 2,
   "source": [
    "# Пример: кастомный сэмплер, который генерирует ребра, выбирая конечные узлы\r\n",
    "# пропорционально их степени\r\n",
    "\r\n",
    "class NegativeSampler:\r\n",
    "    def __init__(self, G, k, gamma=.75):\r\n",
    "        self.weights = G.in_degrees().float() ** gamma\r\n",
    "        self.k = k\r\n",
    "\r\n",
    "    def __call__(self, G, eids):\r\n",
    "        src, _ = G.find_edges(eids)\r\n",
    "        src = src.repeat_interleave(self.k)\r\n",
    "        dts = self.weights.multinomial(len(src), replacement=True)\r\n",
    "        return src, dst"
   ],
   "outputs": [],
   "metadata": {}
  },
  {
   "cell_type": "code",
   "execution_count": 19,
   "source": [
    "# копия из 10_dgl_stochastic_node_classification\r\n",
    "class GCN(nn.Module):\r\n",
    "    def __init__(self, n_inputs, n_hidden, n_outputs):\r\n",
    "        super().__init__()\r\n",
    "        self.conv1 = gnn.SAGEConv(n_inputs, n_hidden, aggregator_type='mean', activation=F.relu)\r\n",
    "        self.conv2 = gnn.SAGEConv(n_hidden, n_outputs, aggregator_type='mean')\r\n",
    "\r\n",
    "    def forward(self, blocks, features):\r\n",
    "        assert len(blocks) == 2\r\n",
    "        out = self.conv1(blocks[0], features)\r\n",
    "        out = self.conv2(blocks[1], out)\r\n",
    "        return out\r\n",
    "\r\n",
    "class ScorePredictor(nn.Module):\r\n",
    "    def forward(self, edge_subgraph, features):\r\n",
    "        with edge_subgraph.local_scope():\r\n",
    "            edge_subgraph.ndata['h'] = features\r\n",
    "            edge_subgraph.apply_edges(fn.u_dot_v('h', 'h', 'score'))\r\n",
    "            return edge_subgraph.edata['score']\r\n",
    "\r\n",
    "class Model(nn.Module):\r\n",
    "    def __init__(self, n_inputs, n_hidden, n_outputs):\r\n",
    "        super().__init__()\r\n",
    "        self.conv = GCN(n_inputs, n_hidden, n_outputs)\r\n",
    "        self.predictor = ScorePredictor()\r\n",
    "\r\n",
    "    def forward(self, positive_graph, negative_graph, blocks, features):\r\n",
    "        out = self.conv(blocks, features)\r\n",
    "        pos_score = self.predictor(positive_graph, out)\r\n",
    "        neg_score = self.predictor(negative_graph, out)\r\n",
    "        return pos_score, neg_score\r\n",
    "\r\n",
    "def compute_loss(pos_score, neg_score):\r\n",
    "    scores = torch.cat([pos_score, neg_score])\r\n",
    "    labels = torch.cat([torch.ones_like(pos_score), torch.zeros_like(neg_score)])\r\n",
    "    return F.binary_cross_entropy_with_logits(scores, labels)"
   ],
   "outputs": [],
   "metadata": {}
  },
  {
   "cell_type": "code",
   "execution_count": 21,
   "source": [
    "dataset = dgl.data.CoraGraphDataset()\r\n",
    "G = dataset[0]\r\n",
    "\r\n",
    "n_inputs = G.ndata['feat'].shape[1]\r\n",
    "n_hidden = 16\r\n",
    "n_epochs = 1000\r\n",
    "\r\n",
    "train_eids = torch.arange(G.num_edges())\r\n",
    "\r\n",
    "sampler = dgl.dataloading.MultiLayerFullNeighborSampler(n_layers=2)\r\n",
    "dataloader = dgl.dataloading.EdgeDataLoader(G, train_eids, sampler,\r\n",
    "                                            negative_sampler=dgl.dataloading.negative_sampler.Uniform(5),\r\n",
    "                                            batch_size=256,\r\n",
    "                                            shuffle=True)\r\n",
    "\r\n",
    "\r\n",
    "model = Model(n_inputs, n_hidden, n_hidden)\r\n",
    "optimizer = optim.Adam(model.parameters(), lr=.001)\r\n",
    "\r\n",
    "for epoch in range(10):\r\n",
    "    for step, (input_nodes, pG, nG, blocks) in enumerate(dataloader):\r\n",
    "        # forward\r\n",
    "        batch_features = blocks[0].srcdata['feat']\r\n",
    "        pos_score, neg_score = model(pG, nG, blocks, batch_features)\r\n",
    "        loss = compute_loss(pos_score, neg_score)\r\n",
    "        # backward\r\n",
    "        loss.backward()\r\n",
    "        optimizer.step()\r\n",
    "        optimizer.zero_grad()\r\n",
    "\r\n",
    "        if not step % 20:\r\n",
    "            print('Epoch {:05d} | Step {:05d} | Loss {:.4f}'.format(epoch, step, loss.item()))"
   ],
   "outputs": [
    {
     "output_type": "stream",
     "name": "stdout",
     "text": [
      "  NumNodes: 2708\n",
      "  NumEdges: 10556\n",
      "  NumFeats: 1433\n",
      "  NumClasses: 7\n",
      "  NumTrainingSamples: 140\n",
      "  NumValidationSamples: 500\n",
      "  NumTestSamples: 1000\n",
      "Done loading data from cached files.\n",
      "Epoch 00000 | Step 00000 | Loss 0.6936\n"
     ]
    }
   ],
   "metadata": {}
  },
  {
   "cell_type": "code",
   "execution_count": null,
   "source": [],
   "outputs": [],
   "metadata": {}
  }
 ],
 "metadata": {
  "orig_nbformat": 4,
  "language_info": {
   "name": "python",
   "version": "3.8.8",
   "mimetype": "text/x-python",
   "codemirror_mode": {
    "name": "ipython",
    "version": 3
   },
   "pygments_lexer": "ipython3",
   "nbconvert_exporter": "python",
   "file_extension": ".py"
  },
  "kernelspec": {
   "name": "python3",
   "display_name": "Python 3.8.8 64-bit ('gcn': conda)"
  },
  "interpreter": {
   "hash": "b06e6ab994fc15ce23aa05c7ffef0f9130e5f92563bdff97ffc0fa050e903d35"
  }
 },
 "nbformat": 4,
 "nbformat_minor": 2
}