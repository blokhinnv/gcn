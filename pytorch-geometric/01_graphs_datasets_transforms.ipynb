{
 "cells": [
  {
   "cell_type": "markdown",
   "metadata": {},
   "source": [
    "## Граф в PyG\n",
    "\n",
    "В PyG графы описываются при помощи объекта класса `torch_geometric.data.Data`. \n",
    "\n",
    "Граф из коробки обычно содержит следующие атрибуты (однако они не являются обязательными; список атрибутов можно расширять):\n",
    "* x - матрица атрибутов узлов размера [num_nodes, num_node_features];\n",
    "* edge_index - информация о связях графа в формате COO размера [2, num_edges];\n",
    "* edge_attr - матрица атрибутов связей размера [num_edges, num_edge_features];\n",
    "* y - ответы для обучения (могут быть различной формы в зависимости от задачи);\n",
    "* pos - матрица координат узлов размера [num_nodes, num_dims]\n",
    "\n",
    "Кроме этого, объект класса `Data` имеет полезные свойства и методы: `num_nodes`, `num_edges`, `num_node_features`, `is_directed()` и т.д."
   ]
  },
  {
   "cell_type": "code",
   "execution_count": 1,
   "metadata": {},
   "outputs": [],
   "source": [
    "import torch\n",
    "from torch_geometric.data import Data"
   ]
  },
  {
   "cell_type": "markdown",
   "metadata": {},
   "source": [
    "Создадим следующий граф:\n",
    "\n",
    "![](assets/01_graph.png)"
   ]
  },
  {
   "cell_type": "code",
   "execution_count": 2,
   "metadata": {},
   "outputs": [
    {
     "data": {
      "text/plain": [
       "Data(x=[3, 2], edge_index=[2, 4])"
      ]
     },
     "execution_count": 2,
     "metadata": {},
     "output_type": "execute_result"
    }
   ],
   "source": [
    "# Создаем граф с 3 узлами и 4 связями\n",
    "edge_index = torch.tensor([[0, 1, 1, 2],\n",
    "                           [1, 0, 2, 1]], dtype=torch.long)\n",
    "# Матрица фичей узлов\n",
    "x = torch.tensor([[-1, 2], [0, 0], [1, -2]], dtype=torch.float)\n",
    "data = Data(x=x, edge_index=edge_index)\n",
    "data"
   ]
  },
  {
   "cell_type": "markdown",
   "metadata": {},
   "source": [
    "Важно, чтобы `edge_index` был размерности [2, num_edges], а не [num_edges, 2]. Если используется второй вариант, то тензор с описанием ребер нужно предварительно транспонировать:"
   ]
  },
  {
   "cell_type": "code",
   "execution_count": 5,
   "metadata": {},
   "outputs": [
    {
     "data": {
      "text/plain": [
       "Data(x=[3, 2], edge_index=[2, 4])"
      ]
     },
     "execution_count": 5,
     "metadata": {},
     "output_type": "execute_result"
    }
   ],
   "source": [
    "edge_index = torch.tensor([[0, 1],\n",
    "                           [1, 0],\n",
    "                           [1, 2],\n",
    "                           [2, 1]], dtype=torch.long)\n",
    "x = torch.tensor([[-1, 2], [0, 0], [1, -2]], dtype=torch.float)\n",
    "data = Data(x=x, edge_index=edge_index.T.contiguous())\n",
    "data"
   ]
  },
  {
   "cell_type": "markdown",
   "metadata": {},
   "source": [
    "Как и DGL, PyG рассматривает все графы как ориентированные; неориентированный граф - частный случай ориентированного, в котором для каждого ребра существует обратное."
   ]
  },
  {
   "cell_type": "markdown",
   "metadata": {},
   "source": [
    "По объекту `Data` можно итерироваться следующим образом:"
   ]
  },
  {
   "cell_type": "code",
   "execution_count": 6,
   "metadata": {},
   "outputs": [
    {
     "name": "stdout",
     "output_type": "stream",
     "text": [
      "key='x' item=tensor([[-1.,  2.],\n",
      "        [ 0.,  0.],\n",
      "        [ 1., -2.]])\n",
      "key='edge_index' item=tensor([[0, 1, 1, 2],\n",
      "        [1, 0, 2, 1]])\n"
     ]
    }
   ],
   "source": [
    "for key, item in data:\n",
    "    print(f'{key=} {item=}')"
   ]
  },
  {
   "cell_type": "markdown",
   "metadata": {},
   "source": [
    "Граф в PyG можно преобразовать в граф Networkx"
   ]
  },
  {
   "cell_type": "code",
   "execution_count": null,
   "metadata": {},
   "outputs": [],
   "source": [
    "# TODO\n",
    "# https://colab.research.google.com/drive/1h3-vJGRVloF5zStxL5I0rSy4ZUPNsjy8?usp=sharing\n"
   ]
  },
  {
   "cell_type": "code",
   "execution_count": 9,
   "metadata": {},
   "outputs": [
    {
     "data": {
      "image/png": "[encoded data removed]",
      "text/plain": [
       "<Figure size 432x288 with 1 Axes>"
      ]
     },
     "metadata": {},
     "output_type": "display_data"
    }
   ],
   "source": [
    "import networkx as nx\n",
    "from torch_geometric.utils import to_networkx\n",
    "G = to_networkx(data)\n",
    "nx.draw(G, with_labels=True)"
   ]
  },
  {
   "cell_type": "markdown",
   "metadata": {},
   "source": [
    "PyG содержит много популярных графовых датасетов. Каждый элемент датасета представляет из себя объект класса `Data`. Датасеты имеют специфичные атрибуты."
   ]
  },
  {
   "cell_type": "code",
   "execution_count": 20,
   "metadata": {},
   "outputs": [
    {
     "name": "stdout",
     "output_type": "stream",
     "text": [
      "type(dataset)=<class 'torch_geometric.datasets.tu_dataset.TUDataset'>\n",
      "len(dataset)=600\n",
      "dataset.num_classes=6\n",
      "dataset.num_node_features=21\n",
      "dataset[0]=Data(edge_index=[2, 168], x=[37, 21], y=[1])\n"
     ]
    }
   ],
   "source": [
    "from torch_geometric.datasets import TUDataset\n",
    "dataset = TUDataset(root='./tmp', use_node_attr=True, name='ENZYMES')\n",
    "print(f'{type(dataset)=}',\n",
    "      f'{len(dataset)=}',\n",
    "      f'{dataset.num_classes=}',\n",
    "      f'{dataset.num_node_features=}',\n",
    "      f'{dataset[0]=}',\n",
    "      sep='\\n')"
   ]
  },
  {
   "cell_type": "code",
   "execution_count": 22,
   "metadata": {},
   "outputs": [
    {
     "name": "stderr",
     "output_type": "stream",
     "text": [
      "Downloading https://github.com/kimiyoung/planetoid/raw/master/data/ind.cora.x\n",
      "Downloading https://github.com/kimiyoung/planetoid/raw/master/data/ind.cora.tx\n",
      "Downloading https://github.com/kimiyoung/planetoid/raw/master/data/ind.cora.allx\n",
      "Downloading https://github.com/kimiyoung/planetoid/raw/master/data/ind.cora.y\n",
      "Downloading https://github.com/kimiyoung/planetoid/raw/master/data/ind.cora.ty\n",
      "Downloading https://github.com/kimiyoung/planetoid/raw/master/data/ind.cora.ally\n",
      "Downloading https://github.com/kimiyoung/planetoid/raw/master/data/ind.cora.graph\n",
      "Downloading https://github.com/kimiyoung/planetoid/raw/master/data/ind.cora.test.index\n"
     ]
    },
    {
     "name": "stdout",
     "output_type": "stream",
     "text": [
      "type(dataset)=<class 'torch_geometric.datasets.planetoid.Planetoid'>\n",
      "len(dataset)=1\n",
      "dataset.num_classes=7\n",
      "dataset.num_node_features=1433\n",
      "dataset[0]=Data(x=[2708, 1433], edge_index=[2, 10556], y=[2708], train_mask=[2708], val_mask=[2708], test_mask=[2708])\n"
     ]
    },
    {
     "name": "stderr",
     "output_type": "stream",
     "text": [
      "Processing...\n",
      "Done!\n"
     ]
    }
   ],
   "source": [
    "from torch_geometric.datasets import Planetoid\n",
    "dataset = Planetoid(root='./tmp', name='Cora')\n",
    "print(f'{type(dataset)=}',\n",
    "      f'{len(dataset)=}',\n",
    "      f'{dataset.num_classes=}',\n",
    "      f'{dataset.num_node_features=}',\n",
    "      f'{dataset[0]=}',\n",
    "      sep='\\n')"
   ]
  },
  {
   "cell_type": "markdown",
   "metadata": {},
   "source": [
    "## Пакеты графов в PyG"
   ]
  },
  {
   "cell_type": "markdown",
   "metadata": {},
   "source": [
    "Для обучения моделей в мини-пакетном режиме, PyG предоставляет специальный DataLoader. Как и в DGL, пакет представляет из себя один большой граф с блочной матрицей смежности и объединенными матрицами атрибутов/меток.\n",
    "\n",
    "![](assets/01_batch.png)"
   ]
  },
  {
   "cell_type": "code",
   "execution_count": 23,
   "metadata": {},
   "outputs": [],
   "source": [
    "from torch_geometric.loader import DataLoader"
   ]
  },
  {
   "cell_type": "code",
   "execution_count": 32,
   "metadata": {},
   "outputs": [
    {
     "name": "stdout",
     "output_type": "stream",
     "text": [
      "type(batch)=<class 'torch_geometric.data.batch.DataBatch'>\n",
      "batch.num_graphs=32\n",
      "batch=DataBatch(edge_index=[2, 4322], x=[1302, 21], y=[32], batch=[1302], ptr=[33])\n",
      "batch.batch=tensor([ 0,  0,  0,  ..., 31, 31, 31])\n"
     ]
    }
   ],
   "source": [
    "dataset = TUDataset(root='./tmp', use_node_attr=True, name='ENZYMES')\n",
    "loader = DataLoader(dataset, batch_size=32, shuffle=True)\n",
    "batch = next(iter(loader))\n",
    "print(f'{type(batch)=}',\n",
    "      f'{batch.num_graphs=}',\n",
    "      f'{batch=}',\n",
    "      f'{batch.batch=}',\n",
    "      sep='\\n')"
   ]
  },
  {
   "cell_type": "markdown",
   "metadata": {},
   "source": [
    "## Преобразования в PyG"
   ]
  },
  {
   "cell_type": "markdown",
   "metadata": {},
   "source": [
    "В PyG реализован набор преобразований, позволяющий модицицировать имеющиеся данные. Например, в датасете ShapeNet хранятся 17 тыс. облаков точек. При помощи преобразований можно превратить эти облака в графы.\n",
    "\n",
    "Для примера берем случайно сгенерированное облако точек, чтобы не загружать весь датасет."
   ]
  },
  {
   "cell_type": "code",
   "execution_count": 7,
   "metadata": {},
   "outputs": [],
   "source": [
    "import torch as th\n",
    "from torch_geometric.data import Data\n",
    "cloud = Data(x=th.rand(2518, 3), \n",
    "             y=th.zeros(2518).bernoulli(0.8).long(), \n",
    "             pos=th.rand(2518, 3))"
   ]
  },
  {
   "cell_type": "code",
   "execution_count": 8,
   "metadata": {},
   "outputs": [
    {
     "name": "stdout",
     "output_type": "stream",
     "text": [
      "cloud=Data(x=[2518, 3], y=[2518], pos=[2518, 3])\n",
      "knn(cloud)=Data(x=[2518, 3], y=[2518], pos=[2518, 3], edge_index=[2, 15108])\n"
     ]
    }
   ],
   "source": [
    "import torch_geometric.transforms as T\n",
    "\n",
    "knn = T.KNNGraph(k=6)\n",
    "print(f'{cloud=}', \n",
    "      f'{knn(cloud)=}',\n",
    "      sep='\\n')"
   ]
  },
  {
   "cell_type": "code",
   "execution_count": 9,
   "metadata": {},
   "outputs": [
    {
     "name": "stdout",
     "output_type": "stream",
     "text": [
      "cloud.pos=tensor([[0.0654, 0.1714, 0.3693],\n",
      "        [0.6080, 0.0078, 0.4653],\n",
      "        [0.2825, 0.1490, 0.7878],\n",
      "        ...,\n",
      "        [0.7717, 0.6044, 0.6379],\n",
      "        [0.1331, 0.5735, 0.8244],\n",
      "        [0.6317, 0.4830, 0.7066]])\n",
      "T.RandomTranslate(10)(cloud).pos=tensor([[-8.5747,  9.0654,  4.5878],\n",
      "        [-0.9445,  5.7329, -8.9874],\n",
      "        [ 0.7750,  0.0924,  7.1265],\n",
      "        ...,\n",
      "        [ 7.2462, 10.3662,  2.7344],\n",
      "        [ 1.3126, -6.5712,  0.8780],\n",
      "        [-3.6084, -3.0001, -1.1259]])\n"
     ]
    }
   ],
   "source": [
    "print(f'{cloud.pos=}', \n",
    "      f'{T.RandomTranslate(10)(cloud).pos=}',\n",
    "      sep='\\n')"
   ]
  },
  {
   "cell_type": "markdown",
   "metadata": {},
   "source": [
    "## Создание датасета"
   ]
  },
  {
   "cell_type": "markdown",
   "metadata": {},
   "source": [
    "Для создания датасетов существуют два абстрактных класса: `Dataset` и `InMemoryDataset`. Второй вариант следует использовать, если датасет целиком влезает в память.\n",
    "\n",
    "По аналогии с `torchvision` авторы PyG предлагают определять папки для хранения данных (`raw_dir` и `processed_dir`) и параметры для преобразований: `pre_transform` (используется перед сохранением данных на диск, удобно для тяжелых одноразовых операций), `transform` (используется для модификации данных перед их получением, удобно для аугментации).\n",
    "\n",
    "Еще один параметр - `pre_filter` - нужен для опциональной фильтрации объектов перед сохранением на диск.\n",
    "\n",
    "При создании `InMemoryDataset` нужно определить свойства и методы:\n",
    "1. property: raw_file_names(): список файлов в `raw_dir`; если эти файлы есть, то пропускаем загрузку данных;\n",
    "2. property: processed_file_names(): список файлов в `processed_dir`; если эти файлы есть, то пропускаем подготовку данных;\n",
    "3. download(): для скачивания файлов в `raw_dir`;\n",
    "4. process(): для преобразования данных и сохранения в `processed_dir`.\n",
    "\n",
    "Если не определять `download()` или `process()`, то соответствующий шаг будет пропущен."
   ]
  },
  {
   "cell_type": "code",
   "execution_count": 35,
   "metadata": {},
   "outputs": [],
   "source": [
    "from torch_geometric.data import InMemoryDataset, Data\n",
    "import networkx as nx\n",
    "import numpy as np\n",
    "import torch\n",
    "\n",
    "class CustomKarateClub(InMemoryDataset):\n",
    "    def __init__(self, root, transform=None):\n",
    "        super().__init__(root, transform, None, None)\n",
    "        self.data, self.slices = torch.load(self.processed_paths[0])\n",
    "\n",
    "    def __repr__(self):\n",
    "        return '{}()'.format(self.__class__.__name__)\n",
    "\n",
    "    @property\n",
    "    def processed_file_names(self):\n",
    "        return ['karate.pt']\n",
    "\n",
    "    def process(self):\n",
    "        G = nx.karate_club_graph()\n",
    "        communities = nx.algorithms.community.modularity_max.greedy_modularity_communities(G)\n",
    "        colors = np.zeros(G.number_of_nodes())\n",
    "        for i, com in enumerate(communities):\n",
    "            colors[list(com)] = i\n",
    "\n",
    "        self.n_classes = np.unique(colors).shape[0]\n",
    "\n",
    "        X = torch.eye(G.number_of_nodes()).float()\n",
    "        y = torch.from_numpy(colors).long()\n",
    "\n",
    "        adj = nx.to_scipy_sparse_array(G).tocoo()\n",
    "        row = torch.from_numpy(adj.row).to(torch.long)\n",
    "        col = torch.from_numpy(adj.col).to(torch.long)\n",
    "        edge_index = torch.stack([row, col], dim=0)\n",
    "\n",
    "        g = Data(x=X, y=y, edge_index=edge_index)\n",
    "\n",
    "        data, slices = self.collate([g])\n",
    "        torch.save((data, slices), self.processed_paths[0])"
   ]
  },
  {
   "cell_type": "code",
   "execution_count": 36,
   "metadata": {},
   "outputs": [],
   "source": [
    "dataset = CustomKarateClub('./tmp')"
   ]
  },
  {
   "cell_type": "code",
   "execution_count": null,
   "metadata": {},
   "outputs": [],
   "source": []
  }
 ],
 "metadata": {
  "interpreter": {
   "hash": "b06e6ab994fc15ce23aa05c7ffef0f9130e5f92563bdff97ffc0fa050e903d35"
  },
  "kernelspec": {
   "display_name": "Python 3.8.8 64-bit ('gcn': conda)",
   "language": "python",
   "name": "python3"
  },
  "language_info": {
   "codemirror_mode": {
    "name": "ipython",
    "version": 3
   },
   "file_extension": ".py",
   "mimetype": "text/x-python",
   "name": "python",
   "nbconvert_exporter": "python",
   "pygments_lexer": "ipython3",
   "version": "3.10.4"
  },
  "orig_nbformat": 2
 },
 "nbformat": 4,
 "nbformat_minor": 2
}
