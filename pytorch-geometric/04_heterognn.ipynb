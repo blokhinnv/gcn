{
 "cells": [
  {
   "cell_type": "markdown",
   "metadata": {},
   "source": [
    "Обычные модели GNN не могут быть использованы для работы с гетерографами, т.к. атрибуты разных типов узлов/связей не могут нормально обрабатываться одними и теми же функциями. \n",
    "\n",
    "Интуитивно очевидный вариант: реализовать независимые процедуры рассылки сообщений для каждого типа связей.\n",
    "\n",
    "PyG предоставляет три способа создания моделей для работы с гетерографами:\n",
    "1. Автоматическое преобразование обычной модели к модели, работающий с гетерографами (`nn.to_hetero()`, `nn.to_hetero_with_bases()`)\n",
    "2. Описаний функций для разных типов связей при помощи `nn.conv.HeteroConv`;\n",
    "3. Использование готовых или создание новых гетерогенных операторов."
   ]
  },
  {
   "cell_type": "markdown",
   "metadata": {},
   "source": [
    "## Автоматическое преобразование"
   ]
  },
  {
   "cell_type": "markdown",
   "metadata": {},
   "source": [
    "Пока что не работает :("
   ]
  },
  {
   "cell_type": "markdown",
   "metadata": {},
   "source": [
    "PyG дает возможность автоматически конвертировать любую PyG GNN модель в гетерогенную модель."
   ]
  },
  {
   "cell_type": "code",
   "execution_count": 1,
   "metadata": {},
   "outputs": [
    {
     "name": "stderr",
     "output_type": "stream",
     "text": [
      "E:\\anaconda3\\envs\\gcn\\lib\\site-packages\\tqdm\\auto.py:22: TqdmWarning: IProgress not found. Please update jupyter and ipywidgets. See https://ipywidgets.readthedocs.io/en/stable/user_install.html\n",
      "  from .autonotebook import tqdm as notebook_tqdm\n"
     ]
    }
   ],
   "source": [
    "import torch_geometric.transforms as T\n",
    "from torch_geometric.nn import SAGEConv, to_hetero\n",
    "import torch"
   ]
  },
  {
   "cell_type": "code",
   "execution_count": 66,
   "metadata": {},
   "outputs": [],
   "source": [
    "class GNN(torch.nn.Module):\n",
    "    def __init__(self, hidden_channels, out_channels):\n",
    "        super().__init__()\n",
    "        # PyG позволяет использовать отложенную инициализацию\n",
    "        # размерностей; это удобно для гетерографов, где размерности\n",
    "        # для разных типов могут меняться\n",
    "        self.conv1 = SAGEConv((-1, -1), hidden_channels)\n",
    "        self.conv2 = SAGEConv((-1, -1), out_channels)\n",
    "\n",
    "    def forward(self, x, edge_index):\n",
    "        # forward описываем так же, как описывали бы\n",
    "        # для обычной модели\n",
    "        x = self.conv1(x, edge_index).relu()\n",
    "        x = self.conv2(x, edge_index)\n",
    "        return x"
   ]
  },
  {
   "cell_type": "code",
   "execution_count": 56,
   "metadata": {},
   "outputs": [
    {
     "data": {
      "text/plain": [
       "(['v0', 'v1'],\n",
       " [('v1', 'e0', 'v1'),\n",
       "  ('v0', 'e0', 'v0'),\n",
       "  ('v0', 'e0', 'v1'),\n",
       "  ('v1', 'rev_e0', 'v0')])"
      ]
     },
     "execution_count": 56,
     "metadata": {},
     "output_type": "execute_result"
    }
   ],
   "source": [
    "# создадим небольшой синтетический датасет для предсказания классов узлов\n",
    "num_classes = 6\n",
    "dataset = FakeHeteroDataset(num_graphs=1,\n",
    "                            num_node_types=2,\n",
    "                            num_edge_types=3,\n",
    "                            num_classes=num_classes,\n",
    "                            task='node',\n",
    "                            transform=T.ToUndirected())\n",
    "data = dataset[0]\n",
    "# будем предсказывать класс узлов v0\n",
    "# для порядка разобьем все узлы на обучающее и тестовое множество\n",
    "data['v0']['train_mask'] = torch.zeros(data['v0']['x'].shape[0]).bernoulli(0.8).bool()\n",
    "data.metadata()"
   ]
  },
  {
   "cell_type": "code",
   "execution_count": null,
   "metadata": {},
   "outputs": [],
   "source": []
  },
  {
   "cell_type": "code",
   "execution_count": 67,
   "metadata": {},
   "outputs": [
    {
     "name": "stdout",
     "output_type": "stream",
     "text": [
      "epoch=  0 loss.item()=1.95\n",
      "epoch=  5 loss.item()=1.48\n",
      "epoch= 10 loss.item()=1.21\n",
      "epoch= 15 loss.item()=0.94\n",
      "epoch= 20 loss.item()=0.68\n",
      "epoch= 25 loss.item()=0.44\n",
      "epoch= 30 loss.item()=0.26\n",
      "epoch= 35 loss.item()=0.15\n",
      "epoch= 40 loss.item()=0.09\n",
      "epoch= 45 loss.item()=0.05\n"
     ]
    }
   ],
   "source": [
    "model = GNN(hidden_channels=64, out_channels=num_classes)\n",
    "model = to_hetero(model, data.metadata(), aggr='sum')\n",
    "\n",
    "# инициализируем размерности\n",
    "with torch.no_grad():\n",
    "     model(data.x_dict, data.edge_index_dict)\n",
    "\n",
    "# основной цикл обучения\n",
    "optimizer = optim.Adam(model.parameters(), lr=0.005, weight_decay=0.001)\n",
    "model.train()\n",
    "for epoch in range(50):\n",
    "     out = model(data.x_dict, data.edge_index_dict)\n",
    "     # out - словарь с ключами - типами узлов\n",
    "     out_v0 = out['v0']\n",
    "     mask = data['v0'].train_mask\n",
    "     loss = F.cross_entropy(out_v0[mask], data['v0'].y[mask])\n",
    "     loss.backward()\n",
    "     optimizer.step()\n",
    "     optimizer.zero_grad()\n",
    "     if not epoch % 5:\n",
    "          print(f'{epoch=:3d} {loss.item()=:.2f}')"
   ]
  },
  {
   "cell_type": "markdown",
   "metadata": {},
   "source": [
    "## Обертка HeteroConv\n",
    "\n",
    "`torch_geometric.nn.conv.HeteroConv` позволяет описывать процесс рассылки сообщений для гетерографов; отличие от автоматического конвертера `to_hetero()` состоит в том, что для разных типов можно использовать различные операторы свертки. "
   ]
  },
  {
   "cell_type": "code",
   "execution_count": 3,
   "metadata": {},
   "outputs": [],
   "source": [
    "import torch_geometric.transforms as T\n",
    "from torch_geometric.nn import HeteroConv, GCNConv, SAGEConv, GATConv, Linear\n",
    "import torch.nn as nn\n",
    "import torch.optim as optim\n",
    "import torch.nn.functional as F\n",
    "import torch\n",
    "from torch_geometric.datasets import FakeHeteroDataset"
   ]
  },
  {
   "cell_type": "code",
   "execution_count": 15,
   "metadata": {},
   "outputs": [
    {
     "data": {
      "text/plain": [
       "(['v0', 'v1'],\n",
       " [('v0', 'e0', 'v0'),\n",
       "  ('v1', 'e0', 'v0'),\n",
       "  ('v1', 'e0', 'v1'),\n",
       "  ('v0', 'rev_e0', 'v1')])"
      ]
     },
     "execution_count": 15,
     "metadata": {},
     "output_type": "execute_result"
    }
   ],
   "source": [
    "num_classes = 6\n",
    "dataset = FakeHeteroDataset(num_graphs=1,\n",
    "                            num_node_types=2,\n",
    "                            num_edge_types=3,\n",
    "                            num_classes=num_classes,\n",
    "                            task='node',\n",
    "                            transform=T.ToUndirected())\n",
    "data = dataset[0]\n",
    "data['v0']['train_mask'] = torch.zeros(data['v0']['x'].shape[0]).bernoulli(0.8).bool()\n",
    "data.metadata()"
   ]
  },
  {
   "cell_type": "code",
   "execution_count": 49,
   "metadata": {},
   "outputs": [],
   "source": [
    "class HeteroGNN(nn.Module):\n",
    "    def __init__(self, hidden_channels, out_channels, num_layers):\n",
    "        super().__init__()\n",
    "\n",
    "        self.convs = nn.ModuleList()\n",
    "        for _ in range(num_layers):\n",
    "            # HeteroConv ждет на вход словарь; ключ - тип связи, значение - оператор свертки\n",
    "            # Важно: если в HeteroConv один из типов узлов не будет указан в качестве destination\n",
    "            # то после проведения гетеросвертки он исчезнет из словаря x_dict\n",
    "            # и произойдет исключение KeyError\n",
    "            conv = HeteroConv({\n",
    "                ('v0', 'e0', 'v0'): GCNConv(-1, hidden_channels),\n",
    "                ('v1', 'e0', 'v0'): SAGEConv((-1, -1), hidden_channels),\n",
    "                ('v0', 'rev_e0', 'v1'): GATConv((-1, -1), hidden_channels),\n",
    "            }, aggr='sum')\n",
    "            self.convs.append(conv)\n",
    "\n",
    "        self.lin = Linear(hidden_channels, out_channels)\n",
    "\n",
    "    def forward(self, x_dict, edge_index_dict):\n",
    "        # тут параметры уже являются словарями\n",
    "        for conv in self.convs:\n",
    "            x_dict = conv(x_dict, edge_index_dict)\n",
    "            # нужно явно прописать нелинейности для всех типов узлов\n",
    "            x_dict = {key: x.relu() for key, x in x_dict.items()}\n",
    "        return self.lin(x_dict['v0'])"
   ]
  },
  {
   "cell_type": "code",
   "execution_count": 53,
   "metadata": {},
   "outputs": [
    {
     "name": "stdout",
     "output_type": "stream",
     "text": [
      "epoch=  0 loss.item()=1.80\n",
      "epoch=  5 loss.item()=1.66\n",
      "epoch= 10 loss.item()=1.43\n",
      "epoch= 15 loss.item()=1.08\n",
      "epoch= 20 loss.item()=0.70\n",
      "epoch= 25 loss.item()=0.34\n",
      "epoch= 30 loss.item()=0.12\n",
      "epoch= 35 loss.item()=0.03\n",
      "epoch= 40 loss.item()=0.01\n",
      "epoch= 45 loss.item()=0.01\n"
     ]
    }
   ],
   "source": [
    "model = HeteroGNN(hidden_channels=64, \n",
    "                  out_channels=num_classes,\n",
    "                  num_layers=2)\n",
    "                  \n",
    "with torch.no_grad():  # инициализируем размерности слоев\n",
    "     out = model(data.x_dict, data.edge_index_dict)\n",
    "\n",
    "optimizer = optim.Adam(model.parameters(), lr=0.005, weight_decay=0.001)\n",
    "model.train()\n",
    "for epoch in range(50):\n",
    "     out = model(data.x_dict, data.edge_index_dict)\n",
    "     mask = data['v0'].train_mask\n",
    "     loss = F.cross_entropy(out[mask], data['v0'].y[mask])\n",
    "     loss.backward()\n",
    "     optimizer.step()\n",
    "     optimizer.zero_grad()\n",
    "     if not epoch % 5:\n",
    "          print(f'{epoch=:3d} {loss.item()=:.2f}')"
   ]
  },
  {
   "cell_type": "markdown",
   "metadata": {},
   "source": [
    "## Специализированные модели\n",
    "\n",
    "Надо отметить, что в PyG их гораздо больше, чем в DGL."
   ]
  },
  {
   "cell_type": "code",
   "execution_count": 3,
   "metadata": {},
   "outputs": [],
   "source": [
    "import torch_geometric.transforms as T\n",
    "from torch_geometric.nn import HeteroConv, GCNConv, SAGEConv, GATConv, Linear, HGTConv\n",
    "import torch.nn as nn\n",
    "import torch.optim as optim\n",
    "import torch.nn.functional as F\n",
    "import torch\n",
    "from torch_geometric.datasets import FakeHeteroDataset"
   ]
  },
  {
   "cell_type": "code",
   "execution_count": 22,
   "metadata": {},
   "outputs": [
    {
     "data": {
      "text/plain": [
       "(['v0', 'v1'], [('v1', 'e0', 'v0'), ('v0', 'e0', 'v0'), ('v1', 'e0', 'v1')])"
      ]
     },
     "execution_count": 22,
     "metadata": {},
     "output_type": "execute_result"
    }
   ],
   "source": [
    "num_classes = 6\n",
    "dataset = FakeHeteroDataset(num_graphs=1,\n",
    "                            num_node_types=2,\n",
    "                            num_edge_types=3,\n",
    "                            num_classes=num_classes,\n",
    "                            task='node',\n",
    "                            )\n",
    "data = dataset[0]\n",
    "data['v0']['train_mask'] = torch.zeros(data['v0']['x'].shape[0]).bernoulli(0.8).bool()\n",
    "data.metadata()"
   ]
  },
  {
   "cell_type": "code",
   "execution_count": 23,
   "metadata": {},
   "outputs": [
    {
     "data": {
      "text/plain": [
       "HeteroData(\n",
       "  \u001b[1mv0\u001b[0m={\n",
       "    x=[1120, 74],\n",
       "    y=[1120],\n",
       "    train_mask=[1120]\n",
       "  },\n",
       "  \u001b[1mv1\u001b[0m={ x=[883, 49] },\n",
       "  \u001b[1m(v1, e0, v0)\u001b[0m={ edge_index=[2, 8791] },\n",
       "  \u001b[1m(v0, e0, v0)\u001b[0m={ edge_index=[2, 11157] },\n",
       "  \u001b[1m(v1, e0, v1)\u001b[0m={ edge_index=[2, 8784] }\n",
       ")"
      ]
     },
     "execution_count": 23,
     "metadata": {},
     "output_type": "execute_result"
    }
   ],
   "source": [
    "data"
   ]
  },
  {
   "cell_type": "code",
   "execution_count": 41,
   "metadata": {},
   "outputs": [],
   "source": [
    "class HGT(torch.nn.Module):\n",
    "    def __init__(self, hidden_channels, out_channels, num_heads, num_layers):\n",
    "        super().__init__()\n",
    "\n",
    "        self.lin_dict = torch.nn.ModuleDict()\n",
    "        # преобразования для каждого типа узлов \n",
    "        # чтобы получить одинаковую размерность\n",
    "        for node_type in data.node_types:\n",
    "            self.lin_dict[node_type] = Linear(-1, hidden_channels)\n",
    "\n",
    "        # набор сверток \n",
    "        self.convs = torch.nn.ModuleList()\n",
    "        for _ in range(num_layers):\n",
    "            # если out_channels HGTConv не будет делиться нацело\n",
    "            # на num_heads, то все сломается\n",
    "            conv = HGTConv(hidden_channels, \n",
    "                           hidden_channels, \n",
    "                           data.metadata(),\n",
    "                           num_heads, \n",
    "                           group='sum')\n",
    "            self.convs.append(conv)\n",
    "\n",
    "        self.lin = Linear(hidden_channels, out_channels)\n",
    "\n",
    "    def forward(self, x_dict, edge_index_dict):\n",
    "        for node_type, x in x_dict.items():\n",
    "            x_dict[node_type] = self.lin_dict[node_type](x).relu_()\n",
    "        for conv in self.convs:\n",
    "            x_dict = conv(x_dict, edge_index_dict)\n",
    "\n",
    "        return self.lin(x_dict['v0'])"
   ]
  },
  {
   "cell_type": "code",
   "execution_count": 43,
   "metadata": {},
   "outputs": [
    {
     "name": "stdout",
     "output_type": "stream",
     "text": [
      "epoch=  0 loss.item()=1.80\n",
      "epoch=  5 loss.item()=1.74\n",
      "epoch= 10 loss.item()=1.60\n",
      "epoch= 15 loss.item()=1.45\n",
      "epoch= 20 loss.item()=1.26\n",
      "epoch= 25 loss.item()=1.04\n",
      "epoch= 30 loss.item()=0.78\n",
      "epoch= 35 loss.item()=0.54\n",
      "epoch= 40 loss.item()=0.53\n",
      "epoch= 45 loss.item()=0.24\n"
     ]
    }
   ],
   "source": [
    "model = HGT(hidden_channels=64, \n",
    "            out_channels=num_classes,\n",
    "            num_heads=1,\n",
    "            num_layers=1)\n",
    "                  \n",
    "with torch.no_grad():  # инициализируем размерности слоев\n",
    "     out = model(data.x_dict, data.edge_index_dict)\n",
    "\n",
    "optimizer = optim.Adam(model.parameters(), lr=0.005, weight_decay=0.001)\n",
    "model.train()\n",
    "for epoch in range(50):\n",
    "     out = model(data.x_dict, data.edge_index_dict)\n",
    "     mask = data['v0'].train_mask\n",
    "     loss = F.cross_entropy(out[mask], data['v0'].y[mask])\n",
    "     loss.backward()\n",
    "     optimizer.step()\n",
    "     optimizer.zero_grad()\n",
    "     if not epoch % 5:\n",
    "          print(f'{epoch=:3d} {loss.item()=:.2f}')"
   ]
  },
  {
   "cell_type": "code",
   "execution_count": null,
   "metadata": {},
   "outputs": [],
   "source": []
  }
 ],
 "metadata": {
  "interpreter": {
   "hash": "b06e6ab994fc15ce23aa05c7ffef0f9130e5f92563bdff97ffc0fa050e903d35"
  },
  "kernelspec": {
   "display_name": "Python 3.10.4 ('gcn')",
   "language": "python",
   "name": "python3"
  },
  "language_info": {
   "codemirror_mode": {
    "name": "ipython",
    "version": 3
   },
   "file_extension": ".py",
   "mimetype": "text/x-python",
   "name": "python",
   "nbconvert_exporter": "python",
   "pygments_lexer": "ipython3",
   "version": "3.10.4"
  },
  "orig_nbformat": 4
 },
 "nbformat": 4,
 "nbformat_minor": 2
}
