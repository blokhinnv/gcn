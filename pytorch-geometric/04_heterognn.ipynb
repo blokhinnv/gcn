{
 "cells": [
  {
   "cell_type": "markdown",
   "metadata": {},
   "source": [
    "Обычные модели GNN не могут быть использованы для работы с гетерографами, т.к. атрибуты разных типов узлов/связей не могут нормально обрабатываться одними и теми же функциями. \n",
    "\n",
    "Интуитивно очевидный вариант: реализовать независимые процедуры рассылки сообщений для каждого типа связей.\n",
    "\n",
    "PyG предоставляет три способа создания моделей для работы с гетерографами:\n",
    "1. Автоматическое преобразование обычной модели к модели, работающий с гетерографами (`nn.to_hetero()`, `nn.to_hetero_with_bases()`)\n",
    "2. Описаний функций для разных типов связей при помощи `nn.conv.HeteroConv`;\n",
    "3. Использование готовых или создание новых гетерогенных операторов."
   ]
  },
  {
   "cell_type": "markdown",
   "metadata": {},
   "source": [
    "## Автоматическое преобразование"
   ]
  },
  {
   "cell_type": "markdown",
   "metadata": {},
   "source": [
    "PyG дает возможность автоматически конвертировать любую PyG GNN модель в гетерогенную модель."
   ]
  },
  {
   "cell_type": "code",
   "execution_count": 1,
   "metadata": {},
   "outputs": [
    {
     "name": "stderr",
     "output_type": "stream",
     "text": [
      "E:\\anaconda3\\envs\\gcn\\lib\\site-packages\\tqdm\\auto.py:22: TqdmWarning: IProgress not found. Please update jupyter and ipywidgets. See https://ipywidgets.readthedocs.io/en/stable/user_install.html\n",
      "  from .autonotebook import tqdm as notebook_tqdm\n"
     ]
    }
   ],
   "source": [
    "import torch_geometric.transforms as T\n",
    "from torch_geometric.datasets import OGB_MAG\n",
    "from torch_geometric.nn import SAGEConv, to_hetero\n",
    "import torch"
   ]
  },
  {
   "cell_type": "code",
   "execution_count": 2,
   "metadata": {},
   "outputs": [],
   "source": [
    "class GNN(torch.nn.Module):\n",
    "    def __init__(self, hidden_channels, out_channels):\n",
    "        super().__init__()\n",
    "        # PyG позволяет использовать отложенную инициализацию\n",
    "        # размерностей; это удобно для гетерографов, где размерности\n",
    "        # для разных типов могут меняться\n",
    "        self.conv1 = SAGEConv((-1, -1), hidden_channels)\n",
    "        self.conv2 = SAGEConv((-1, -1), out_channels)\n",
    "\n",
    "    def forward(self, x, edge_index):\n",
    "        x = self.conv1(x, edge_index).relu()\n",
    "        x = self.conv2(x, edge_index)\n",
    "        return x"
   ]
  },
  {
   "cell_type": "code",
   "execution_count": 3,
   "metadata": {},
   "outputs": [],
   "source": [
    "dataset = OGB_MAG('./tmp', transform=T.ToUndirected(merge=True))\n",
    "data = dataset[0]"
   ]
  },
  {
   "cell_type": "code",
   "execution_count": 4,
   "metadata": {},
   "outputs": [],
   "source": [
    "@torch.no_grad()\n",
    "def init_params():\n",
    "    model(data.x_dict, data.edge_index_dict)"
   ]
  },
  {
   "cell_type": "code",
   "execution_count": 7,
   "metadata": {},
   "outputs": [
    {
     "ename": "AttributeError",
     "evalue": "'NoneType' object has no attribute 'dim'",
     "output_type": "error",
     "traceback": [
      "\u001b[1;31m---------------------------------------------------------------------------\u001b[0m",
      "\u001b[1;31mAttributeError\u001b[0m                            Traceback (most recent call last)",
      "\u001b[1;32me:\\python\\gcn\\pytorch-geometric\\04_heterognn.ipynb Cell 8'\u001b[0m in \u001b[0;36m<cell line: 4>\u001b[1;34m()\u001b[0m\n\u001b[0;32m      <a href='vscode-notebook-cell:/e%3A/python/gcn/pytorch-geometric/04_heterognn.ipynb#ch0000007?line=0'>1</a>\u001b[0m model \u001b[39m=\u001b[39m GNN(hidden_channels\u001b[39m=\u001b[39m\u001b[39m64\u001b[39m, out_channels\u001b[39m=\u001b[39mdataset\u001b[39m.\u001b[39mnum_classes)\n\u001b[0;32m      <a href='vscode-notebook-cell:/e%3A/python/gcn/pytorch-geometric/04_heterognn.ipynb#ch0000007?line=1'>2</a>\u001b[0m model \u001b[39m=\u001b[39m to_hetero(model, data\u001b[39m.\u001b[39mmetadata(), aggr\u001b[39m=\u001b[39m\u001b[39m'\u001b[39m\u001b[39msum\u001b[39m\u001b[39m'\u001b[39m)\n\u001b[1;32m----> <a href='vscode-notebook-cell:/e%3A/python/gcn/pytorch-geometric/04_heterognn.ipynb#ch0000007?line=3'>4</a>\u001b[0m init_params()\n",
      "File \u001b[1;32mE:\\anaconda3\\envs\\gcn\\lib\\site-packages\\torch\\autograd\\grad_mode.py:27\u001b[0m, in \u001b[0;36m_DecoratorContextManager.__call__.<locals>.decorate_context\u001b[1;34m(*args, **kwargs)\u001b[0m\n\u001b[0;32m     <a href='file:///e%3A/anaconda3/envs/gcn/lib/site-packages/torch/autograd/grad_mode.py?line=23'>24</a>\u001b[0m \u001b[39m@functools\u001b[39m\u001b[39m.\u001b[39mwraps(func)\n\u001b[0;32m     <a href='file:///e%3A/anaconda3/envs/gcn/lib/site-packages/torch/autograd/grad_mode.py?line=24'>25</a>\u001b[0m \u001b[39mdef\u001b[39;00m \u001b[39mdecorate_context\u001b[39m(\u001b[39m*\u001b[39margs, \u001b[39m*\u001b[39m\u001b[39m*\u001b[39mkwargs):\n\u001b[0;32m     <a href='file:///e%3A/anaconda3/envs/gcn/lib/site-packages/torch/autograd/grad_mode.py?line=25'>26</a>\u001b[0m     \u001b[39mwith\u001b[39;00m \u001b[39mself\u001b[39m\u001b[39m.\u001b[39mclone():\n\u001b[1;32m---> <a href='file:///e%3A/anaconda3/envs/gcn/lib/site-packages/torch/autograd/grad_mode.py?line=26'>27</a>\u001b[0m         \u001b[39mreturn\u001b[39;00m func(\u001b[39m*\u001b[39margs, \u001b[39m*\u001b[39m\u001b[39m*\u001b[39mkwargs)\n",
      "\u001b[1;32me:\\python\\gcn\\pytorch-geometric\\04_heterognn.ipynb Cell 7'\u001b[0m in \u001b[0;36minit_params\u001b[1;34m()\u001b[0m\n\u001b[0;32m      <a href='vscode-notebook-cell:/e%3A/python/gcn/pytorch-geometric/04_heterognn.ipynb#ch0000012?line=0'>1</a>\u001b[0m \u001b[39m@torch\u001b[39m\u001b[39m.\u001b[39mno_grad()\n\u001b[0;32m      <a href='vscode-notebook-cell:/e%3A/python/gcn/pytorch-geometric/04_heterognn.ipynb#ch0000012?line=1'>2</a>\u001b[0m \u001b[39mdef\u001b[39;00m \u001b[39minit_params\u001b[39m():\n\u001b[1;32m----> <a href='vscode-notebook-cell:/e%3A/python/gcn/pytorch-geometric/04_heterognn.ipynb#ch0000012?line=2'>3</a>\u001b[0m     model(data\u001b[39m.\u001b[39;49mx_dict, data\u001b[39m.\u001b[39;49medge_index_dict)\n",
      "File \u001b[1;32mE:\\anaconda3\\envs\\gcn\\lib\\site-packages\\torch\\fx\\graph_module.py:630\u001b[0m, in \u001b[0;36mGraphModule.recompile.<locals>.wrapped_call\u001b[1;34m(self, *args, **kwargs)\u001b[0m\n\u001b[0;32m    <a href='file:///e%3A/anaconda3/envs/gcn/lib/site-packages/torch/fx/graph_module.py?line=626'>627</a>\u001b[0m \u001b[39mif\u001b[39;00m \u001b[39m\"\u001b[39m\u001b[39meval_with_key\u001b[39m\u001b[39m\"\u001b[39m \u001b[39min\u001b[39;00m topmost_framesummary\u001b[39m.\u001b[39mfilename:\n\u001b[0;32m    <a href='file:///e%3A/anaconda3/envs/gcn/lib/site-packages/torch/fx/graph_module.py?line=627'>628</a>\u001b[0m     \u001b[39mprint\u001b[39m(generate_error_message(topmost_framesummary),\n\u001b[0;32m    <a href='file:///e%3A/anaconda3/envs/gcn/lib/site-packages/torch/fx/graph_module.py?line=628'>629</a>\u001b[0m           file\u001b[39m=\u001b[39msys\u001b[39m.\u001b[39mstderr)\n\u001b[1;32m--> <a href='file:///e%3A/anaconda3/envs/gcn/lib/site-packages/torch/fx/graph_module.py?line=629'>630</a>\u001b[0m \u001b[39mraise\u001b[39;00m e\u001b[39m.\u001b[39mwith_traceback(\u001b[39mNone\u001b[39;00m)\n",
      "\u001b[1;31mAttributeError\u001b[0m: 'NoneType' object has no attribute 'dim'"
     ]
    }
   ],
   "source": [
    "model = GNN(hidden_channels=64, out_channels=dataset.num_classes)\n",
    "model = to_hetero(model, data.metadata(), aggr='sum')\n",
    "\n",
    "init_params()"
   ]
  },
  {
   "cell_type": "code",
   "execution_count": 6,
   "metadata": {},
   "outputs": [
    {
     "data": {
      "text/plain": [
       "{'paper': tensor([[-0.0954,  0.0408, -0.2109,  ...,  0.0616, -0.0277, -0.1338],\n",
       "         [-0.1510, -0.1073, -0.2220,  ...,  0.3458, -0.0277, -0.2185],\n",
       "         [-0.1148, -0.1760, -0.2606,  ...,  0.1731, -0.1564, -0.2780],\n",
       "         ...,\n",
       "         [ 0.0228, -0.0865,  0.0981,  ..., -0.0547, -0.2077, -0.2305],\n",
       "         [-0.2891, -0.2029, -0.1525,  ...,  0.1042,  0.2041, -0.3528],\n",
       "         [-0.0890, -0.0348, -0.2642,  ...,  0.2601, -0.0875, -0.5171]])}"
      ]
     },
     "execution_count": 6,
     "metadata": {},
     "output_type": "execute_result"
    }
   ],
   "source": [
    "data.x_dict"
   ]
  },
  {
   "cell_type": "code",
   "execution_count": 1,
   "metadata": {},
   "outputs": [
    {
     "name": "stderr",
     "output_type": "stream",
     "text": [
      "E:\\anaconda3\\envs\\gcn\\lib\\site-packages\\tqdm\\auto.py:22: TqdmWarning: IProgress not found. Please update jupyter and ipywidgets. See https://ipywidgets.readthedocs.io/en/stable/user_install.html\n",
      "  from .autonotebook import tqdm as notebook_tqdm\n"
     ]
    }
   ],
   "source": [
    "import argparse\n",
    "import os.path as osp\n",
    "\n",
    "import torch\n",
    "import torch.nn.functional as F\n",
    "from torch.nn import ReLU\n",
    "from tqdm import tqdm\n",
    "\n",
    "import torch_geometric.transforms as T\n",
    "from torch_geometric.datasets import OGB_MAG\n",
    "from torch_geometric.loader import HGTLoader, NeighborLoader\n",
    "from torch_geometric.nn import Linear, SAGEConv, Sequential, to_hetero\n",
    "\n",
    "\n",
    "\n",
    "device = torch.device('cpu')\n",
    "\n",
    "\n",
    "transform = T.ToUndirected(merge=True)\n",
    "dataset = OGB_MAG('./tmp', transform=transform)\n",
    "\n",
    "# Already send node features/labels to GPU for faster access during sampling:\n",
    "data = dataset[0].to(device, 'x', 'y')\n",
    "\n",
    "train_input_nodes = ('paper', data['paper'].train_mask)\n",
    "val_input_nodes = ('paper', data['paper'].val_mask)\n",
    "kwargs = {'batch_size': 1024, 'num_workers': 6, 'persistent_workers': True}\n",
    "\n",
    "\n",
    "train_loader = NeighborLoader(data, num_neighbors=[10] * 2, shuffle=True,\n",
    "                                  input_nodes=train_input_nodes, **kwargs)\n",
    "val_loader = NeighborLoader(data, num_neighbors=[10] * 2,\n",
    "                            input_nodes=val_input_nodes, **kwargs)\n",
    "\n",
    "model = Sequential('x, edge_index', [\n",
    "    (SAGEConv((-1, -1), 64), 'x, edge_index -> x'),\n",
    "    ReLU(inplace=True),\n",
    "    (SAGEConv((-1, -1), 64), 'x, edge_index -> x'),\n",
    "    ReLU(inplace=True),\n",
    "    (Linear(-1, dataset.num_classes), 'x -> x'),\n",
    "])\n",
    "model = to_hetero(model, data.metadata(), aggr='sum').to(device)\n",
    "\n",
    "\n",
    "# @torch.no_grad()\n",
    "# def init_params():\n",
    "#     # Initialize lazy parameters via forwarding a single batch to the model:\n",
    "#     batch = next(iter(train_loader))\n",
    "#     batch = batch.to(device, 'edge_index')\n",
    "#     model(batch.x_dict, batch.edge_index_dict)\n",
    "\n",
    "\n",
    "# init_params()  # Initialize parameters."
   ]
  },
  {
   "cell_type": "code",
   "execution_count": 2,
   "metadata": {},
   "outputs": [],
   "source": [
    "@torch.no_grad()\n",
    "def init_params():\n",
    "    # Initialize lazy parameters via forwarding a single batch to the model:\n",
    "    batch = next(iter(train_loader))\n",
    "    batch = batch.to(device, 'edge_index')\n",
    "    model(batch.x_dict, batch.edge_index_dict)\n",
    "\n",
    "\n",
    "init_params()  # Initialize parameters."
   ]
  },
  {
   "cell_type": "code",
   "execution_count": 2,
   "metadata": {},
   "outputs": [
    {
     "ename": "AttributeError",
     "evalue": "'NoneType' object has no attribute 'dim'",
     "output_type": "error",
     "traceback": [
      "\u001b[1;31m---------------------------------------------------------------------------\u001b[0m",
      "\u001b[1;31mAttributeError\u001b[0m                            Traceback (most recent call last)",
      "\u001b[1;32me:\\python\\gcn\\pytorch-geometric\\04_heterognn.ipynb Cell 11'\u001b[0m in \u001b[0;36m<cell line: 7>\u001b[1;34m()\u001b[0m\n\u001b[0;32m      <a href='vscode-notebook-cell:/e%3A/python/gcn/pytorch-geometric/04_heterognn.ipynb#ch0000010?line=0'>1</a>\u001b[0m \u001b[39m@torch\u001b[39m\u001b[39m.\u001b[39mno_grad()\n\u001b[0;32m      <a href='vscode-notebook-cell:/e%3A/python/gcn/pytorch-geometric/04_heterognn.ipynb#ch0000010?line=1'>2</a>\u001b[0m \u001b[39mdef\u001b[39;00m \u001b[39minit_params\u001b[39m():\n\u001b[0;32m      <a href='vscode-notebook-cell:/e%3A/python/gcn/pytorch-geometric/04_heterognn.ipynb#ch0000010?line=2'>3</a>\u001b[0m     \u001b[39m# Initialize lazy parameters via forwarding a single batch to the model:\u001b[39;00m\n\u001b[0;32m      <a href='vscode-notebook-cell:/e%3A/python/gcn/pytorch-geometric/04_heterognn.ipynb#ch0000010?line=3'>4</a>\u001b[0m     model(data\u001b[39m.\u001b[39mx_dict, data\u001b[39m.\u001b[39medge_index_dict)\n\u001b[1;32m----> <a href='vscode-notebook-cell:/e%3A/python/gcn/pytorch-geometric/04_heterognn.ipynb#ch0000010?line=6'>7</a>\u001b[0m init_params()\n",
      "File \u001b[1;32mE:\\anaconda3\\envs\\gcn\\lib\\site-packages\\torch\\autograd\\grad_mode.py:27\u001b[0m, in \u001b[0;36m_DecoratorContextManager.__call__.<locals>.decorate_context\u001b[1;34m(*args, **kwargs)\u001b[0m\n\u001b[0;32m     <a href='file:///e%3A/anaconda3/envs/gcn/lib/site-packages/torch/autograd/grad_mode.py?line=23'>24</a>\u001b[0m \u001b[39m@functools\u001b[39m\u001b[39m.\u001b[39mwraps(func)\n\u001b[0;32m     <a href='file:///e%3A/anaconda3/envs/gcn/lib/site-packages/torch/autograd/grad_mode.py?line=24'>25</a>\u001b[0m \u001b[39mdef\u001b[39;00m \u001b[39mdecorate_context\u001b[39m(\u001b[39m*\u001b[39margs, \u001b[39m*\u001b[39m\u001b[39m*\u001b[39mkwargs):\n\u001b[0;32m     <a href='file:///e%3A/anaconda3/envs/gcn/lib/site-packages/torch/autograd/grad_mode.py?line=25'>26</a>\u001b[0m     \u001b[39mwith\u001b[39;00m \u001b[39mself\u001b[39m\u001b[39m.\u001b[39mclone():\n\u001b[1;32m---> <a href='file:///e%3A/anaconda3/envs/gcn/lib/site-packages/torch/autograd/grad_mode.py?line=26'>27</a>\u001b[0m         \u001b[39mreturn\u001b[39;00m func(\u001b[39m*\u001b[39margs, \u001b[39m*\u001b[39m\u001b[39m*\u001b[39mkwargs)\n",
      "\u001b[1;32me:\\python\\gcn\\pytorch-geometric\\04_heterognn.ipynb Cell 11'\u001b[0m in \u001b[0;36minit_params\u001b[1;34m()\u001b[0m\n\u001b[0;32m      <a href='vscode-notebook-cell:/e%3A/python/gcn/pytorch-geometric/04_heterognn.ipynb#ch0000010?line=0'>1</a>\u001b[0m \u001b[39m@torch\u001b[39m\u001b[39m.\u001b[39mno_grad()\n\u001b[0;32m      <a href='vscode-notebook-cell:/e%3A/python/gcn/pytorch-geometric/04_heterognn.ipynb#ch0000010?line=1'>2</a>\u001b[0m \u001b[39mdef\u001b[39;00m \u001b[39minit_params\u001b[39m():\n\u001b[0;32m      <a href='vscode-notebook-cell:/e%3A/python/gcn/pytorch-geometric/04_heterognn.ipynb#ch0000010?line=2'>3</a>\u001b[0m     \u001b[39m# Initialize lazy parameters via forwarding a single batch to the model:\u001b[39;00m\n\u001b[1;32m----> <a href='vscode-notebook-cell:/e%3A/python/gcn/pytorch-geometric/04_heterognn.ipynb#ch0000010?line=3'>4</a>\u001b[0m     model(data\u001b[39m.\u001b[39;49mx_dict, data\u001b[39m.\u001b[39;49medge_index_dict)\n",
      "File \u001b[1;32mE:\\anaconda3\\envs\\gcn\\lib\\site-packages\\torch\\fx\\graph_module.py:630\u001b[0m, in \u001b[0;36mGraphModule.recompile.<locals>.wrapped_call\u001b[1;34m(self, *args, **kwargs)\u001b[0m\n\u001b[0;32m    <a href='file:///e%3A/anaconda3/envs/gcn/lib/site-packages/torch/fx/graph_module.py?line=626'>627</a>\u001b[0m \u001b[39mif\u001b[39;00m \u001b[39m\"\u001b[39m\u001b[39meval_with_key\u001b[39m\u001b[39m\"\u001b[39m \u001b[39min\u001b[39;00m topmost_framesummary\u001b[39m.\u001b[39mfilename:\n\u001b[0;32m    <a href='file:///e%3A/anaconda3/envs/gcn/lib/site-packages/torch/fx/graph_module.py?line=627'>628</a>\u001b[0m     \u001b[39mprint\u001b[39m(generate_error_message(topmost_framesummary),\n\u001b[0;32m    <a href='file:///e%3A/anaconda3/envs/gcn/lib/site-packages/torch/fx/graph_module.py?line=628'>629</a>\u001b[0m           file\u001b[39m=\u001b[39msys\u001b[39m.\u001b[39mstderr)\n\u001b[1;32m--> <a href='file:///e%3A/anaconda3/envs/gcn/lib/site-packages/torch/fx/graph_module.py?line=629'>630</a>\u001b[0m \u001b[39mraise\u001b[39;00m e\u001b[39m.\u001b[39mwith_traceback(\u001b[39mNone\u001b[39;00m)\n",
      "\u001b[1;31mAttributeError\u001b[0m: 'NoneType' object has no attribute 'dim'"
     ]
    }
   ],
   "source": [
    "@torch.no_grad()\n",
    "def init_params():\n",
    "    # Initialize lazy parameters via forwarding a single batch to the model:\n",
    "    model(data.x_dict, data.edge_index_dict)\n",
    "\n",
    "\n",
    "init_params()  # Initialize parameters."
   ]
  },
  {
   "cell_type": "code",
   "execution_count": null,
   "metadata": {},
   "outputs": [],
   "source": []
  }
 ],
 "metadata": {
  "interpreter": {
   "hash": "b06e6ab994fc15ce23aa05c7ffef0f9130e5f92563bdff97ffc0fa050e903d35"
  },
  "kernelspec": {
   "display_name": "Python 3.10.4 ('gcn')",
   "language": "python",
   "name": "python3"
  },
  "language_info": {
   "codemirror_mode": {
    "name": "ipython",
    "version": 3
   },
   "file_extension": ".py",
   "mimetype": "text/x-python",
   "name": "python",
   "nbconvert_exporter": "python",
   "pygments_lexer": "ipython3",
   "version": "3.10.4"
  },
  "orig_nbformat": 4
 },
 "nbformat": 4,
 "nbformat_minor": 2
}
