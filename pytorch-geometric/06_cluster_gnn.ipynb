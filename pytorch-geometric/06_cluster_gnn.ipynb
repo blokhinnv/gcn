{
 "cells": [
  {
   "cell_type": "markdown",
   "metadata": {},
   "source": [
    "## Инструменты для решения задач на больших графах"
   ]
  },
  {
   "cell_type": "code",
   "execution_count": 1,
   "metadata": {},
   "outputs": [],
   "source": [
    "# несколько удобных функций для описания датасетов\n",
    "def describe_dataset(dataset):\n",
    "    print(f'Dataset: {dataset}:')\n",
    "    print('======================')\n",
    "    print(f'Number of graphs: {len(dataset)}')\n",
    "    print(f'Number of features: {dataset.num_features}')\n",
    "    print(f'Number of classes: {dataset.num_classes}')\n",
    "\n",
    "def describe_graph(g):\n",
    "    print(g)\n",
    "    print('==============================================================')\n",
    "\n",
    "    # Gather some statistics about the graph.\n",
    "    print(f'Number of nodes: {g.num_nodes}')\n",
    "    print(f'Number of edges: {g.num_edges}')\n",
    "    print(f'Average node degree: {g.num_edges / g.num_nodes:.2f}')\n",
    "    if hasattr(g, 'train_mask'):\n",
    "        print(f'Number of training nodes: {g.train_mask.sum()}')\n",
    "        print(f'Training node label rate: {int(g.train_mask.sum()) / g.num_nodes:.2f}')\n",
    "    print(f'Has isolated nodes: {g.has_isolated_nodes()}')\n",
    "    print(f'Has self-loops: {g.has_self_loops()}')\n",
    "    print(f'Is undirected: {g.is_undirected()}')"
   ]
  },
  {
   "cell_type": "code",
   "execution_count": 3,
   "metadata": {},
   "outputs": [
    {
     "name": "stdout",
     "output_type": "stream",
     "text": [
      "Dataset: PubMed():\n",
      "======================\n",
      "Number of graphs: 1\n",
      "Number of features: 500\n",
      "Number of classes: 3\n",
      "Data(x=[19717, 500], edge_index=[2, 88648], y=[19717], train_mask=[19717], val_mask=[19717], test_mask=[19717])\n",
      "==============================================================\n",
      "Number of nodes: 19717\n",
      "Number of edges: 88648\n",
      "Average node degree: 4.50\n",
      "Number of training nodes: 60\n",
      "Training node label rate: 0.00\n",
      "Has isolated nodes: False\n",
      "Has self-loops: False\n",
      "Is undirected: True\n"
     ]
    }
   ],
   "source": [
    "import torch\n",
    "from torch_geometric.datasets import Planetoid\n",
    "from torch_geometric.transforms import NormalizeFeatures\n",
    "\n",
    "dataset = Planetoid(root='./tmp/Planetoid', name='PubMed', transform=NormalizeFeatures())\n",
    "g = dataset[0]\n",
    "describe_dataset(dataset)\n",
    "describe_graph(g)"
   ]
  },
  {
   "cell_type": "markdown",
   "metadata": {},
   "source": [
    "Cluster-GCN работает следующим образом. Сначала граф делится на подграфы при помощи алгоритмов выделения сообществ. После этого, связи между подграфами удаляются, и операцию свертки становится возможным произвести без опасений столкнуться с нехваткой памяти из-за большого кол-ва соседей, которые требуется обработать (neighborhood explosion).\n",
    "\n",
    "Из-за того, что такое удаление связей может негативно сказаться на модели, Cluster-GCN на этапах создания пакетов данных добавляет связи между кластерами узлов (stochastic partitioning):\n",
    "\n",
    "![Cluster-GCN](assets/cluster-gcn-partitioning.png)"
   ]
  },
  {
   "cell_type": "code",
   "execution_count": 9,
   "metadata": {},
   "outputs": [],
   "source": [
    "import torch\n",
    "import torch.nn as nn\n",
    "import torch.optim as optim\n",
    "import torch_geometric.nn as gnn\n",
    "import torch.nn.functional as F\n",
    "\n",
    "class GCN(nn.Module):\n",
    "    def __init__(\n",
    "        self, \n",
    "        n_input: int, \n",
    "        n_hidden_layers: int, \n",
    "        n_hidden: int, \n",
    "        n_out: int,\n",
    "        dropout_p: float = 0.2,\n",
    "        activation: callable = F.relu\n",
    "    ) -> None:\n",
    "        super().__init__()\n",
    "        self.dropout_p = dropout_p\n",
    "        self.layers = nn.ModuleList()\n",
    "        if n_hidden_layers > 1:\n",
    "            self.layers.append(gnn.GCNConv(n_input, n_hidden))\n",
    "            for _ in range(1, n_hidden_layers-1):\n",
    "                self.layers.append(gnn.GCNConv(n_hidden, n_hidden))\n",
    "            self.layers.append(gnn.GCNConv(n_hidden, n_out))\n",
    "        else:\n",
    "            self.layers.append(gnn.GCNConv(n_input, n_out))\n",
    "\n",
    "        self.activation = activation\n",
    "\n",
    "    def forward(self, x, edge_index):\n",
    "        h = x\n",
    "        for idx, layer in enumerate(self.layers):\n",
    "            h = layer(h, edge_index)\n",
    "            if idx != len(self.layers) - 1:\n",
    "                h = self.activation(h)\n",
    "                h = F.dropout(h, p=self.dropout_p, training=self.training)\n",
    "        return h"
   ]
  },
  {
   "cell_type": "code",
   "execution_count": 12,
   "metadata": {},
   "outputs": [
    {
     "name": "stderr",
     "output_type": "stream",
     "text": [
      "Computing METIS partitioning...\n",
      "Done!\n"
     ]
    },
    {
     "name": "stdout",
     "output_type": "stream",
     "text": [
      "GCN(\n",
      "  (layers): ModuleList(\n",
      "    (0): GCNConv(500, 16)\n",
      "    (1): GCNConv(16, 3)\n",
      "  )\n",
      ")\n",
      "Epoch: 000, Loss: 1.0853\n",
      "Epoch: 010, Loss: 0.9542\n",
      "Epoch: 020, Loss: 0.5547\n",
      "Epoch: 030, Loss: 0.3817\n",
      "Epoch: 040, Loss: 0.2095\n",
      "Epoch: 050, Loss: 0.1536\n",
      "Train Acc: 0.9667, Val Acc: 0.7540, Test Acc: 0.7350\n"
     ]
    }
   ],
   "source": [
    "from torch_geometric.loader import ClusterData, ClusterLoader\n",
    "# 1. При помощи ClusterData конвертируем граф в датасет подграфов\n",
    "cluster_g = ClusterData(g, num_parts=128)\n",
    "# 2. Создаем лоадер для стохастического разбиения:\n",
    "train_loader = ClusterLoader(cluster_g, batch_size=32, shuffle=True)\n",
    "# 3. Теперь берем любую модель для классификации узлов и применяем ее, но\n",
    "# вместо обработки всего графа сразу обрабатываем узлы в мини-пакетном режиме\n",
    "model = GCN(\n",
    "    n_input=dataset.num_features, \n",
    "    n_hidden_layers=2, \n",
    "    n_hidden=16,\n",
    "    n_out=dataset.num_classes, \n",
    "    activation=torch.relu,\n",
    "    dropout_p=0.5,\n",
    ")\n",
    "print(model)\n",
    "\n",
    "criterion = nn.CrossEntropyLoss()\n",
    "optimizer = optim.Adam(model.parameters(), lr=.01, weight_decay=5e-4)\n",
    "\n",
    "for epoch in range(51):\n",
    "    for clust_batch in train_loader:\n",
    "        logits = model(clust_batch.x, clust_batch.edge_index)\n",
    "        loss = criterion(logits[clust_batch.train_mask], clust_batch.y[clust_batch.train_mask])\n",
    "        loss.backward()  \n",
    "        optimizer.step()\n",
    "        optimizer.zero_grad()\n",
    "    if epoch % 10 == 0:\n",
    "        print(f'Epoch: {epoch:03d}, Loss: {loss.item():.4f}')\n",
    "\n",
    "preds = model(g.x, g.edge_index).argmax(dim=1)\n",
    "accs = []\n",
    "for mask in [g.train_mask, g.val_mask, g.test_mask]:\n",
    "    correct = preds[mask] == g.y[mask]  \n",
    "    accs.append(int(correct.sum()) / int(mask.sum()))  \n",
    "print(f'Train Acc: {accs[0]:.4f}, Val Acc: {accs[1]:.4f}, Test Acc: {accs[2]:.4f}')"
   ]
  },
  {
   "cell_type": "code",
   "execution_count": null,
   "metadata": {},
   "outputs": [],
   "source": []
  }
 ],
 "metadata": {
  "interpreter": {
   "hash": "b06e6ab994fc15ce23aa05c7ffef0f9130e5f92563bdff97ffc0fa050e903d35"
  },
  "kernelspec": {
   "display_name": "Python 3.10.4 ('gcn')",
   "language": "python",
   "name": "python3"
  },
  "language_info": {
   "codemirror_mode": {
    "name": "ipython",
    "version": 3
   },
   "file_extension": ".py",
   "mimetype": "text/x-python",
   "name": "python",
   "nbconvert_exporter": "python",
   "pygments_lexer": "ipython3",
   "version": "3.10.4"
  },
  "orig_nbformat": 4
 },
 "nbformat": 4,
 "nbformat_minor": 2
}
